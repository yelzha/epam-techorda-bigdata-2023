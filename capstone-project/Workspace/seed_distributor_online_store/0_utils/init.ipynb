{
 "cells": [
  {
   "cell_type": "code",
   "execution_count": 0,
   "metadata": {
    "application/vnd.databricks.v1+cell": {
     "cellMetadata": {
      "byteLimit": 2048000,
      "rowLimit": 10000
     },
     "inputWidgets": {},
     "nuid": "f6afd15f-6035-4f46-bfbc-5d1b4c126006",
     "showTitle": false,
     "title": ""
    }
   },
   "outputs": [],
   "source": [
    "import sys, os\n",
    "sys.path.append(os.path.abspath('/Workspace/Repos/zhastay_yeltay@epam.com/utils/'))\n",
    "\n",
    "from delta.tables import *\n",
    "\n",
    "from init import *\n",
    "init_spark()"
   ]
  },
  {
   "cell_type": "code",
   "execution_count": 0,
   "metadata": {
    "application/vnd.databricks.v1+cell": {
     "cellMetadata": {
      "byteLimit": 2048000,
      "rowLimit": 10000
     },
     "inputWidgets": {},
     "nuid": "933343fa-fdd7-4d7b-ad52-00ae85b6267e",
     "showTitle": false,
     "title": ""
    }
   },
   "outputs": [
    {
     "output_type": "stream",
     "name": "stdout",
     "output_type": "stream",
     "text": [
      "Bronze layer is deleted: False\nSilver layer is deleted: False\nGold layer is deleted: False\nWorking path is deleted: False\n"
     ]
    }
   ],
   "source": [
    "print('Bronze layer is deleted:', dbutils.fs.rm(f\"{bronze}\", recurse=True))\n",
    "print('Silver layer is deleted:', dbutils.fs.rm(f\"{silver}\", recurse=True))\n",
    "print('Gold layer is deleted:', dbutils.fs.rm(f\"{gold}\", recurse=True))\n",
    "\n",
    "print('Working path is deleted:', dbutils.fs.rm(f\"{working_path}\", recurse=True))\n",
    "\n",
    "# print('Bronze layer is created:', dbutils.fs.mkdirs(f'{bronze}'))\n",
    "# print('Silver layer is created:', dbutils.fs.mkdirs(f'{silver}'))\n",
    "# print('Gold layer is created:', dbutils.fs.mkdirs(f'{gold}'))"
   ]
  },
  {
   "cell_type": "code",
   "execution_count": 0,
   "metadata": {
    "application/vnd.databricks.v1+cell": {
     "cellMetadata": {
      "byteLimit": 2048000,
      "implicitDf": true,
      "rowLimit": 10000
     },
     "inputWidgets": {},
     "nuid": "c98e09d5-d34d-4dbd-9aa5-3d7fbcd24fce",
     "showTitle": false,
     "title": ""
    }
   },
   "outputs": [
    {
     "output_type": "execute_result",
     "data": {
      "text/plain": [
       "DataFrame[]"
      ]
     },
     "execution_count": 4,
     "metadata": {},
     "output_type": "execute_result"
    }
   ],
   "source": [
    "dbutils.fs.rm(working_path, recurse=True)\n",
    "\n",
    "spark.sql(f\"DROP SCHEMA IF EXISTS {catalog_name}.{schema_bronze_name} CASCADE\")\n",
    "spark.sql(f\"DROP SCHEMA IF EXISTS {catalog_name}.{schema_silver_name} CASCADE\")\n",
    "spark.sql(f\"DROP SCHEMA IF EXISTS {catalog_name}.{schema_gold_name} CASCADE\")\n",
    "\n",
    "spark.sql(f\"CREATE SCHEMA IF NOT EXISTS {catalog_name}.{schema_bronze_name} MANAGED LOCATION '{bronze}'\")\n",
    "spark.sql(f\"CREATE SCHEMA IF NOT EXISTS {catalog_name}.{schema_silver_name} MANAGED LOCATION '{silver}'\")\n",
    "spark.sql(f\"CREATE SCHEMA IF NOT EXISTS {catalog_name}.{schema_gold_name} MANAGED LOCATION '{bronze}'\")"
   ]
  },
  {
   "cell_type": "markdown",
   "metadata": {
    "application/vnd.databricks.v1+cell": {
     "cellMetadata": {},
     "inputWidgets": {},
     "nuid": "a36b4baa-d209-4c0b-be2d-aec4306f33dc",
     "showTitle": false,
     "title": ""
    }
   },
   "source": [
    "# Bronze"
   ]
  },
  {
   "cell_type": "code",
   "execution_count": 0,
   "metadata": {
    "application/vnd.databricks.v1+cell": {
     "cellMetadata": {
      "byteLimit": 2048000,
      "rowLimit": 10000
     },
     "inputWidgets": {},
     "nuid": "4d029a3f-48a3-4c08-bd0f-1e66e5ceb0dc",
     "showTitle": false,
     "title": ""
    }
   },
   "outputs": [],
   "source": [
    "# addresses\n",
    "bronze_addresses = DeltaTable.createIfNotExists(spark) \\\n",
    "  .addColumn(\"createdOn\", \"TIMESTAMP\") \\\n",
    "  .addColumn(\"city\", \"STRING\") \\\n",
    "  .addColumn(\"state\", \"STRING\") \\\n",
    "  .addColumn(\"country\", \"STRING\") \\\n",
    "  .addColumn(\"id\", \"BIGINT\") \\\n",
    "  .addColumn(\"addressline\", \"STRING\") \\\n",
    "  .location(f\"{bronze}/addresses\") \\\n",
    "  .tableName(f'{catalog_name}.{schema_bronze_name}.addresses', ) \\\n",
    "  .execute()\n",
    "\n",
    "# customers\n",
    "bronze_customers = DeltaTable.createIfNotExists(spark) \\\n",
    "  .addColumn(\"id\", \"BIGINT\") \\\n",
    "  .addColumn(\"type\", \"STRING\") \\\n",
    "  .addColumn(\"status\", \"STRING\") \\\n",
    "  .addColumn(\"CreatedOn\", \"TIMESTAMP\") \\\n",
    "  .location(f\"{bronze}/customers\") \\\n",
    "  .tableName(f'{catalog_name}.{schema_bronze_name}.customers') \\\n",
    "  .execute()\n",
    "\n",
    "\n",
    "# items\n",
    "bronze_items = DeltaTable.createIfNotExists(spark) \\\n",
    "  .addColumn(\"Codes\", \"STRING\") \\\n",
    "  .addColumn(\"Descriptions\", \"STRING\") \\\n",
    "  .addColumn(\"id\", \"BIGINT\") \\\n",
    "  .addColumn(\"price\", \"DECIMAL(10,2)\") \\\n",
    "  .location(f\"{bronze}/items\") \\\n",
    "  .tableName(f'{catalog_name}.{schema_bronze_name}.items') \\\n",
    "  .execute()\n",
    "\n",
    "\n",
    "# order_details\n",
    "bronze_order_details = DeltaTable.createIfNotExists(spark) \\\n",
    "  .addColumn(\"OrderId\", \"BIGINT\") \\\n",
    "  .addColumn(\"ItemId\", \"BIGINT\") \\\n",
    "  .addColumn(\"Quantity\", \"BIGINT\") \\\n",
    "  .location(f\"{bronze}/order_details\") \\\n",
    "  .tableName(f'{catalog_name}.{schema_bronze_name}.order_details') \\\n",
    "  .execute()\n",
    "\n",
    "\n",
    "# orders\n",
    "bronze_orders = DeltaTable.createIfNotExists(spark) \\\n",
    "  .addColumn(\"customerId\", \"BIGINT\") \\\n",
    "  .addColumn(\"createdOn\", \"TIMESTAMP\") \\\n",
    "  .addColumn(\"addressId\", \"BIGINT\") \\\n",
    "  .addColumn(\"deliveryDate\", \"DATE\") \\\n",
    "  .addColumn(\"deliveredOn\", \"DATE\") \\\n",
    "  .addColumn(\"id\", \"BIGINT\") \\\n",
    "  .location(f\"{bronze}/orders\") \\\n",
    "  .tableName(f'{catalog_name}.{schema_bronze_name}.orders') \\\n",
    "  .execute()"
   ]
  },
  {
   "cell_type": "code",
   "execution_count": 0,
   "metadata": {
    "application/vnd.databricks.v1+cell": {
     "cellMetadata": {
      "byteLimit": 2048000,
      "rowLimit": 10000
     },
     "inputWidgets": {},
     "nuid": "e1c5c047-6d4d-4a5e-ba41-e8b6c5e49605",
     "showTitle": false,
     "title": ""
    }
   },
   "outputs": [],
   "source": [
    "# # state-capitals\n",
    "# bronze_state_capitals = DeltaTable.createIfNotExists(spark) \\\n",
    "#   .addColumn(\"city\", \"STRING\") \\\n",
    "#   .addColumn(\"state\", \"STRING\") \\\n",
    "#   .location(f\"{bronze}/state_capital_cities\") \\\n",
    "#   .tableName(f'{catalog_name}.{schema_bronze_name}.state_capital_cities') \\\n",
    "#   .execute()\n",
    "\n",
    "# # state-geocodes\n",
    "# bronze_state_geocodes = DeltaTable.createIfNotExists(spark) \\\n",
    "#   .addColumn(\"region\", \"BIGINT\") \\\n",
    "#   .addColumn(\"division\", \"BIGINT\") \\\n",
    "#   .addColumn(\"state_code\", \"BIGINT\") \\\n",
    "#   .addColumn(\"state\", \"STRING\") \\\n",
    "#   .location(f\"{bronze}/state_geocodes\") \\\n",
    "#   .tableName(f'{catalog_name}.{schema_bronze_name}.state_geocodes') \\\n",
    "#   .execute()\n",
    "\n",
    "# # statistical_areas\n",
    "# bronze_statistical_areas = DeltaTable.createIfNotExists(spark) \\\n",
    "#   .addColumn(\"metropolitan_code\", \"BIGINT\") \\\n",
    "#   .addColumn(\"metropolitan\", \"STRING\") \\\n",
    "#   .addColumn(\"statistical_category\", \"STRING\") \\\n",
    "#   .addColumn(\"city\", \"STRING\") \\\n",
    "#   .addColumn(\"state_code\", \"BIGINT\") \\\n",
    "#   .addColumn(\"place_code\", \"BIGINT\") \\\n",
    "#   .location(f\"{bronze}/statistical_areas\") \\\n",
    "#   .tableName(f'{catalog_name}.{schema_bronze_name}.statistical_areas') \\\n",
    "#   .execute()"
   ]
  },
  {
   "cell_type": "markdown",
   "metadata": {
    "application/vnd.databricks.v1+cell": {
     "cellMetadata": {},
     "inputWidgets": {},
     "nuid": "4167ac57-70f0-4045-9e52-d111a5e3e9ea",
     "showTitle": false,
     "title": ""
    }
   },
   "source": [
    "# Silver"
   ]
  },
  {
   "cell_type": "code",
   "execution_count": 0,
   "metadata": {
    "application/vnd.databricks.v1+cell": {
     "cellMetadata": {
      "byteLimit": 2048000,
      "rowLimit": 10000
     },
     "inputWidgets": {},
     "nuid": "4c5dc6c0-a691-4606-a901-0ef8abaa2aea",
     "showTitle": false,
     "title": ""
    }
   },
   "outputs": [],
   "source": [
    "# addresses\n",
    "silver_addresses = DeltaTable.createIfNotExists(spark) \\\n",
    "  .addColumn(\"created_on\", \"TIMESTAMP\") \\\n",
    "  .addColumn(\"city\", \"STRING\") \\\n",
    "  .addColumn(\"state\", \"STRING\") \\\n",
    "  .addColumn(\"country\", \"STRING\") \\\n",
    "  .addColumn(\"id\", \"BIGINT\") \\\n",
    "  .addColumn(\"addressline\", \"STRING\") \\\n",
    "  .location(f\"{silver}/addresses\") \\\n",
    "  .tableName(f'{catalog_name}.{schema_silver_name}.addresses') \\\n",
    "  .execute()\n",
    "\n",
    "\n",
    "# customers\n",
    "silver_customers = DeltaTable.createIfNotExists(spark) \\\n",
    "  .addColumn(\"id\", \"BIGINT\") \\\n",
    "  .addColumn(\"type\", \"STRING\") \\\n",
    "  .addColumn(\"status\", \"STRING\") \\\n",
    "  .addColumn(\"created_on\", \"TIMESTAMP\") \\\n",
    "  .location(f\"{silver}/customers\") \\\n",
    "  .tableName(f'{catalog_name}.{schema_silver_name}.customers') \\\n",
    "  .execute()\n",
    "\n",
    "\n",
    "# items\n",
    "silver_items = DeltaTable.createIfNotExists(spark) \\\n",
    "  .addColumn(\"codes\", \"STRING\") \\\n",
    "  .addColumn(\"descriptions\", \"STRING\") \\\n",
    "  .addColumn(\"id\", \"BIGINT\") \\\n",
    "  .addColumn(\"price\", \"DECIMAL(10,2)\") \\\n",
    "  .location(f\"{silver}/items\") \\\n",
    "  .tableName(f'{catalog_name}.{schema_silver_name}.items') \\\n",
    "  .execute()\n",
    "\n",
    "\n",
    "# order_details\n",
    "silver_order_details = DeltaTable.createIfNotExists(spark) \\\n",
    "  .addColumn(\"order_id\", \"BIGINT\") \\\n",
    "  .addColumn(\"item_id\", \"BIGINT\") \\\n",
    "  .addColumn(\"quantity\", \"BIGINT\") \\\n",
    "  .location(f\"{silver}/order_details\") \\\n",
    "  .tableName(f'{catalog_name}.{schema_silver_name}.order_details') \\\n",
    "  .execute()\n",
    "\n",
    "\n",
    "# orders\n",
    "silver_orders = DeltaTable.createIfNotExists(spark) \\\n",
    "  .addColumn(\"customer_id\", \"BIGINT\") \\\n",
    "  .addColumn(\"created_on\", \"TIMESTAMP\") \\\n",
    "  .addColumn(\"address_id\", \"BIGINT\") \\\n",
    "  .addColumn(\"delivery_date\", \"DATE\") \\\n",
    "  .addColumn(\"delivered_on\", \"DATE\") \\\n",
    "  .addColumn(\"id\", \"BIGINT\") \\\n",
    "  .location(f\"{silver}/orders\") \\\n",
    "  .tableName(f'{catalog_name}.{schema_silver_name}.orders') \\\n",
    "  .execute()"
   ]
  },
  {
   "cell_type": "code",
   "execution_count": 0,
   "metadata": {
    "application/vnd.databricks.v1+cell": {
     "cellMetadata": {
      "byteLimit": 2048000,
      "rowLimit": 10000
     },
     "inputWidgets": {},
     "nuid": "ef11ee1f-5daf-4fc7-bbee-70d01346a795",
     "showTitle": false,
     "title": ""
    }
   },
   "outputs": [],
   "source": [
    "# addresses_dql\n",
    "silver_addresses_dlq = DeltaTable.createIfNotExists(spark) \\\n",
    "  .addColumn(\"created_on\", \"TIMESTAMP\") \\\n",
    "  .addColumn(\"city\", \"STRING\") \\\n",
    "  .addColumn(\"state\", \"STRING\") \\\n",
    "  .addColumn(\"country\", \"STRING\") \\\n",
    "  .addColumn(\"id\", \"BIGINT\") \\\n",
    "  .addColumn(\"addressline\", \"STRING\") \\\n",
    "  .addColumn(\"is_processed\", \"BOOLEAN\") \\\n",
    "  .addColumn(\"dlq_timestamp\", \"TIMESTAMP\") \\\n",
    "  .location(f\"{silver}/addresses_dlq\") \\\n",
    "  .tableName(f'{catalog_name}.{schema_silver_name}.addresses_dlq') \\\n",
    "  .execute()"
   ]
  },
  {
   "cell_type": "code",
   "execution_count": 0,
   "metadata": {
    "application/vnd.databricks.v1+cell": {
     "cellMetadata": {
      "byteLimit": 2048000,
      "rowLimit": 10000
     },
     "inputWidgets": {},
     "nuid": "b3843063-1378-4af9-acea-35704b9036b7",
     "showTitle": false,
     "title": ""
    }
   },
   "outputs": [],
   "source": [
    "# silver_addressesline_enriched\n",
    "silver_addressline_enriched = DeltaTable.createOrReplace(spark) \\\n",
    "  .addColumn(\"id\", \"INT\") \\\n",
    "  .addColumn(\"addressline\", \"STRING\") \\\n",
    "  .addColumn(\"country\", \"STRING\") \\\n",
    "  .addColumn(\"state\", \"STRING\") \\\n",
    "  .addColumn(\"city\", \"STRING\") \\\n",
    "  .addColumn(\"full_address\", \"STRING\") \\\n",
    "  .addColumn(\"completed_address\", \"STRING\") \\\n",
    "  .addColumn(\"lat\", \"DOUBLE\") \\\n",
    "  .addColumn(\"lng\", \"DOUBLE\") \\\n",
    "  .addColumn(\"postal_code\", \"STRING\") \\\n",
    "  .addColumn(\"county\", \"STRING\") \\\n",
    "  .addColumn(\"neighborhood\", \"STRING\") \\\n",
    "  .location(f\"{silver}/addressline_enriched\") \\\n",
    "  .tableName(f'{catalog_name}.{schema_silver_name}.addressline_enriched') \\\n",
    "  .execute()"
   ]
  },
  {
   "cell_type": "code",
   "execution_count": 0,
   "metadata": {
    "application/vnd.databricks.v1+cell": {
     "cellMetadata": {
      "byteLimit": 2048000,
      "rowLimit": 10000
     },
     "inputWidgets": {},
     "nuid": "9390ba27-915c-4ded-9caa-fe4bccd3431b",
     "showTitle": false,
     "title": ""
    }
   },
   "outputs": [],
   "source": [
    "# state-capitals\n",
    "silver_state_capital_cities = DeltaTable.createIfNotExists(spark) \\\n",
    "  .addColumn(\"city\", \"STRING\") \\\n",
    "  .addColumn(\"state\", \"STRING\") \\\n",
    "  .location(f\"{silver}/state_capital_cities\") \\\n",
    "  .tableName(f'{catalog_name}.{schema_silver_name}.state_capital_cities') \\\n",
    "  .execute()\n",
    "\n",
    "# metropolitan_cities\n",
    "silver_metropolitan_cities = DeltaTable.createIfNotExists(spark) \\\n",
    "  .addColumn(\"city\", \"STRING\") \\\n",
    "  .addColumn(\"state\", \"STRING\") \\\n",
    "  .addColumn(\"metropolitan\", \"STRING\") \\\n",
    "  .location(f\"{silver}/metropolitan_cities\") \\\n",
    "  .tableName(f'{catalog_name}.{schema_silver_name}.metropolitan_cities') \\\n",
    "  .execute()"
   ]
  },
  {
   "cell_type": "markdown",
   "metadata": {
    "application/vnd.databricks.v1+cell": {
     "cellMetadata": {},
     "inputWidgets": {},
     "nuid": "e91b0dea-3081-4feb-9b17-a03130bdda1c",
     "showTitle": false,
     "title": ""
    }
   },
   "source": [
    "# Gold"
   ]
  },
  {
   "cell_type": "code",
   "execution_count": 0,
   "metadata": {
    "application/vnd.databricks.v1+cell": {
     "cellMetadata": {},
     "inputWidgets": {},
     "nuid": "7d0fe729-09f7-4bbc-924b-1ea9b90cc077",
     "showTitle": false,
     "title": ""
    }
   },
   "outputs": [],
   "source": []
  }
 ],
 "metadata": {
  "application/vnd.databricks.v1+notebook": {
   "dashboards": [],
   "environmentMetadata": null,
   "language": "python",
   "notebookMetadata": {
    "mostRecentlyExecutedCommandWithImplicitDF": {
     "commandId": 1219948954308102,
     "dataframes": [
      "_sqldf"
     ]
    },
    "pythonIndentUnit": 4
   },
   "notebookName": "init",
   "widgets": {}
  }
 },
 "nbformat": 4,
 "nbformat_minor": 0
}
