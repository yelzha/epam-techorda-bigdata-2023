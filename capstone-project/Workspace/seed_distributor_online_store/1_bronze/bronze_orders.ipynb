{
 "cells": [
  {
   "cell_type": "code",
   "execution_count": 0,
   "metadata": {
    "application/vnd.databricks.v1+cell": {
     "cellMetadata": {
      "byteLimit": 2048000,
      "rowLimit": 10000
     },
     "inputWidgets": {},
     "nuid": "339d8db8-9582-441e-9777-39f86196c7db",
     "showTitle": false,
     "title": ""
    }
   },
   "outputs": [],
   "source": [
    "import sys, os\n",
    "sys.path.append(os.path.abspath('/Workspace/Repos/zhastay_yeltay@epam.com/utils/'))\n",
    "\n",
    "from delta.tables import *\n",
    "from pyspark.sql import functions as F\n",
    "\n",
    "from init import *\n",
    "init_spark()\n",
    "\n",
    "from util_logger import init_logger\n",
    "dbutils.widgets.text('task', \"test_logger\")\n",
    "logger = init_logger(dbutils.widgets.get('task'))"
   ]
  },
  {
   "cell_type": "markdown",
   "metadata": {
    "application/vnd.databricks.v1+cell": {
     "cellMetadata": {
      "byteLimit": 2048000,
      "rowLimit": 10000
     },
     "inputWidgets": {},
     "nuid": "3b6f791c-60b6-4500-86c7-8ee4f06e7979",
     "showTitle": false,
     "title": ""
    }
   },
   "source": [
    "## Orders"
   ]
  },
  {
   "cell_type": "code",
   "execution_count": 0,
   "metadata": {
    "application/vnd.databricks.v1+cell": {
     "cellMetadata": {
      "byteLimit": 2048000,
      "rowLimit": 10000
     },
     "inputWidgets": {},
     "nuid": "ad0c4522-7b41-483c-9877-20974bea54bb",
     "showTitle": false,
     "title": ""
    }
   },
   "outputs": [
    {
     "output_type": "execute_result",
     "data": {
      "text/plain": [
       "DataFrame[]"
      ]
     },
     "execution_count": 5,
     "metadata": {},
     "output_type": "execute_result"
    }
   ],
   "source": [
    "try:\n",
    "    # Reading updated orders data\n",
    "    orders_df_upd = spark.read.parquet(f\"{source_path}/orders/\")\n",
    "    logger.info(\"Updated orders data read successfully from %s.\", f\"{source_path}/orders/\")\n",
    "\n",
    "    # Accessing the raw Delta table\n",
    "    orders_df_raw = DeltaTable.forPath(spark, f\"{bronze}/orders/\")\n",
    "    logger.info(\"Accessed DeltaTable for raw orders at %s.\", f\"{bronze}/orders/\")\n",
    "\n",
    "    # Performing merge operation\n",
    "    orders_df_raw.alias(\"orders\").merge(\n",
    "        orders_df_upd.alias(\"updates\"), \"orders.id = updates.id\"\n",
    "    ).whenMatchedUpdate(\n",
    "        condition=\"\"\"\n",
    "                orders.customerId != updates.customerId\n",
    "                OR orders.createdOn != updates.createdOn\n",
    "                OR orders.addressId != updates.addressId\n",
    "                OR orders.deliveryDate != updates.deliveryDate\n",
    "                OR orders.deliveredOn != updates.deliveredOn\n",
    "            \"\"\",\n",
    "        set={\n",
    "            \"customerId\": \"updates.customerId\",\n",
    "            \"createdOn\": \"updates.createdOn\",\n",
    "            \"addressId\": \"updates.addressId\",\n",
    "            \"deliveryDate\": \"updates.deliveryDate\",\n",
    "            \"deliveredOn\": \"updates.deliveredOn\",\n",
    "        }\n",
    "    ).whenNotMatchedInsert(\n",
    "        values={\n",
    "            \"customerId\": \"updates.customerId\",\n",
    "            \"createdOn\": \"updates.createdOn\",\n",
    "            \"addressId\": \"updates.addressId\",\n",
    "            \"deliveryDate\": \"updates.deliveryDate\",\n",
    "            \"deliveredOn\": \"updates.deliveredOn\",\n",
    "            \"id\": \"updates.id\",\n",
    "        }\n",
    "    ).execute()\n",
    "    logger.info(\"Merge operation for orders executed successfully.\")\n",
    "\n",
    "except Exception as e:\n",
    "    logger.error(\"An error occurred during the orders data processing: %s\", e)\n",
    "    raise"
   ]
  },
  {
   "cell_type": "code",
   "execution_count": 0,
   "metadata": {
    "application/vnd.databricks.v1+cell": {
     "cellMetadata": {
      "byteLimit": 2048000,
      "rowLimit": 10000
     },
     "inputWidgets": {},
     "nuid": "c74952b1-f928-40d9-aceb-512fb404dfae",
     "showTitle": false,
     "title": ""
    }
   },
   "outputs": [],
   "source": []
  }
 ],
 "metadata": {
  "application/vnd.databricks.v1+notebook": {
   "dashboards": [
    {
     "elements": [],
     "globalVars": {},
     "guid": "",
     "layoutOption": {
      "grid": true,
      "stack": true
     },
     "nuid": "1945317b-526c-43e1-8c53-95c26b5344d6",
     "origId": 328367940062550,
     "title": "Untitled",
     "version": "DashboardViewV1",
     "width": 1024
    }
   ],
   "environmentMetadata": null,
   "language": "python",
   "notebookMetadata": {
    "mostRecentlyExecutedCommandWithImplicitDF": {
     "commandId": 3759760084217200,
     "dataframes": [
      "_sqldf"
     ]
    },
    "pythonIndentUnit": 4
   },
   "notebookName": "bronze_orders",
   "widgets": {}
  }
 },
 "nbformat": 4,
 "nbformat_minor": 0
}
