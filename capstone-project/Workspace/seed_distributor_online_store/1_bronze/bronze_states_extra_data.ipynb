{
 "cells": [
  {
   "cell_type": "code",
   "execution_count": 0,
   "metadata": {
    "application/vnd.databricks.v1+cell": {
     "cellMetadata": {
      "byteLimit": 2048000,
      "rowLimit": 10000
     },
     "inputWidgets": {},
     "nuid": "7fe8d056-e945-4e06-965f-c350801d345d",
     "showTitle": false,
     "title": ""
    }
   },
   "outputs": [],
   "source": [
    "import sys, os\n",
    "sys.path.append(os.path.abspath('/Workspace/Repos/zhastay_yeltay@epam.com/utils/'))\n",
    "\n",
    "from delta.tables import *\n",
    "from pyspark.sql import functions as F\n",
    "\n",
    "from init import *\n",
    "init_spark()\n",
    "\n",
    "from util_logger import init_logger\n",
    "dbutils.widgets.text('task', \"test_logger\")\n",
    "logger = init_logger(dbutils.widgets.get('task'))"
   ]
  },
  {
   "cell_type": "code",
   "execution_count": 0,
   "metadata": {
    "application/vnd.databricks.v1+cell": {
     "cellMetadata": {
      "byteLimit": 2048000,
      "rowLimit": 10000
     },
     "inputWidgets": {},
     "nuid": "54c39cf2-1b11-4b1f-99ff-90fbfbb6c16c",
     "showTitle": false,
     "title": ""
    }
   },
   "outputs": [],
   "source": [
    "logger.info(\"Starting data download and storage operations.\")"
   ]
  },
  {
   "cell_type": "code",
   "execution_count": 0,
   "metadata": {
    "application/vnd.databricks.v1+cell": {
     "cellMetadata": {
      "byteLimit": 2048000,
      "rowLimit": 10000
     },
     "inputWidgets": {},
     "nuid": "7828f957-197a-4c4b-b2be-dc833e260b75",
     "showTitle": false,
     "title": ""
    }
   },
   "outputs": [],
   "source": [
    "# Download and copy state geocodes\n",
    "state_geocodes_url = \"https://www2.census.gov/programs-surveys/popest/geographies/2022/state-geocodes-v2022.xlsx\"\n",
    "destination_path = f\"{working_path}/{schema_bronze_name}/state_geocodes.xlsx\"\n",
    "try:\n",
    "    dbutils.fs.cp(state_geocodes_url, destination_path)\n",
    "    logger.info(f\"Successfully copied state geocodes from {state_geocodes_url} to {destination_path}.\")\n",
    "except Exception as e:\n",
    "    logger.error(f\"Failed to copy state geocodes. Error: {e}\")"
   ]
  },
  {
   "cell_type": "code",
   "execution_count": 0,
   "metadata": {
    "application/vnd.databricks.v1+cell": {
     "cellMetadata": {
      "byteLimit": 2048000,
      "rowLimit": 10000
     },
     "inputWidgets": {},
     "nuid": "10ec6394-1741-44d2-bf2e-408a03b939ae",
     "showTitle": false,
     "title": ""
    }
   },
   "outputs": [],
   "source": [
    "# Download and copy statistical areas data\n",
    "statistical_areas_url = \"https://www2.census.gov/programs-surveys/metro-micro/geographies/reference-files/2023/delineation-files/list2_2023.xlsx\"\n",
    "destination_path = f\"{working_path}/{schema_bronze_name}/statistical_areas.xlsx\"\n",
    "try:\n",
    "    dbutils.fs.cp(statistical_areas_url, destination_path)\n",
    "    logger.info(f\"Successfully copied statistical areas data from {statistical_areas_url} to {destination_path}.\")\n",
    "except Exception as e:\n",
    "    logger.error(f\"Failed to copy statistical areas data. Error: {e}\")"
   ]
  },
  {
   "cell_type": "code",
   "execution_count": 0,
   "metadata": {
    "application/vnd.databricks.v1+cell": {
     "cellMetadata": {
      "byteLimit": 2048000,
      "rowLimit": 10000
     },
     "inputWidgets": {},
     "nuid": "6547fa91-0877-4b7a-bba6-b20b14de861c",
     "showTitle": false,
     "title": ""
    }
   },
   "outputs": [],
   "source": [
    "# Download and copy state capitals data\n",
    "state_capital_cities_url = \"https://cdn.jsdelivr.net/npm/vega-datasets@v1.29.0/data/us-state-capitals.json\"\n",
    "destination_path = f\"{working_path}/{schema_bronze_name}/state_capital_cities.json\"\n",
    "try:\n",
    "    dbutils.fs.cp(state_capital_cities_url, destination_path)\n",
    "    logger.info(f\"Successfully copied state capitals data from {state_capital_cities_url} to {destination_path}.\")\n",
    "except Exception as e:\n",
    "    logger.error(f\"Failed to copy state capitals data. Error: {e}\")"
   ]
  },
  {
   "cell_type": "code",
   "execution_count": 0,
   "metadata": {
    "application/vnd.databricks.v1+cell": {
     "cellMetadata": {},
     "inputWidgets": {},
     "nuid": "f70abc7b-5de0-48ca-b039-0290a86ddbde",
     "showTitle": false,
     "title": ""
    }
   },
   "outputs": [],
   "source": [
    "# Log the completion of all operations\n",
    "logger.info(\"Completed all data download and storage operations.\")"
   ]
  }
 ],
 "metadata": {
  "application/vnd.databricks.v1+notebook": {
   "dashboards": [],
   "environmentMetadata": null,
   "language": "python",
   "notebookMetadata": {
    "pythonIndentUnit": 4
   },
   "notebookName": "bronze_states_extra_data",
   "widgets": {
    "job": {
     "currentValue": "test_logger",
     "nuid": "8a0a0a5e-5f84-4c2b-9c7e-2b3c04d5a14f",
     "typedWidgetInfo": null,
     "widgetInfo": {
      "widgetType": "text",
      "defaultValue": "test_logger",
      "label": null,
      "name": "job",
      "options": {
       "widgetType": "text",
       "autoCreated": null,
       "validationRegex": null
      }
     }
    }
   }
  }
 },
 "nbformat": 4,
 "nbformat_minor": 0
}
