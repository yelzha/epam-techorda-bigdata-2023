{
 "cells": [
  {
   "cell_type": "code",
   "execution_count": 0,
   "metadata": {
    "application/vnd.databricks.v1+cell": {
     "cellMetadata": {
      "byteLimit": 2048000,
      "rowLimit": 10000
     },
     "inputWidgets": {},
     "nuid": "8f9fff29-9c6e-499b-ba45-8d4be370e6e2",
     "showTitle": false,
     "title": ""
    }
   },
   "outputs": [],
   "source": [
    "import sys, os\n",
    "sys.path.append(os.path.abspath('/Workspace/Repos/zhastay_yeltay@epam.com/utils/'))\n",
    "\n",
    "from delta.tables import *\n",
    "from pyspark.sql import functions as F\n",
    "from pyspark.sql.types import StructType, StructField, StringType, TimestampType, IntegerType, DateType, LongType, BooleanType\n",
    "\n",
    "from init import *\n",
    "from udfs import * \n",
    "init_spark()\n",
    "\n",
    "from util_logger import init_logger\n",
    "dbutils.widgets.text('task', \"test_logger\")\n",
    "logger = init_logger(dbutils.widgets.get('task'))"
   ]
  },
  {
   "cell_type": "code",
   "execution_count": 0,
   "metadata": {
    "application/vnd.databricks.v1+cell": {
     "cellMetadata": {
      "byteLimit": 2048000,
      "rowLimit": 10000
     },
     "inputWidgets": {},
     "nuid": "10bb2b0b-1ef0-49c3-9c7b-51c06011402f",
     "showTitle": false,
     "title": ""
    }
   },
   "outputs": [],
   "source": [
    "try:\n",
    "    # Load the DLQ Delta table as DataFrame\n",
    "    logger.info(f\"Loading DLQ Delta table from {silver}/addresses_dlq.\")\n",
    "    dlq_delta = DeltaTable.forPath(spark, f\"{silver}/addresses_dlq/\")\n",
    "    silver_addresses_dlq_df = dlq_delta.toDF()\n",
    "\n",
    "    # Log processing start\n",
    "    logger.info(\"Starting to process unprocessed DLQ entries.\")\n",
    "\n",
    "    # Cleaning and validating the addresses\n",
    "    silver_addresses_df_upd = (\n",
    "        silver_addresses_dlq_df\n",
    "        .filter(F.col('is_processed') == False)\n",
    "        .withColumn(\"city\", clean_text_capitalize_words_udf(F.col(\"city\")))\n",
    "        .withColumn(\"state\", clean_text_capitalize_words_udf(F.col(\"state\")))\n",
    "        .withColumn(\"country\", clean_text_capitalize_words_udf(F.col(\"country\")))\n",
    "        .withColumn(\"country\", F.when(F.col(\"country\") == 'Us', 'US').otherwise(F.col(\"country\")))\n",
    "        .withColumn(\"addressline\", clean_text_capitalize_words_udf(F.col(\"addressline\")))\n",
    "        .withColumn(\n",
    "            'is_valid', \n",
    "            F.col('addressline').rlike(address_pattern)\n",
    "            & ~F.col('addressline').rlike(r'^\\s*\\d+(\\s+\\d+)*\\s*$')  # Checking if there are only numbers\n",
    "            & F.col('city').rlike(city_state_pattern)\n",
    "            & F.col('state').rlike(city_state_pattern)\n",
    "            & (F.col('country') == \"US\")\n",
    "        )\n",
    "    )\n",
    "\n",
    "    # Filter out valid and invalid addresses\n",
    "    valid_dlq = silver_addresses_df_upd.filter(F.col('is_valid'))\n",
    "    invalid_dlq = silver_addresses_df_upd.exceptAll(valid_dlq)\n",
    "\n",
    "    # Log the outcome\n",
    "    logger.info(f\"Processed DLQ.\")\n",
    "\n",
    "except Exception as e:\n",
    "    logger.error(\"An error occurred while processing DLQ entries.\", exc_info=True)\n",
    "    raise"
   ]
  },
  {
   "cell_type": "code",
   "execution_count": 0,
   "metadata": {
    "application/vnd.databricks.v1+cell": {
     "cellMetadata": {
      "byteLimit": 2048000,
      "rowLimit": 10000
     },
     "inputWidgets": {},
     "nuid": "7abeb4cc-d4ad-4ea7-b138-2de9aeb0d3ca",
     "showTitle": false,
     "title": ""
    }
   },
   "outputs": [],
   "source": [
    "try:\n",
    "    # Load the Silver Delta table for addresses\n",
    "    logger.info(f\"Loading Silver Delta table for addresses from {silver}/addresses.\")\n",
    "    silver_addresses_df = DeltaTable.forPath(spark, f\"{silver}/addresses/\")\n",
    "\n",
    "    # Log the start of the merge operation\n",
    "    logger.info(\"Starting merge operation for validated DLQ entries into the main Silver addresses table.\")\n",
    "    silver_addresses_df.alias(\"addresses\").merge(\n",
    "        valid_dlq.alias(\"updates\"), \"addresses.id = updates.id\"\n",
    "    ).whenMatchedUpdate(\n",
    "        condition=\"\"\"\n",
    "                addresses.created_on != updates.created_on\n",
    "                OR addresses.city != updates.city\n",
    "                OR addresses.state != updates.state\n",
    "                OR addresses.country != updates.country\n",
    "                OR addresses.addressline != updates.addressline\n",
    "            \"\"\",\n",
    "        set={\n",
    "            \"created_on\": \"updates.created_on\",\n",
    "            \"city\": \"updates.city\",\n",
    "            \"state\": \"updates.state\",\n",
    "            \"country\": \"updates.country\",\n",
    "            \"addressline\": \"updates.addressline\"\n",
    "        },\n",
    "    ).whenNotMatchedInsert(\n",
    "        values={\n",
    "            \"created_on\": \"updates.created_on\",\n",
    "            \"city\": \"updates.city\",\n",
    "            \"state\": \"updates.state\",\n",
    "            \"country\": \"updates.country\",\n",
    "            \"id\": \"updates.id\",\n",
    "            \"addressline\": \"updates.addressline\"\n",
    "        }\n",
    "    ).execute()\n",
    "\n",
    "    # Log the successful completion of the merge operation\n",
    "    logger.info(\"Merge operation for validated DLQ entries completed successfully.\")\n",
    "\n",
    "except Exception as e:\n",
    "    logger.error(\"An error occurred during the merge operation for DLQ entries.\", exc_info=True)\n",
    "    raise"
   ]
  },
  {
   "cell_type": "code",
   "execution_count": 0,
   "metadata": {
    "application/vnd.databricks.v1+cell": {
     "cellMetadata": {
      "byteLimit": 2048000,
      "rowLimit": 10000
     },
     "inputWidgets": {},
     "nuid": "bceb73fe-7e8d-4a6d-be0a-055e173d9a91",
     "showTitle": false,
     "title": ""
    }
   },
   "outputs": [],
   "source": [
    "try:\n",
    "    # Load the DLQ Delta table\n",
    "    logger.info(\"Accessing the DLQ Delta table to update entries.\")\n",
    "    dlq_delta = DeltaTable.forPath(spark, f\"{silver}/addresses_dlq/\")\n",
    "\n",
    "    # Log the start of the merge operation to delete valid processed entries\n",
    "    logger.info(\"Starting merge operation to delete valid entries from the DLQ and update remaining entries.\")\n",
    "    (\n",
    "        dlq_delta.alias(\"dlq\").merge(\n",
    "            valid_dlq.alias(\"valid\"), \"dlq.id = valid.id\"\n",
    "        )\n",
    "        .whenMatchedDelete()\n",
    "        .whenNotMatchedBySourceUpdate(set={\n",
    "            \"is_processed\": \"True\"\n",
    "        })\n",
    "        .execute()\n",
    "    )\n",
    "\n",
    "    # Log successful completion of updating DLQ\n",
    "    logger.info(\"DLQ has been successfully updated. Valid entries deleted and unprocessed entries marked as processed.\")\n",
    "\n",
    "except Exception as e:\n",
    "    logger.error(\"An error occurred during the updating of the DLQ.\", exc_info=True)\n",
    "    raise"
   ]
  },
  {
   "cell_type": "code",
   "execution_count": 0,
   "metadata": {
    "application/vnd.databricks.v1+cell": {
     "cellMetadata": {},
     "inputWidgets": {},
     "nuid": "d212ee30-88bb-416a-a598-f015abd2eefd",
     "showTitle": false,
     "title": ""
    }
   },
   "outputs": [],
   "source": []
  }
 ],
 "metadata": {
  "application/vnd.databricks.v1+notebook": {
   "dashboards": [],
   "environmentMetadata": null,
   "language": "python",
   "notebookMetadata": {
    "mostRecentlyExecutedCommandWithImplicitDF": {
     "commandId": 174236279164890,
     "dataframes": [
      "_sqldf"
     ]
    },
    "pythonIndentUnit": 4
   },
   "notebookName": "silver_addresses_dlq",
   "widgets": {
    "task": {
     "currentValue": "test_logger",
     "nuid": "ed394c42-8e95-4fe8-99b4-876e0e5ffaa5",
     "typedWidgetInfo": null,
     "widgetInfo": {
      "widgetType": "text",
      "defaultValue": "test_logger",
      "label": null,
      "name": "task",
      "options": {
       "widgetType": "text",
       "autoCreated": null,
       "validationRegex": null
      }
     }
    }
   }
  }
 },
 "nbformat": 4,
 "nbformat_minor": 0
}
