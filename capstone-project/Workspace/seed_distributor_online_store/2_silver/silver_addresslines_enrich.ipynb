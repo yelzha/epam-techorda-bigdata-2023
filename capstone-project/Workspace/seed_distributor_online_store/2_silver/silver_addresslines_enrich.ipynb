{
 "cells": [
  {
   "cell_type": "code",
   "execution_count": 0,
   "metadata": {
    "application/vnd.databricks.v1+cell": {
     "cellMetadata": {
      "byteLimit": 2048000,
      "rowLimit": 10000
     },
     "inputWidgets": {},
     "nuid": "d510124d-92e1-4fff-b9f3-d0258a43db07",
     "showTitle": false,
     "title": ""
    }
   },
   "outputs": [
    {
     "output_type": "stream",
     "name": "stdout",
     "output_type": "stream",
     "text": [
      "\u001B[43mNote: you may need to restart the kernel using dbutils.library.restartPython() to use updated packages.\u001B[0m\nRequirement already satisfied: geocoder in /local_disk0/.ephemeral_nfs/envs/pythonEnv-d2b300e4-5a6e-4880-b8a9-9ccc6454b254/lib/python3.10/site-packages (1.38.1)\nCollecting tqdm\n  Using cached tqdm-4.66.4-py3-none-any.whl (78 kB)\nRequirement already satisfied: future in /local_disk0/.ephemeral_nfs/envs/pythonEnv-d2b300e4-5a6e-4880-b8a9-9ccc6454b254/lib/python3.10/site-packages (from geocoder) (1.0.0)\nRequirement already satisfied: six in /usr/lib/python3/dist-packages (from geocoder) (1.16.0)\nRequirement already satisfied: click in /databricks/python3/lib/python3.10/site-packages (from geocoder) (8.0.4)\nRequirement already satisfied: requests in /databricks/python3/lib/python3.10/site-packages (from geocoder) (2.28.1)\nRequirement already satisfied: ratelim in /local_disk0/.ephemeral_nfs/envs/pythonEnv-d2b300e4-5a6e-4880-b8a9-9ccc6454b254/lib/python3.10/site-packages (from geocoder) (0.1.6)\nRequirement already satisfied: decorator in /databricks/python3/lib/python3.10/site-packages (from ratelim->geocoder) (5.1.1)\nRequirement already satisfied: charset-normalizer<3,>=2 in /databricks/python3/lib/python3.10/site-packages (from requests->geocoder) (2.0.4)\nRequirement already satisfied: certifi>=2017.4.17 in /databricks/python3/lib/python3.10/site-packages (from requests->geocoder) (2022.12.7)\nRequirement already satisfied: idna<4,>=2.5 in /databricks/python3/lib/python3.10/site-packages (from requests->geocoder) (3.4)\nRequirement already satisfied: urllib3<1.27,>=1.21.1 in /databricks/python3/lib/python3.10/site-packages (from requests->geocoder) (1.26.14)\nInstalling collected packages: tqdm\nSuccessfully installed tqdm-4.66.4\n\u001B[43mNote: you may need to restart the kernel using dbutils.library.restartPython() to use updated packages.\u001B[0m\n"
     ]
    }
   ],
   "source": [
    "!pip install geocoder python-Levenshtein"
   ]
  },
  {
   "cell_type": "code",
   "execution_count": 0,
   "metadata": {
    "application/vnd.databricks.v1+cell": {
     "cellMetadata": {
      "byteLimit": 2048000,
      "rowLimit": 10000
     },
     "inputWidgets": {},
     "nuid": "413de39a-6da0-4687-bdbb-d7f688de7109",
     "showTitle": false,
     "title": ""
    }
   },
   "outputs": [],
   "source": [
    "import sys, os\n",
    "sys.path.append(os.path.abspath('/Workspace/Repos/zhastay_yeltay@epam.com/utils/'))\n",
    "\n",
    "from delta.tables import *\n",
    "from pyspark.sql import functions as F\n",
    "import requests\n",
    "import geocoder\n",
    "from pyspark.sql.types import StructType, StructField, DoubleType, StringType, LongType\n",
    "\n",
    "from pyspark.sql.window import Window\n",
    "from pyspark.sql import DataFrame\n",
    "\n",
    "import pandas as pd\n",
    "\n",
    "\n",
    "from init import *\n",
    "init_spark()\n",
    "\n",
    "from util_logger import init_logger\n",
    "dbutils.widgets.text('task', \"test_logger\")\n",
    "logger = init_logger(dbutils.widgets.get('task'))"
   ]
  },
  {
   "cell_type": "code",
   "execution_count": 0,
   "metadata": {
    "application/vnd.databricks.v1+cell": {
     "cellMetadata": {
      "byteLimit": 2048000,
      "rowLimit": 10000
     },
     "inputWidgets": {},
     "nuid": "2a3d82da-0995-45e0-8331-9574d53bce0d",
     "showTitle": false,
     "title": ""
    }
   },
   "outputs": [
    {
     "output_type": "stream",
     "name": "stdout",
     "output_type": "stream",
     "text": [
      "(48.0535013, -122.7730743, '98368', 'Jefferson County', None, '1 N Stromberg Ave, Port Townsend, WA 98368')\n(48.028846, -122.824346, '98368', 'Jefferson County', None, '4932 State Route 20, Port Townsend, WA 98368')\n(48.062968, -122.818718, '98368', 'Jefferson County', None, '7266 State Route 20, Port Townsend, WA 98368')\n(47.6494049, -122.9346286, None, 'Jefferson County', None, 'US Highway 101, Brinnon, WA')\n(47.6494049, -122.9346286, None, 'Jefferson County', None, 'US Highway 101, Brinnon, WA')\n"
     ]
    }
   ],
   "source": [
    "def get_address_info(address):\n",
    "    try:\n",
    "        g = geocoder.bing(address, key='YOUR-API-KEY')\n",
    "        data = g.json\n",
    "        return (\n",
    "            data['lat'] if 'lat' in data else None,\n",
    "            data['lng'] if 'lng' in data else None,\n",
    "            data['postal'] if 'postal' in data else None,\n",
    "            data['raw']['address']['adminDistrict2'] if 'adminDistrict2' in data['raw']['address'] else None,\n",
    "            data['neighborhood'] if 'neighborhood' in data else None,\n",
    "            data['address'] if 'address' in data else None\n",
    "        )\n",
    "    except Exception as e:\n",
    "        print(f'address: {address}, {str(e)}')\n",
    "        return (None, None, None, None, None, None)\n",
    "    \n",
    "coord_schema = StructType([\n",
    "    StructField(\"lat\", DoubleType(), True),\n",
    "    StructField(\"lng\", DoubleType(), True),\n",
    "    StructField(\"postal_code\", StringType(), True),\n",
    "    StructField(\"county\", StringType(), True),\n",
    "    StructField(\"neighborhood\", StringType(), True),\n",
    "    StructField(\"completed_address\", StringType(), True),\n",
    "])\n",
    "\n",
    "get_address_info_udf = F.udf(get_address_info, coord_schema)\n",
    "\n",
    "print(get_address_info('1 Boren Ave, Port Townsend, Washington, US'))\n",
    "print(get_address_info('4932 20, Port Townsend, Washington'))\n",
    "print(get_address_info('7266 20, Port Townsend, Washington'))\n",
    "print(get_address_info('313782 Us 101 street, Brinnon city, Washington state, US country'))\n",
    "print(get_address_info('304753 Us 101 street, Brinnon city, Washington state, US country'))\n",
    "\n"
   ]
  },
  {
   "cell_type": "code",
   "execution_count": 0,
   "metadata": {
    "application/vnd.databricks.v1+cell": {
     "cellMetadata": {
      "byteLimit": 2048000,
      "rowLimit": 10000
     },
     "inputWidgets": {},
     "nuid": "37a3cde4-6eac-43e1-ab55-0613f77481ac",
     "showTitle": false,
     "title": ""
    }
   },
   "outputs": [
    {
     "output_type": "stream",
     "name": "stdout",
     "output_type": "stream",
     "text": [
      "10319 Northeast 114th Place, Kirkland, WA 98033\n10319 NE 114th Pl, Kirkland, Washington 98033\n"
     ]
    }
   ],
   "source": [
    "street_mapping = {\n",
    "    'N': 'North',\n",
    "    'S': 'South',\n",
    "    'W': 'West',\n",
    "    'E': 'East',\n",
    "    'NW': 'Northwest',\n",
    "    'NE': 'Northeast',\n",
    "    'SW': 'Southwest',\n",
    "    'SE': 'Southeast',\n",
    "    'Ave': 'Avenue',\n",
    "    'St': 'Street',\n",
    "    'Rd': 'Road',\n",
    "    'Dr': 'Drive',\n",
    "    'Pl': 'Place',\n",
    "    'Ln': 'Lane',\n",
    "    'Way': 'Way',  # 'Way' does not need abbreviation\n",
    "    'Blvd': 'Boulevard',\n",
    "    'Ct': 'Court',\n",
    "    'Hwy': 'Highway',\n",
    "    'Pkwy': 'Parkway'\n",
    "}\n",
    "\n",
    "def expand_street_names(address):\n",
    "    result = []\n",
    "    address = address.replace(' street', '')\n",
    "    for word in address.split():\n",
    "        if word[-1] == ',':\n",
    "            cleaned_word = word.replace(',', '').strip()\n",
    "            mapped = street_mapping.get(cleaned_word, cleaned_word)+','\n",
    "        else:\n",
    "            mapped = street_mapping.get(word, word)\n",
    "        result.append(mapped)\n",
    "    return ' '.join(result)\n",
    "\n",
    "expand_street_names_udf = udf(expand_street_names, StringType())\n",
    "\n",
    "\n",
    "\n",
    "street_mapping_reverse = {value: key for key, value in street_mapping.items()}\n",
    "\n",
    "def abbreviate_street_names(address):\n",
    "    result = []\n",
    "    for word in address.split():\n",
    "        if word[-1] == ',':\n",
    "            cleaned_word = word.replace(',', '').strip()\n",
    "            mapped = street_mapping_reverse.get(cleaned_word, cleaned_word)+','\n",
    "        else:\n",
    "            mapped = street_mapping_reverse.get(word, word)\n",
    "        result.append(mapped)\n",
    "    return ' '.join(result)\n",
    "\n",
    "\n",
    "\n",
    "\n",
    "print(expand_street_names('10319 NE 114th Pl, Kirkland, WA 98033'))\n",
    "print(abbreviate_street_names('10319 Northeast 114th Place, Kirkland, Washington 98033'))"
   ]
  },
  {
   "cell_type": "code",
   "execution_count": 0,
   "metadata": {
    "application/vnd.databricks.v1+cell": {
     "cellMetadata": {
      "byteLimit": 2048000,
      "implicitDf": true,
      "rowLimit": 10000
     },
     "inputWidgets": {},
     "nuid": "dc93d503-db3f-48ad-a639-9092858ee054",
     "showTitle": false,
     "title": ""
    }
   },
   "outputs": [
    {
     "output_type": "stream",
     "name": "stdout",
     "output_type": "stream",
     "text": [
      "3429\n"
     ]
    },
    {
     "output_type": "execute_result",
     "data": {
      "text/html": [
       "<div>\n",
       "<style scoped>\n",
       "    .dataframe tbody tr th:only-of-type {\n",
       "        vertical-align: middle;\n",
       "    }\n",
       "\n",
       "    .dataframe tbody tr th {\n",
       "        vertical-align: top;\n",
       "    }\n",
       "\n",
       "    .dataframe thead th {\n",
       "        text-align: right;\n",
       "    }\n",
       "</style>\n",
       "<table border=\"1\" class=\"dataframe\">\n",
       "  <thead>\n",
       "    <tr style=\"text-align: right;\">\n",
       "      <th></th>\n",
       "      <th>addressline</th>\n",
       "      <th>country</th>\n",
       "      <th>state</th>\n",
       "      <th>city</th>\n",
       "      <th>full_address</th>\n",
       "    </tr>\n",
       "  </thead>\n",
       "  <tbody>\n",
       "    <tr>\n",
       "      <th>0</th>\n",
       "      <td>14261 Sargent Place</td>\n",
       "      <td>US</td>\n",
       "      <td>Washington</td>\n",
       "      <td>Burlington</td>\n",
       "      <td>14261 Sargent Place, Burlington, Washington, US</td>\n",
       "    </tr>\n",
       "    <tr>\n",
       "      <th>1</th>\n",
       "      <td>1111 Northeast Broadway</td>\n",
       "      <td>US</td>\n",
       "      <td>Oregon</td>\n",
       "      <td>Portland</td>\n",
       "      <td>1111 Northeast Broadway, Portland, Oregon, US</td>\n",
       "    </tr>\n",
       "    <tr>\n",
       "      <th>2</th>\n",
       "      <td>514 East Main Street</td>\n",
       "      <td>US</td>\n",
       "      <td>Oregon</td>\n",
       "      <td>Cottage Grove</td>\n",
       "      <td>514 East Main Street, Cottage Grove, Oregon, US</td>\n",
       "    </tr>\n",
       "    <tr>\n",
       "      <th>3</th>\n",
       "      <td>1137 Southwest Broadway</td>\n",
       "      <td>US</td>\n",
       "      <td>Oregon</td>\n",
       "      <td>Portland</td>\n",
       "      <td>1137 Southwest Broadway, Portland, Oregon, US</td>\n",
       "    </tr>\n",
       "    <tr>\n",
       "      <th>4</th>\n",
       "      <td>4208 Mason Road Northeast</td>\n",
       "      <td>US</td>\n",
       "      <td>Washington</td>\n",
       "      <td>Seattle</td>\n",
       "      <td>4208 Mason Road Northeast, Seattle, Washington...</td>\n",
       "    </tr>\n",
       "    <tr>\n",
       "      <th>...</th>\n",
       "      <td>...</td>\n",
       "      <td>...</td>\n",
       "      <td>...</td>\n",
       "      <td>...</td>\n",
       "      <td>...</td>\n",
       "    </tr>\n",
       "    <tr>\n",
       "      <th>59</th>\n",
       "      <td>1500 East Main Street</td>\n",
       "      <td>US</td>\n",
       "      <td>Oregon</td>\n",
       "      <td>Cottage Grove</td>\n",
       "      <td>1500 East Main Street, Cottage Grove, Oregon, US</td>\n",
       "    </tr>\n",
       "    <tr>\n",
       "      <th>60</th>\n",
       "      <td>481 Forest Dr</td>\n",
       "      <td>US</td>\n",
       "      <td>Washington</td>\n",
       "      <td>Brinnon</td>\n",
       "      <td>481 Forest Dr, Brinnon, Washington, US</td>\n",
       "    </tr>\n",
       "    <tr>\n",
       "      <th>61</th>\n",
       "      <td>11021 Northeast 123rd Lane</td>\n",
       "      <td>US</td>\n",
       "      <td>Washington</td>\n",
       "      <td>Kirkland</td>\n",
       "      <td>11021 Northeast 123rd Lane, Kirkland, Washingt...</td>\n",
       "    </tr>\n",
       "    <tr>\n",
       "      <th>62</th>\n",
       "      <td>10802 A Eagle Creek Lane</td>\n",
       "      <td>US</td>\n",
       "      <td>Washington</td>\n",
       "      <td>Leavenworth</td>\n",
       "      <td>10802 A Eagle Creek Lane, Leavenworth, Washing...</td>\n",
       "    </tr>\n",
       "    <tr>\n",
       "      <th>63</th>\n",
       "      <td>295313 Us 101</td>\n",
       "      <td>US</td>\n",
       "      <td>Washington</td>\n",
       "      <td>Quilcene</td>\n",
       "      <td>295313 Us 101, Quilcene, Washington, US</td>\n",
       "    </tr>\n",
       "  </tbody>\n",
       "</table>\n",
       "<p>64 rows × 5 columns</p>\n",
       "</div>"
      ],
      "text/plain": [
       "                   addressline  ...                                       full_address\n",
       "0          14261 Sargent Place  ...    14261 Sargent Place, Burlington, Washington, US\n",
       "1      1111 Northeast Broadway  ...      1111 Northeast Broadway, Portland, Oregon, US\n",
       "2         514 East Main Street  ...    514 East Main Street, Cottage Grove, Oregon, US\n",
       "3      1137 Southwest Broadway  ...      1137 Southwest Broadway, Portland, Oregon, US\n",
       "4    4208 Mason Road Northeast  ...  4208 Mason Road Northeast, Seattle, Washington...\n",
       "..                         ...  ...                                                ...\n",
       "59       1500 East Main Street  ...   1500 East Main Street, Cottage Grove, Oregon, US\n",
       "60               481 Forest Dr  ...             481 Forest Dr, Brinnon, Washington, US\n",
       "61  11021 Northeast 123rd Lane  ...  11021 Northeast 123rd Lane, Kirkland, Washingt...\n",
       "62    10802 A Eagle Creek Lane  ...  10802 A Eagle Creek Lane, Leavenworth, Washing...\n",
       "63               295313 Us 101  ...            295313 Us 101, Quilcene, Washington, US\n",
       "\n",
       "[64 rows x 5 columns]"
      ]
     },
     "execution_count": 254,
     "metadata": {},
     "output_type": "execute_result"
    }
   ],
   "source": [
    "try:\n",
    "    logger.info(f\"Loading addressline_enriched Delta table from zhastay_yeltay_02_silver.addressline_enriched.\")\n",
    "    enriched_addresses_old = spark.table(\n",
    "        \"hive_metastore.zhastay_yeltay_02_silver.addressline_enriched\"\n",
    "    )\n",
    "\n",
    "    # Log processing start\n",
    "    logger.info(\"Starting to process addressline entries.\")\n",
    "\n",
    "    max_id = enriched_addresses_old.agg(F.max('id')).head()[0]\n",
    "    if not max_id:\n",
    "        max_id = 0\n",
    "    print(max_id)\n",
    "\n",
    "    unique_addresslines = (\n",
    "        spark.table(\"hive_metastore.zhastay_yeltay_02_silver.addresses\")\n",
    "        .select(\"addressline\", \"country\", \"state\", \"city\")\n",
    "        .distinct()\n",
    "        .withColumn(\n",
    "            'full_address',\n",
    "            F.concat(\n",
    "                F.col(\"addressline\"),\n",
    "                F.lit(\", \"),\n",
    "                # F.lit(\" street, \"), # Adding that is a street clarification to API\n",
    "                F.col(\"city\"),\n",
    "                F.lit(\", \"),\n",
    "                # F.lit(\" city, \"), # Adding that is a city clarification to API\n",
    "                F.col(\"state\"),\n",
    "                F.lit(\", \"),\n",
    "                # F.lit(\" state, \"), # Adding that is a state clarification to API\n",
    "                F.col(\"country\")\n",
    "            )\n",
    "        )\n",
    "        .alias(\"new\")\n",
    "        .join(\n",
    "            enriched_addresses_old.alias(\"old\"),\n",
    "            (F.col(\"new.addressline\") == F.col(\"old.addressline\"))\n",
    "            & (F.col(\"new.city\") == F.col(\"old.city\"))\n",
    "            & (F.col(\"new.state\") == F.col(\"old.state\"))\n",
    "            & (F.col(\"new.country\") == F.col(\"old.country\")),\n",
    "            how=\"leftanti\",\n",
    "        )\n",
    "    )\n",
    "\n",
    "\n",
    "    pandas_df = unique_addresslines.toPandas()\n",
    "\n",
    "    # Log the outcome\n",
    "    logger.info(f\"Processed unique addresslines.\")\n",
    "except Exception as e:\n",
    "    logger.error(\"An error occurred while processing addressline entries.\", exc_info=True)\n",
    "    raise\n",
    "    "
   ]
  },
  {
   "cell_type": "code",
   "execution_count": 0,
   "metadata": {
    "application/vnd.databricks.v1+cell": {
     "cellMetadata": {
      "byteLimit": 2048000,
      "rowLimit": 10000
     },
     "inputWidgets": {},
     "nuid": "7c1d28bf-174b-471d-86ff-2c00b84c1e57",
     "showTitle": false,
     "title": ""
    }
   },
   "outputs": [
    {
     "output_type": "stream",
     "name": "stdout",
     "output_type": "stream",
     "text": [
      "0 / 63, is None: False, retry: 0, distance: 8 \r1 / 63, is None: False, retry: 0, distance: 3 \r2 / 63, is None: False, retry: 0, distance: 8 \r3 / 63, is None: False, retry: 0, distance: 3 \r4 / 63, is None: False, retry: 0, distance: 8 \r5 / 63, is None: False, retry: 0, distance: 9 \r6 / 63, is None: False, retry: 0, distance: 8 \r7 / 63, is None: False, retry: 0, distance: 6 \r8 / 63, is None: False, retry: 0, distance: 6 \r9 / 63, is None: False, retry: 0, distance: 1 \r10 / 63, is None: False, retry: 0, distance: 0 \r11 / 63, is None: False, retry: 0, distance: 7 \r12 / 63, is None: False, retry: 0, distance: 0 \ri: 13, retry: 0, distance: 18\n\ni: 13, retry: 1, distance: 13\n\n13 / 63, is None: False, retry: 2, distance: 13 \r14 / 63, is None: False, retry: 0, distance: 0 \r15 / 63, is None: False, retry: 0, distance: 6 \r16 / 63, is None: False, retry: 0, distance: 0 \r17 / 63, is None: False, retry: 0, distance: 3 \r18 / 63, is None: False, retry: 0, distance: 0 \r19 / 63, is None: False, retry: 0, distance: 8 \r20 / 63, is None: False, retry: 0, distance: 6 \r21 / 63, is None: False, retry: 0, distance: 1 \ri: 22, retry: 0, distance: 16\n\ni: 22, retry: 1, distance: 17\n\n22 / 63, is None: False, retry: 2, distance: 3 \r23 / 63, is None: False, retry: 0, distance: 7 \r24 / 63, is None: False, retry: 0, distance: 3 \r25 / 63, is None: False, retry: 0, distance: 3 \r26 / 63, is None: False, retry: 0, distance: 3 \r27 / 63, is None: False, retry: 0, distance: 0 \r28 / 63, is None: False, retry: 0, distance: 6 \ri: 29, retry: 0, distance: 14\n\n29 / 63, is None: False, retry: 1, distance: 10 \r30 / 63, is None: False, retry: 0, distance: 8 \ri: 31, retry: 0, distance: 14\n\n31 / 63, is None: False, retry: 1, distance: 0 \r32 / 63, is None: False, retry: 0, distance: 0 \r33 / 63, is None: False, retry: 0, distance: 6 \r34 / 63, is None: False, retry: 0, distance: 3 \r35 / 63, is None: False, retry: 0, distance: 7 \r36 / 63, is None: False, retry: 0, distance: 1 \r37 / 63, is None: False, retry: 0, distance: 9 \r38 / 63, is None: False, retry: 0, distance: 6 \ri: 39, retry: 0, distance: 12\n\n39 / 63, is None: False, retry: 1, distance: 1 \r40 / 63, is None: False, retry: 0, distance: 9 \r41 / 63, is None: False, retry: 0, distance: 3 \r"
     ]
    },
    {
     "output_type": "stream",
     "name": "stderr",
     "output_type": "stream",
     "text": [
      "Status code 500 from http://dev.virtualearth.net/REST/v1/Locations: ERROR - 500 Server Error: Internal Server Error for url: http://dev.virtualearth.net/REST/v1/Locations?q=270+Brighton+Ave%2C+Port+Hadlock%2C+Washington%2C+US&o=json&inclnb=1&key=&maxResults=1\n"
     ]
    },
    {
     "output_type": "stream",
     "name": "stdout",
     "output_type": "stream",
     "text": [
      "address: 270 Brighton Ave, Port Hadlock, Washington, US, argument of type 'NoneType' is not iterable\ni: 42, retry: 0, distance: 13\n\n42 / 63, is None: False, retry: 1, distance: 3 \r43 / 63, is None: False, retry: 0, distance: 6 \r44 / 63, is None: False, retry: 0, distance: 8 \r45 / 63, is None: False, retry: 0, distance: 2 \r46 / 63, is None: False, retry: 0, distance: 4 \r47 / 63, is None: False, retry: 0, distance: 8 \r48 / 63, is None: False, retry: 0, distance: 4 \r49 / 63, is None: False, retry: 0, distance: 5 \r50 / 63, is None: False, retry: 0, distance: 2 \r51 / 63, is None: False, retry: 0, distance: 6 \ri: 52, retry: 0, distance: 12\n\ni: 52, retry: 1, distance: 12\n\n52 / 63, is None: False, retry: 2, distance: 12 \ri: 53, retry: 0, distance: 12\n\ni: 53, retry: 1, distance: 12\n\n53 / 63, is None: False, retry: 2, distance: 3 \r54 / 63, is None: False, retry: 0, distance: 6 \r55 / 63, is None: False, retry: 0, distance: 2 \r56 / 63, is None: False, retry: 0, distance: 3 \ri: 57, retry: 0, distance: 11\n\ni: 57, retry: 1, distance: 11\n\n57 / 63, is None: False, retry: 2, distance: 9 \ri: 58, retry: 0, distance: 18\n\n58 / 63, is None: False, retry: 1, distance: 4 \ri: 59, retry: 0, distance: 17\n\n59 / 63, is None: False, retry: 1, distance: 8 \r60 / 63, is None: False, retry: 0, distance: 6 \r61 / 63, is None: False, retry: 0, distance: 6 \r62 / 63, is None: False, retry: 0, distance: 4 \r63 / 63, is None: False, retry: 0, distance: 0 \r"
     ]
    }
   ],
   "source": [
    "import time\n",
    "\n",
    "\n",
    "processed_list = []\n",
    "num_retry = 2\n",
    "\n",
    "\n",
    "logger.info(\"Starting to get data from Bing Maps API.\")\n",
    "\n",
    "for it_num, value in enumerate(pandas_df.to_dict('records')):\n",
    "    query = (\n",
    "        value['full_address']\n",
    "        .replace('Us 101', 'US Highway 101')\n",
    "    )\n",
    "    retry = 0\n",
    "    lat, lng, postal_code, county, neighborhood, completed_address = get_address_info(query)\n",
    "\n",
    "    distance = Levenshtein.distance(abbreviate_street_names(query.split(', ')[0]), abbreviate_street_names(str(completed_address).split(', ')[0]))\n",
    "    while ((not completed_address) or distance > 10) and retry < num_retry:\n",
    "        address_line, city, state, country = query.split(', ')\n",
    "        query = f\"{address_line}, {city} city, {state} state, United States\"\n",
    "        time.sleep(0.5)\n",
    "        print(f\"\\n i: {it_num}, retry: {retry}, distance: {distance}\")\n",
    "        lat, lng, postal_code, county, neighborhood, completed_address = get_address_info(query)\n",
    "        \n",
    "        distance = Levenshtein.distance(abbreviate_street_names(query.split(', ')[0]), abbreviate_street_names(completed_address.split(', ')[0]))\n",
    "        retry += 1\n",
    "    \n",
    "\n",
    "    value['lat'] = lat\n",
    "    value['lng'] = lng\n",
    "    value['postal_code'] = postal_code\n",
    "    value['county'] = county\n",
    "    value['neighborhood'] = neighborhood\n",
    "    value['completed_address'] = completed_address\n",
    "    processed_list.append(value)\n",
    "    print(f\"{it_num} / {pandas_df.shape[0]-1}, is None: {value['completed_address'] == None}, retry: {retry}, distance: {distance} \\r\", end='', flush=True)\n",
    "    time.sleep(0.1)\n",
    "\n",
    "\n",
    "logger.info(\"Finished of getting data from Bing Maps API.\")"
   ]
  },
  {
   "cell_type": "code",
   "execution_count": 0,
   "metadata": {
    "application/vnd.databricks.v1+cell": {
     "cellMetadata": {
      "byteLimit": 2048000,
      "rowLimit": 10000
     },
     "inputWidgets": {},
     "nuid": "3a825ed9-fd8b-425f-aa71-5388a1dcba08",
     "showTitle": false,
     "title": ""
    }
   },
   "outputs": [
    {
     "output_type": "stream",
     "name": "stdout",
     "output_type": "stream",
     "text": [
      "1\n"
     ]
    }
   ],
   "source": [
    "print(len([i for i in processed_list if i['postal_code'] == None]))"
   ]
  },
  {
   "cell_type": "code",
   "execution_count": 0,
   "metadata": {
    "application/vnd.databricks.v1+cell": {
     "cellMetadata": {
      "byteLimit": 2048000,
      "rowLimit": 10000
     },
     "inputWidgets": {},
     "nuid": "47ef00fd-3af0-4dcd-b345-d710d81a55ec",
     "showTitle": false,
     "title": ""
    }
   },
   "outputs": [
    {
     "output_type": "display_data",
     "data": {
      "text/html": [
       "<style scoped>\n",
       "  .table-result-container {\n",
       "    max-height: 300px;\n",
       "    overflow: auto;\n",
       "  }\n",
       "  table, th, td {\n",
       "    border: 1px solid black;\n",
       "    border-collapse: collapse;\n",
       "  }\n",
       "  th, td {\n",
       "    padding: 5px;\n",
       "  }\n",
       "  th {\n",
       "    text-align: left;\n",
       "  }\n",
       "</style><div class='table-result-container'><table class='table-result'><thead style='background-color: white'><tr><th>id</th><th>addressline</th><th>country</th><th>state</th><th>city</th><th>full_address</th><th>completed_address</th><th>lat</th><th>lng</th><th>postal_code</th><th>county</th><th>neighborhood</th></tr></thead><tbody><tr><td>3430</td><td>1 Boren Ave</td><td>US</td><td>Washington</td><td>Port Townsend</td><td>1 Boren Ave, Port Townsend, Washington, US</td><td>1 N Stromberg Ave, Port Townsend, WA 98368</td><td>48.0535013</td><td>-122.7730743</td><td>98368</td><td>Jefferson County</td><td>null</td></tr><tr><td>3431</td><td>1 East Main Street</td><td>US</td><td>Washington</td><td>Auburn</td><td>1 East Main Street, Auburn, Washington, US</td><td>1 Washington St, Auburn, MA 01501</td><td>42.21281596</td><td>-71.80338702</td><td>01501</td><td>Worcester County</td><td>null</td></tr><tr><td>3432</td><td>1001 North Broadway Avenue</td><td>US</td><td>Washington</td><td>Everett</td><td>1001 North Broadway Avenue, Everett, Washington, US</td><td>1001 N Broadway, Everett, WA 98201</td><td>48.004985</td><td>-122.195625</td><td>98201</td><td>Snohomish County</td><td>Northwest Everett</td></tr><tr><td>3433</td><td>1008 72nd Street East</td><td>US</td><td>Washington</td><td>Tacoma</td><td>1008 72nd Street East, Tacoma, Washington, US</td><td>1008 E 72nd St, Tacoma, WA 98404</td><td>47.19169948</td><td>-122.41668081</td><td>98404</td><td>Pierce County</td><td>Eastside</td></tr><tr><td>3434</td><td>10210 Northeast Points Drive</td><td>US</td><td>Washington</td><td>Kirkland</td><td>10210 Northeast Points Drive, Kirkland, Washington, US</td><td>10210 Points Dr, Kirkland, WA 98033</td><td>47.643529</td><td>-122.203722</td><td>98033</td><td>King County</td><td>Lakeview</td></tr><tr><td>3435</td><td>10429 Alderbrook Place Northwest</td><td>US</td><td>Washington</td><td>Seattle</td><td>10429 Alderbrook Place Northwest, Seattle, Washington, US</td><td>10429 12th Ave NW, Seattle, WA 98177</td><td>47.70542224</td><td>-122.37151058</td><td>98177</td><td>King County</td><td>North Beach-Blue Ridge</td></tr><tr><td>3436</td><td>10802 A Eagle Creek Lane</td><td>US</td><td>Washington</td><td>Leavenworth</td><td>10802 A Eagle Creek Lane, Leavenworth, Washington, US</td><td>10802 Eagle Creek Rd, Leavenworth, WA 98826</td><td>47.6359275</td><td>-120.6099657</td><td>98826</td><td>Chelan County</td><td>null</td></tr><tr><td>3437</td><td>10915 Northeast 123rd Lane</td><td>US</td><td>Washington</td><td>Kirkland</td><td>10915 Northeast 123rd Lane, Kirkland, Washington, US</td><td>10915 123rd Ln NE, Kirkland, WA 98033</td><td>47.69792087</td><td>-122.17632431</td><td>98033</td><td>King County</td><td>North Rose Hill</td></tr><tr><td>3438</td><td>11021 Northeast 123rd Lane</td><td>US</td><td>Washington</td><td>Kirkland</td><td>11021 Northeast 123rd Lane, Kirkland, Washington, US</td><td>11021 123rd Ln NE, Kirkland, WA 98033</td><td>47.6998583</td><td>-122.1776417</td><td>98033</td><td>King County</td><td>North Rose Hill</td></tr><tr><td>3439</td><td>1111 Northeast Broadway</td><td>US</td><td>Oregon</td><td>Portland</td><td>1111 Northeast Broadway, Portland, Oregon, US</td><td>1111 NE Broadway St, Portland, OR 97232</td><td>45.53527</td><td>-122.654353</td><td>97232</td><td>Multnomah County</td><td>Hollywood</td></tr><tr><td>3440</td><td>1137 Southwest Broadway</td><td>US</td><td>Oregon</td><td>Portland</td><td>1137 Southwest Broadway, Portland, Oregon, US</td><td>1137 Broadway, Portland, OR 97209</td><td>45.523054</td><td>-122.67752418</td><td>97209</td><td>Multnomah County</td><td>West Portland Park</td></tr><tr><td>3441</td><td>11504 114th Court Northeast</td><td>US</td><td>Washington</td><td>Kirkland</td><td>11504 114th Court Northeast, Kirkland, Washington, US</td><td>11504 NE 114th Ct, Kirkland, WA 98033</td><td>47.7031916</td><td>-122.1888182</td><td>98033</td><td>King County</td><td>South Juanita</td></tr><tr><td>3442</td><td>11506 114th Court Northeast</td><td>US</td><td>Washington</td><td>Kirkland</td><td>11506 114th Court Northeast, Kirkland, Washington, US</td><td>11506 NE 114th Ct, Kirkland, WA 98033</td><td>47.7033368</td><td>-122.1887445</td><td>98033</td><td>King County</td><td>South Juanita</td></tr><tr><td>3443</td><td>133 Myrtle St</td><td>US</td><td>Washington</td><td>Port Townsend</td><td>133 Myrtle St, Port Townsend, Washington, US</td><td>133 Myrtle Rd, Port Townsend, WA 98368</td><td>48.0774297</td><td>-122.8705708</td><td>98368</td><td>Jefferson County</td><td>null</td></tr><tr><td>3444</td><td>14 West Roy Street</td><td>US</td><td>Washington</td><td>Seattle</td><td>14 West Roy Street, Seattle, Washington, US</td><td>State Highway 14, Rend City, IL 62812</td><td>37.97953385</td><td>-89.02952246</td><td>62812</td><td>Franklin County</td><td>null</td></tr><tr><td>3445</td><td>140 Northwest 3rd Street Suite B</td><td>US</td><td>Oregon</td><td>Corvallis</td><td>140 Northwest 3rd Street Suite B, Corvallis, Oregon, US</td><td>140 NW 3rd St, Corvallis, OR 97330</td><td>44.565185</td><td>-123.260884</td><td>97330</td><td>Benton County</td><td>null</td></tr><tr><td>3446</td><td>14261 Sargent Place</td><td>US</td><td>Washington</td><td>Burlington</td><td>14261 Sargent Place, Burlington, Washington, US</td><td>Sargent Ln, Burlington, WA 98233</td><td>48.46729732</td><td>-122.37966605</td><td>98233</td><td>Skagit County</td><td>null</td></tr><tr><td>3447</td><td>14350 Southwest 27th Street</td><td>US</td><td>Oregon</td><td>Beaverton</td><td>14350 Southwest 27th Street, Beaverton, Oregon, US</td><td>SW 27th St, Beaverton, OR 97008</td><td>45.467752</td><td>-122.820283</td><td>97008</td><td>Washington County</td><td>Highland</td></tr><tr><td>3448</td><td>1500 East Main Street</td><td>US</td><td>Oregon</td><td>Cottage Grove</td><td>1500 East Main Street, Cottage Grove, Oregon, US</td><td>1500 Highway 99, Cottage Grove, OR 97424</td><td>43.806435</td><td>-123.052259</td><td>97424</td><td>Lane County</td><td>null</td></tr><tr><td>3449</td><td>154 Russel Lane</td><td>US</td><td>Washington</td><td>Leavenworth</td><td>154 Russel Lane, Leavenworth, Washington, US</td><td>154 Bradshaw Ln, Leavenworth, WA 98826</td><td>47.74750172</td><td>-120.73400142</td><td>98826</td><td>Chelan County</td><td>null</td></tr><tr><td>3450</td><td>169363 Us 101</td><td>US</td><td>Washington</td><td>Forks</td><td>169363 Us 101, Forks, Washington, US</td><td>169363 US Highway 101, Forks, WA 98331</td><td>47.743499</td><td>-124.34292</td><td>98331</td><td>Clallam County</td><td>null</td></tr><tr><td>3451</td><td>17465 Southwest 63rd Avenue</td><td>US</td><td>Oregon</td><td>Lake Oswego</td><td>17465 Southwest 63rd Avenue, Lake Oswego, Oregon, US</td><td>17465 63rd Ave, Lake Oswego, OR 97035</td><td>45.399367</td><td>-122.741577</td><td>97035</td><td>Clackamas County</td><td>Lake Grove</td></tr><tr><td>3452</td><td>17946 Southeast 394th Lane</td><td>US</td><td>Washington</td><td>Auburn</td><td>17946 Southeast 394th Lane, Auburn, Washington, US</td><td>SE 394th Ln, Auburn, WA 98092</td><td>47.24797852</td><td>-122.10432814</td><td>98092</td><td>King County</td><td>Newaukum</td></tr><tr><td>3453</td><td>2001 Monroe Avenue</td><td>US</td><td>Oregon</td><td>Corvallis</td><td>2001 Monroe Avenue, Corvallis, Oregon, US</td><td>2001 NW Monroe Ave, Corvallis, OR 97330</td><td>44.568287</td><td>-123.275554</td><td>97330</td><td>Benton County</td><td>null</td></tr><tr><td>3454</td><td>222 East Main Street</td><td>US</td><td>Washington</td><td>Auburn</td><td>222 East Main Street, Auburn, Washington, US</td><td>222 Auburn Ave, Auburn, WA 98002</td><td>47.3070283</td><td>-122.2269333</td><td>98002</td><td>King County</td><td>Downtown Auburn</td></tr><tr><td>3455</td><td>228 Manson View Drive</td><td>US</td><td>Washington</td><td>Manson</td><td>228 Manson View Drive, Manson, Washington, US</td><td>228 Orchard View Dr, Manson, WA 98831</td><td>47.91029818</td><td>-120.07849151</td><td>98831</td><td>Chelan County</td><td>null</td></tr><tr><td>3456</td><td>23622 Southeast 237th Street</td><td>US</td><td>Washington</td><td>Maple Valley</td><td>23622 Southeast 237th Street, Maple Valley, Washington, US</td><td>SE 237th St, Maple Valley, WA 98038</td><td>47.38912175</td><td>-122.04598595</td><td>98038</td><td>King County</td><td>Wilderness Village</td></tr><tr><td>3457</td><td>23641 16th Place South</td><td>US</td><td>Washington</td><td>Des Moines</td><td>23641 16th Place South, Des Moines, Washington, US</td><td>16th Pl S, Des Moines, WA 98198</td><td>47.38997</td><td>-122.31118475</td><td>98198</td><td>King County</td><td>null</td></tr><tr><td>3458</td><td>24136 39th Drive Southeast</td><td>US</td><td>Washington</td><td>Bothell</td><td>24136 39th Drive Southeast, Bothell, Washington, US</td><td>39th Dr SE, Bothell, WA 98021</td><td>47.8069596</td><td>-122.18035325</td><td>98021</td><td>King County</td><td>null</td></tr><tr><td>3459</td><td>25394 25934 104th Avenue Southeast</td><td>US</td><td>Washington</td><td>Kent</td><td>25394 25934 104th Avenue Southeast, Kent, Washington, US</td><td>25394 104th Ave SE, Kent, WA 98030</td><td>47.37440681</td><td>-122.2023614</td><td>98030</td><td>King County</td><td>Kent East Hill</td></tr><tr><td>3460</td><td>270 Brighton Ave</td><td>US</td><td>Washington</td><td>Port Hadlock</td><td>270 Brighton Ave, Port Hadlock, Washington, US</td><td>270 Brighton St, Port Hadlock, WA 98339</td><td>48.038099</td><td>-122.759453</td><td>98339</td><td>Jefferson County</td><td>null</td></tr><tr><td>3461</td><td>287425 Us 101</td><td>US</td><td>Washington</td><td>Quilcene</td><td>287425 Us 101, Quilcene, Washington, US</td><td>287425 US Highway 101, Quilcene, WA 98376</td><td>47.9198156</td><td>-122.8858171</td><td>98376</td><td>Jefferson County</td><td>null</td></tr><tr><td>3462</td><td>290336 Us 101</td><td>US</td><td>Washington</td><td>Quilcene</td><td>290336 Us 101, Quilcene, Washington, US</td><td>290336 US Highway 101, Quilcene, WA 98376</td><td>47.8828348</td><td>-122.8781322</td><td>98376</td><td>Jefferson County</td><td>null</td></tr><tr><td>3463</td><td>294772 Us 101</td><td>US</td><td>Washington</td><td>Quilcene</td><td>294772 Us 101, Quilcene, Washington, US</td><td>294772 US Highway 101, Quilcene, WA 98376</td><td>47.8227545</td><td>-122.8758778</td><td>98376</td><td>Jefferson County</td><td>null</td></tr><tr><td>3464</td><td>294903 Us 101</td><td>US</td><td>Washington</td><td>Quilcene</td><td>294903 Us 101, Quilcene, Washington, US</td><td>294903 US Highway 101, Quilcene, WA 98376</td><td>47.821262</td><td>-122.876812</td><td>98376</td><td>Jefferson County</td><td>null</td></tr><tr><td>3465</td><td>295313 Us 101</td><td>US</td><td>Washington</td><td>Quilcene</td><td>295313 Us 101, Quilcene, Washington, US</td><td>295313 US Highway 101, Quilcene, WA 98376</td><td>47.8201494</td><td>-122.8870538</td><td>98376</td><td>Jefferson County</td><td>null</td></tr><tr><td>3466</td><td>304753 Us 101</td><td>US</td><td>Washington</td><td>Brinnon</td><td>304753 Us 101, Brinnon, Washington, US</td><td>304753 US Highway 101, Brinnon, WA 98320</td><td>47.715877</td><td>-122.886388</td><td>98320</td><td>Jefferson County</td><td>null</td></tr><tr><td>3467</td><td>312 Broadway</td><td>US</td><td>Washington</td><td>Everett</td><td>312 Broadway, Everett, Washington, US</td><td>312 N Broadway, Everett, WA 98201</td><td>48.01039031</td><td>-122.19167664</td><td>98201</td><td>Snohomish County</td><td>Northwest Everett</td></tr><tr><td>3468</td><td>313782 Us 101</td><td>US</td><td>Washington</td><td>Brinnon</td><td>313782 Us 101, Brinnon, Washington, US</td><td>313782 US Highway 101, Brinnon, WA 98320</td><td>47.6176062</td><td>-122.9798732</td><td>98320</td><td>Jefferson County</td><td>null</td></tr><tr><td>3469</td><td>3201 Park Lane</td><td>US</td><td>Washington</td><td>Mount Vernon</td><td>3201 Park Lane, Mount Vernon, Washington, US</td><td>Mount Vernon, WA</td><td>48.41749954</td><td>-122.33615875</td><td>null</td><td>Skagit County</td><td>null</td></tr><tr><td>3470</td><td>3250 Northeast Broadway</td><td>US</td><td>Oregon</td><td>Portland</td><td>3250 Northeast Broadway, Portland, Oregon, US</td><td>3250 NE Broadway St, Portland, OR 97232</td><td>45.534996</td><td>-122.631664</td><td>97232</td><td>Multnomah County</td><td>Grant Park</td></tr><tr><td>3471</td><td>35290 Shangri La Drive</td><td>US</td><td>Washington</td><td>Hamilton</td><td>35290 Shangri La Drive, Hamilton, Washington, US</td><td>Shangri la Dr, Mount Ida, AR 71957</td><td>34.56821506</td><td>-93.46883556</td><td>71957</td><td>Montgomery County</td><td>null</td></tr><tr><td>3472</td><td>35930 Shangri La Drive</td><td>US</td><td>Washington</td><td>Hamilton</td><td>35930 Shangri La Drive, Hamilton, Washington, US</td><td>35930 Shangri la Ct, Clinton Township, MI 48035-2268</td><td>42.56026679</td><td>-82.95678981</td><td>48035-2268</td><td>Macomb County</td><td>null</td></tr><tr><td>3473</td><td>3829 Southeast C Sar E Ch Vez Boulevard</td><td>US</td><td>Oregon</td><td>Portland</td><td>3829 Southeast C Sar E Ch Vez Boulevard, Portland, Oregon, US</td><td>3829 SE Cesar E Chavez Blvd, Portland, OR 97202</td><td>45.4949428</td><td>-122.6225687</td><td>97202</td><td>Multnomah County</td><td>Creston-Kenilworth</td></tr><tr><td>3474</td><td>3898 Botticelli</td><td>US</td><td>Oregon</td><td>Lake Oswego</td><td>3898 Botticelli, Lake Oswego, Oregon, US</td><td>3898 Botticelli St, Lake Oswego, OR 97035</td><td>45.425995</td><td>-122.717495</td><td>97035</td><td>Clackamas County</td><td>Lake Grove</td></tr><tr><td>3475</td><td>40490 Old Us Highway 30 Svensen</td><td>US</td><td>Oregon</td><td>Svensen</td><td>40490 Old Us Highway 30 Svensen, Svensen, Oregon, US</td><td>40490 Old US Highway 30, Astoria, OR 97103</td><td>46.16527</td><td>-123.6609</td><td>97103</td><td>Clatsop County</td><td>null</td></tr><tr><td>3476</td><td>4138 Harrison Ave Nw</td><td>US</td><td>Washington</td><td>Olympia</td><td>4138 Harrison Ave Nw, Olympia, Washington, US</td><td>4138 Harrison Ave NW, Olympia, WA 98502</td><td>47.047448</td><td>-122.954881</td><td>98502</td><td>Thurston County</td><td>null</td></tr><tr><td>3477</td><td>4167 Southeast C Sar E Ch Vez Boulevard</td><td>US</td><td>Oregon</td><td>Portland</td><td>4167 Southeast C Sar E Ch Vez Boulevard, Portland, Oregon, US</td><td>4167 NE Cesar E Chavez Blvd, Portland, OR 97211</td><td>45.55307851</td><td>-122.62350221</td><td>97211</td><td>Multnomah County</td><td>Beaumont Wilshire</td></tr><tr><td>3478</td><td>4208 Mason Road Northeast</td><td>US</td><td>Washington</td><td>Seattle</td><td>4208 Mason Road Northeast, Seattle, Washington, US</td><td>Mason Rd, Seattle, WA 98195</td><td>47.65645622</td><td>-122.3026482</td><td>98195</td><td>King County</td><td>University District</td></tr><tr><td>3479</td><td>46 Mcmahon Road</td><td>US</td><td>Washington</td><td>Leavenworth</td><td>46 Mcmahon Road, Leavenworth, Washington, US</td><td>46 McMahon Dempsey Rd, Leavenworth, WA 98826</td><td>47.569091</td><td>-120.657252</td><td>98826</td><td>Chelan County</td><td>null</td></tr><tr><td>3480</td><td>470 Forest Dr</td><td>US</td><td>Washington</td><td>Brinnon</td><td>470 Forest Dr, Brinnon, Washington, US</td><td>470 Forest Point Dr, Brandon, MS 39047</td><td>32.3788063</td><td>-90.0203199</td><td>39047</td><td>Rankin County</td><td>null</td></tr><tr><td>3481</td><td>481 Forest Dr</td><td>US</td><td>Washington</td><td>Brinnon</td><td>481 Forest Dr, Brinnon, Washington, US</td><td>481 Forest Point Dr, Brandon, MS 39047</td><td>32.37860233</td><td>-90.02026132</td><td>39047</td><td>Rankin County</td><td>null</td></tr><tr><td>3482</td><td>4932 20</td><td>US</td><td>Washington</td><td>Port Townsend</td><td>4932 20, Port Townsend, Washington, US</td><td>4932 WA-20, Port Townsend, WA 98368</td><td>48.028846</td><td>-122.824346</td><td>98368</td><td>Jefferson County</td><td>null</td></tr><tr><td>3483</td><td>514 East Main Street</td><td>US</td><td>Oregon</td><td>Cottage Grove</td><td>514 East Main Street, Cottage Grove, Oregon, US</td><td>514 Adams Ave, Cottage Grove, OR 97424</td><td>43.795679</td><td>-123.062415</td><td>97424</td><td>Lane County</td><td>null</td></tr><tr><td>3484</td><td>5210 Southeast Rinearson Road</td><td>US</td><td>Oregon</td><td>Gladstone</td><td>5210 Southeast Rinearson Road, Gladstone, Oregon, US</td><td>5210 Rinearson Rd, Gladstone, OR 97027</td><td>45.381121</td><td>-122.6089428</td><td>97027</td><td>Clackamas County</td><td>null</td></tr><tr><td>3485</td><td>533 East Main Street</td><td>US</td><td>Oregon</td><td>Hillsboro</td><td>533 East Main Street, Hillsboro, Oregon, US</td><td>533 N Main St, Mount Angel, OR 97362</td><td>45.07154885</td><td>-122.79761359</td><td>97362</td><td>Marion County</td><td>null</td></tr><tr><td>3486</td><td>5830 119th Ave Se</td><td>US</td><td>Washington</td><td>Bellevue</td><td>5830 119th Ave Se, Bellevue, Washington, US</td><td>5830 119th Ave SE, Bellevue, WA 98006</td><td>47.551399</td><td>-122.177809</td><td>98006</td><td>King County</td><td>Newport</td></tr><tr><td>3487</td><td>6451 Ne Hilltop Lane</td><td>US</td><td>Oregon</td><td>Dayton</td><td>6451 Ne Hilltop Lane, Dayton, Oregon, US</td><td>6451 NE Hilltop Ln, Dayton, OR 97114</td><td>45.257738</td><td>-123.074588</td><td>97114</td><td>Yamhill County</td><td>null</td></tr><tr><td>3488</td><td>7266 20</td><td>US</td><td>Washington</td><td>Port Townsend</td><td>7266 20, Port Townsend, Washington, US</td><td>7266 State Route 20, Port Townsend, WA 98368</td><td>48.062968</td><td>-122.818718</td><td>98368</td><td>Jefferson County</td><td>null</td></tr><tr><td>3489</td><td>83 Lindner Creek Ln</td><td>US</td><td>Washington</td><td>Forks</td><td>83 Lindner Creek Ln, Forks, Washington, US</td><td>83 Linden Ln, Springfield, IL 62712</td><td>39.741157</td><td>-89.595917</td><td>62712</td><td>Sangamon County</td><td>null</td></tr><tr><td>3490</td><td>84 Daleville Avenue</td><td>US</td><td>Alabama</td><td>Daleville</td><td>84 Daleville Avenue, Daleville, Alabama, US</td><td>84 N Daleville Ave, Daleville, AL 36322</td><td>31.30922189</td><td>-85.71277725</td><td>36322</td><td>Dale County</td><td>null</td></tr><tr><td>3491</td><td>85 Woodview Road</td><td>US</td><td>Alabama</td><td>Henagar</td><td>85 Woodview Road, Henagar, Alabama, US</td><td>85 Woodview Rd, Henagar, AL 35978</td><td>34.634228</td><td>-85.768504</td><td>35978</td><td>De Kalb County</td><td>null</td></tr><tr><td>3492</td><td>87 State Highway 85</td><td>US</td><td>Alabama</td><td>Laurel Hill</td><td>87 State Highway 85, Laurel Hill, Alabama, US</td><td>87 Highway 85 N, Laurel Hill, FL 32567</td><td>30.992968</td><td>-86.334262</td><td>32567</td><td>Okaloosa County</td><td>null</td></tr><tr><td>3493</td><td>969 Southwest Broadway</td><td>US</td><td>Oregon</td><td>Portland</td><td>969 Southwest Broadway, Portland, Oregon, US</td><td>969 Broadway, Portland, OR 97209</td><td>45.523054</td><td>-122.67752418</td><td>97209</td><td>Multnomah County</td><td>West Portland Park</td></tr></tbody></table></div>"
      ]
     },
     "metadata": {
      "application/vnd.databricks.v1+output": {
       "addedWidgets": {},
       "aggData": [],
       "aggError": "",
       "aggOverflow": false,
       "aggSchema": [],
       "aggSeriesLimitReached": false,
       "aggType": "",
       "arguments": {},
       "columnCustomDisplayInfos": {},
       "data": [
        [
         3430,
         "1 Boren Ave",
         "US",
         "Washington",
         "Port Townsend",
         "1 Boren Ave, Port Townsend, Washington, US",
         "1 N Stromberg Ave, Port Townsend, WA 98368",
         48.0535013,
         -122.7730743,
         "98368",
         "Jefferson County",
         null
        ],
        [
         3431,
         "1 East Main Street",
         "US",
         "Washington",
         "Auburn",
         "1 East Main Street, Auburn, Washington, US",
         "1 Washington St, Auburn, MA 01501",
         42.21281596,
         -71.80338702,
         "01501",
         "Worcester County",
         null
        ],
        [
         3432,
         "1001 North Broadway Avenue",
         "US",
         "Washington",
         "Everett",
         "1001 North Broadway Avenue, Everett, Washington, US",
         "1001 N Broadway, Everett, WA 98201",
         48.004985,
         -122.195625,
         "98201",
         "Snohomish County",
         "Northwest Everett"
        ],
        [
         3433,
         "1008 72nd Street East",
         "US",
         "Washington",
         "Tacoma",
         "1008 72nd Street East, Tacoma, Washington, US",
         "1008 E 72nd St, Tacoma, WA 98404",
         47.19169948,
         -122.41668081,
         "98404",
         "Pierce County",
         "Eastside"
        ],
        [
         3434,
         "10210 Northeast Points Drive",
         "US",
         "Washington",
         "Kirkland",
         "10210 Northeast Points Drive, Kirkland, Washington, US",
         "10210 Points Dr, Kirkland, WA 98033",
         47.643529,
         -122.203722,
         "98033",
         "King County",
         "Lakeview"
        ],
        [
         3435,
         "10429 Alderbrook Place Northwest",
         "US",
         "Washington",
         "Seattle",
         "10429 Alderbrook Place Northwest, Seattle, Washington, US",
         "10429 12th Ave NW, Seattle, WA 98177",
         47.70542224,
         -122.37151058,
         "98177",
         "King County",
         "North Beach-Blue Ridge"
        ],
        [
         3436,
         "10802 A Eagle Creek Lane",
         "US",
         "Washington",
         "Leavenworth",
         "10802 A Eagle Creek Lane, Leavenworth, Washington, US",
         "10802 Eagle Creek Rd, Leavenworth, WA 98826",
         47.6359275,
         -120.6099657,
         "98826",
         "Chelan County",
         null
        ],
        [
         3437,
         "10915 Northeast 123rd Lane",
         "US",
         "Washington",
         "Kirkland",
         "10915 Northeast 123rd Lane, Kirkland, Washington, US",
         "10915 123rd Ln NE, Kirkland, WA 98033",
         47.69792087,
         -122.17632431,
         "98033",
         "King County",
         "North Rose Hill"
        ],
        [
         3438,
         "11021 Northeast 123rd Lane",
         "US",
         "Washington",
         "Kirkland",
         "11021 Northeast 123rd Lane, Kirkland, Washington, US",
         "11021 123rd Ln NE, Kirkland, WA 98033",
         47.6998583,
         -122.1776417,
         "98033",
         "King County",
         "North Rose Hill"
        ],
        [
         3439,
         "1111 Northeast Broadway",
         "US",
         "Oregon",
         "Portland",
         "1111 Northeast Broadway, Portland, Oregon, US",
         "1111 NE Broadway St, Portland, OR 97232",
         45.53527,
         -122.654353,
         "97232",
         "Multnomah County",
         "Hollywood"
        ],
        [
         3440,
         "1137 Southwest Broadway",
         "US",
         "Oregon",
         "Portland",
         "1137 Southwest Broadway, Portland, Oregon, US",
         "1137 Broadway, Portland, OR 97209",
         45.523054,
         -122.67752418,
         "97209",
         "Multnomah County",
         "West Portland Park"
        ],
        [
         3441,
         "11504 114th Court Northeast",
         "US",
         "Washington",
         "Kirkland",
         "11504 114th Court Northeast, Kirkland, Washington, US",
         "11504 NE 114th Ct, Kirkland, WA 98033",
         47.7031916,
         -122.1888182,
         "98033",
         "King County",
         "South Juanita"
        ],
        [
         3442,
         "11506 114th Court Northeast",
         "US",
         "Washington",
         "Kirkland",
         "11506 114th Court Northeast, Kirkland, Washington, US",
         "11506 NE 114th Ct, Kirkland, WA 98033",
         47.7033368,
         -122.1887445,
         "98033",
         "King County",
         "South Juanita"
        ],
        [
         3443,
         "133 Myrtle St",
         "US",
         "Washington",
         "Port Townsend",
         "133 Myrtle St, Port Townsend, Washington, US",
         "133 Myrtle Rd, Port Townsend, WA 98368",
         48.0774297,
         -122.8705708,
         "98368",
         "Jefferson County",
         null
        ],
        [
         3444,
         "14 West Roy Street",
         "US",
         "Washington",
         "Seattle",
         "14 West Roy Street, Seattle, Washington, US",
         "State Highway 14, Rend City, IL 62812",
         37.97953385,
         -89.02952246,
         "62812",
         "Franklin County",
         null
        ],
        [
         3445,
         "140 Northwest 3rd Street Suite B",
         "US",
         "Oregon",
         "Corvallis",
         "140 Northwest 3rd Street Suite B, Corvallis, Oregon, US",
         "140 NW 3rd St, Corvallis, OR 97330",
         44.565185,
         -123.260884,
         "97330",
         "Benton County",
         null
        ],
        [
         3446,
         "14261 Sargent Place",
         "US",
         "Washington",
         "Burlington",
         "14261 Sargent Place, Burlington, Washington, US",
         "Sargent Ln, Burlington, WA 98233",
         48.46729732,
         -122.37966605,
         "98233",
         "Skagit County",
         null
        ],
        [
         3447,
         "14350 Southwest 27th Street",
         "US",
         "Oregon",
         "Beaverton",
         "14350 Southwest 27th Street, Beaverton, Oregon, US",
         "SW 27th St, Beaverton, OR 97008",
         45.467752,
         -122.820283,
         "97008",
         "Washington County",
         "Highland"
        ],
        [
         3448,
         "1500 East Main Street",
         "US",
         "Oregon",
         "Cottage Grove",
         "1500 East Main Street, Cottage Grove, Oregon, US",
         "1500 Highway 99, Cottage Grove, OR 97424",
         43.806435,
         -123.052259,
         "97424",
         "Lane County",
         null
        ],
        [
         3449,
         "154 Russel Lane",
         "US",
         "Washington",
         "Leavenworth",
         "154 Russel Lane, Leavenworth, Washington, US",
         "154 Bradshaw Ln, Leavenworth, WA 98826",
         47.74750172,
         -120.73400142,
         "98826",
         "Chelan County",
         null
        ],
        [
         3450,
         "169363 Us 101",
         "US",
         "Washington",
         "Forks",
         "169363 Us 101, Forks, Washington, US",
         "169363 US Highway 101, Forks, WA 98331",
         47.743499,
         -124.34292,
         "98331",
         "Clallam County",
         null
        ],
        [
         3451,
         "17465 Southwest 63rd Avenue",
         "US",
         "Oregon",
         "Lake Oswego",
         "17465 Southwest 63rd Avenue, Lake Oswego, Oregon, US",
         "17465 63rd Ave, Lake Oswego, OR 97035",
         45.399367,
         -122.741577,
         "97035",
         "Clackamas County",
         "Lake Grove"
        ],
        [
         3452,
         "17946 Southeast 394th Lane",
         "US",
         "Washington",
         "Auburn",
         "17946 Southeast 394th Lane, Auburn, Washington, US",
         "SE 394th Ln, Auburn, WA 98092",
         47.24797852,
         -122.10432814,
         "98092",
         "King County",
         "Newaukum"
        ],
        [
         3453,
         "2001 Monroe Avenue",
         "US",
         "Oregon",
         "Corvallis",
         "2001 Monroe Avenue, Corvallis, Oregon, US",
         "2001 NW Monroe Ave, Corvallis, OR 97330",
         44.568287,
         -123.275554,
         "97330",
         "Benton County",
         null
        ],
        [
         3454,
         "222 East Main Street",
         "US",
         "Washington",
         "Auburn",
         "222 East Main Street, Auburn, Washington, US",
         "222 Auburn Ave, Auburn, WA 98002",
         47.3070283,
         -122.2269333,
         "98002",
         "King County",
         "Downtown Auburn"
        ],
        [
         3455,
         "228 Manson View Drive",
         "US",
         "Washington",
         "Manson",
         "228 Manson View Drive, Manson, Washington, US",
         "228 Orchard View Dr, Manson, WA 98831",
         47.91029818,
         -120.07849151,
         "98831",
         "Chelan County",
         null
        ],
        [
         3456,
         "23622 Southeast 237th Street",
         "US",
         "Washington",
         "Maple Valley",
         "23622 Southeast 237th Street, Maple Valley, Washington, US",
         "SE 237th St, Maple Valley, WA 98038",
         47.38912175,
         -122.04598595,
         "98038",
         "King County",
         "Wilderness Village"
        ],
        [
         3457,
         "23641 16th Place South",
         "US",
         "Washington",
         "Des Moines",
         "23641 16th Place South, Des Moines, Washington, US",
         "16th Pl S, Des Moines, WA 98198",
         47.38997,
         -122.31118475,
         "98198",
         "King County",
         null
        ],
        [
         3458,
         "24136 39th Drive Southeast",
         "US",
         "Washington",
         "Bothell",
         "24136 39th Drive Southeast, Bothell, Washington, US",
         "39th Dr SE, Bothell, WA 98021",
         47.8069596,
         -122.18035325,
         "98021",
         "King County",
         null
        ],
        [
         3459,
         "25394 25934 104th Avenue Southeast",
         "US",
         "Washington",
         "Kent",
         "25394 25934 104th Avenue Southeast, Kent, Washington, US",
         "25394 104th Ave SE, Kent, WA 98030",
         47.37440681,
         -122.2023614,
         "98030",
         "King County",
         "Kent East Hill"
        ],
        [
         3460,
         "270 Brighton Ave",
         "US",
         "Washington",
         "Port Hadlock",
         "270 Brighton Ave, Port Hadlock, Washington, US",
         "270 Brighton St, Port Hadlock, WA 98339",
         48.038099,
         -122.759453,
         "98339",
         "Jefferson County",
         null
        ],
        [
         3461,
         "287425 Us 101",
         "US",
         "Washington",
         "Quilcene",
         "287425 Us 101, Quilcene, Washington, US",
         "287425 US Highway 101, Quilcene, WA 98376",
         47.9198156,
         -122.8858171,
         "98376",
         "Jefferson County",
         null
        ],
        [
         3462,
         "290336 Us 101",
         "US",
         "Washington",
         "Quilcene",
         "290336 Us 101, Quilcene, Washington, US",
         "290336 US Highway 101, Quilcene, WA 98376",
         47.8828348,
         -122.8781322,
         "98376",
         "Jefferson County",
         null
        ],
        [
         3463,
         "294772 Us 101",
         "US",
         "Washington",
         "Quilcene",
         "294772 Us 101, Quilcene, Washington, US",
         "294772 US Highway 101, Quilcene, WA 98376",
         47.8227545,
         -122.8758778,
         "98376",
         "Jefferson County",
         null
        ],
        [
         3464,
         "294903 Us 101",
         "US",
         "Washington",
         "Quilcene",
         "294903 Us 101, Quilcene, Washington, US",
         "294903 US Highway 101, Quilcene, WA 98376",
         47.821262,
         -122.876812,
         "98376",
         "Jefferson County",
         null
        ],
        [
         3465,
         "295313 Us 101",
         "US",
         "Washington",
         "Quilcene",
         "295313 Us 101, Quilcene, Washington, US",
         "295313 US Highway 101, Quilcene, WA 98376",
         47.8201494,
         -122.8870538,
         "98376",
         "Jefferson County",
         null
        ],
        [
         3466,
         "304753 Us 101",
         "US",
         "Washington",
         "Brinnon",
         "304753 Us 101, Brinnon, Washington, US",
         "304753 US Highway 101, Brinnon, WA 98320",
         47.715877,
         -122.886388,
         "98320",
         "Jefferson County",
         null
        ],
        [
         3467,
         "312 Broadway",
         "US",
         "Washington",
         "Everett",
         "312 Broadway, Everett, Washington, US",
         "312 N Broadway, Everett, WA 98201",
         48.01039031,
         -122.19167664,
         "98201",
         "Snohomish County",
         "Northwest Everett"
        ],
        [
         3468,
         "313782 Us 101",
         "US",
         "Washington",
         "Brinnon",
         "313782 Us 101, Brinnon, Washington, US",
         "313782 US Highway 101, Brinnon, WA 98320",
         47.6176062,
         -122.9798732,
         "98320",
         "Jefferson County",
         null
        ],
        [
         3469,
         "3201 Park Lane",
         "US",
         "Washington",
         "Mount Vernon",
         "3201 Park Lane, Mount Vernon, Washington, US",
         "Mount Vernon, WA",
         48.41749954,
         -122.33615875,
         null,
         "Skagit County",
         null
        ],
        [
         3470,
         "3250 Northeast Broadway",
         "US",
         "Oregon",
         "Portland",
         "3250 Northeast Broadway, Portland, Oregon, US",
         "3250 NE Broadway St, Portland, OR 97232",
         45.534996,
         -122.631664,
         "97232",
         "Multnomah County",
         "Grant Park"
        ],
        [
         3471,
         "35290 Shangri La Drive",
         "US",
         "Washington",
         "Hamilton",
         "35290 Shangri La Drive, Hamilton, Washington, US",
         "Shangri la Dr, Mount Ida, AR 71957",
         34.56821506,
         -93.46883556,
         "71957",
         "Montgomery County",
         null
        ],
        [
         3472,
         "35930 Shangri La Drive",
         "US",
         "Washington",
         "Hamilton",
         "35930 Shangri La Drive, Hamilton, Washington, US",
         "35930 Shangri la Ct, Clinton Township, MI 48035-2268",
         42.56026679,
         -82.95678981,
         "48035-2268",
         "Macomb County",
         null
        ],
        [
         3473,
         "3829 Southeast C Sar E Ch Vez Boulevard",
         "US",
         "Oregon",
         "Portland",
         "3829 Southeast C Sar E Ch Vez Boulevard, Portland, Oregon, US",
         "3829 SE Cesar E Chavez Blvd, Portland, OR 97202",
         45.4949428,
         -122.6225687,
         "97202",
         "Multnomah County",
         "Creston-Kenilworth"
        ],
        [
         3474,
         "3898 Botticelli",
         "US",
         "Oregon",
         "Lake Oswego",
         "3898 Botticelli, Lake Oswego, Oregon, US",
         "3898 Botticelli St, Lake Oswego, OR 97035",
         45.425995,
         -122.717495,
         "97035",
         "Clackamas County",
         "Lake Grove"
        ],
        [
         3475,
         "40490 Old Us Highway 30 Svensen",
         "US",
         "Oregon",
         "Svensen",
         "40490 Old Us Highway 30 Svensen, Svensen, Oregon, US",
         "40490 Old US Highway 30, Astoria, OR 97103",
         46.16527,
         -123.6609,
         "97103",
         "Clatsop County",
         null
        ],
        [
         3476,
         "4138 Harrison Ave Nw",
         "US",
         "Washington",
         "Olympia",
         "4138 Harrison Ave Nw, Olympia, Washington, US",
         "4138 Harrison Ave NW, Olympia, WA 98502",
         47.047448,
         -122.954881,
         "98502",
         "Thurston County",
         null
        ],
        [
         3477,
         "4167 Southeast C Sar E Ch Vez Boulevard",
         "US",
         "Oregon",
         "Portland",
         "4167 Southeast C Sar E Ch Vez Boulevard, Portland, Oregon, US",
         "4167 NE Cesar E Chavez Blvd, Portland, OR 97211",
         45.55307851,
         -122.62350221,
         "97211",
         "Multnomah County",
         "Beaumont Wilshire"
        ],
        [
         3478,
         "4208 Mason Road Northeast",
         "US",
         "Washington",
         "Seattle",
         "4208 Mason Road Northeast, Seattle, Washington, US",
         "Mason Rd, Seattle, WA 98195",
         47.65645622,
         -122.3026482,
         "98195",
         "King County",
         "University District"
        ],
        [
         3479,
         "46 Mcmahon Road",
         "US",
         "Washington",
         "Leavenworth",
         "46 Mcmahon Road, Leavenworth, Washington, US",
         "46 McMahon Dempsey Rd, Leavenworth, WA 98826",
         47.569091,
         -120.657252,
         "98826",
         "Chelan County",
         null
        ],
        [
         3480,
         "470 Forest Dr",
         "US",
         "Washington",
         "Brinnon",
         "470 Forest Dr, Brinnon, Washington, US",
         "470 Forest Point Dr, Brandon, MS 39047",
         32.3788063,
         -90.0203199,
         "39047",
         "Rankin County",
         null
        ],
        [
         3481,
         "481 Forest Dr",
         "US",
         "Washington",
         "Brinnon",
         "481 Forest Dr, Brinnon, Washington, US",
         "481 Forest Point Dr, Brandon, MS 39047",
         32.37860233,
         -90.02026132,
         "39047",
         "Rankin County",
         null
        ],
        [
         3482,
         "4932 20",
         "US",
         "Washington",
         "Port Townsend",
         "4932 20, Port Townsend, Washington, US",
         "4932 WA-20, Port Townsend, WA 98368",
         48.028846,
         -122.824346,
         "98368",
         "Jefferson County",
         null
        ],
        [
         3483,
         "514 East Main Street",
         "US",
         "Oregon",
         "Cottage Grove",
         "514 East Main Street, Cottage Grove, Oregon, US",
         "514 Adams Ave, Cottage Grove, OR 97424",
         43.795679,
         -123.062415,
         "97424",
         "Lane County",
         null
        ],
        [
         3484,
         "5210 Southeast Rinearson Road",
         "US",
         "Oregon",
         "Gladstone",
         "5210 Southeast Rinearson Road, Gladstone, Oregon, US",
         "5210 Rinearson Rd, Gladstone, OR 97027",
         45.381121,
         -122.6089428,
         "97027",
         "Clackamas County",
         null
        ],
        [
         3485,
         "533 East Main Street",
         "US",
         "Oregon",
         "Hillsboro",
         "533 East Main Street, Hillsboro, Oregon, US",
         "533 N Main St, Mount Angel, OR 97362",
         45.07154885,
         -122.79761359,
         "97362",
         "Marion County",
         null
        ],
        [
         3486,
         "5830 119th Ave Se",
         "US",
         "Washington",
         "Bellevue",
         "5830 119th Ave Se, Bellevue, Washington, US",
         "5830 119th Ave SE, Bellevue, WA 98006",
         47.551399,
         -122.177809,
         "98006",
         "King County",
         "Newport"
        ],
        [
         3487,
         "6451 Ne Hilltop Lane",
         "US",
         "Oregon",
         "Dayton",
         "6451 Ne Hilltop Lane, Dayton, Oregon, US",
         "6451 NE Hilltop Ln, Dayton, OR 97114",
         45.257738,
         -123.074588,
         "97114",
         "Yamhill County",
         null
        ],
        [
         3488,
         "7266 20",
         "US",
         "Washington",
         "Port Townsend",
         "7266 20, Port Townsend, Washington, US",
         "7266 State Route 20, Port Townsend, WA 98368",
         48.062968,
         -122.818718,
         "98368",
         "Jefferson County",
         null
        ],
        [
         3489,
         "83 Lindner Creek Ln",
         "US",
         "Washington",
         "Forks",
         "83 Lindner Creek Ln, Forks, Washington, US",
         "83 Linden Ln, Springfield, IL 62712",
         39.741157,
         -89.595917,
         "62712",
         "Sangamon County",
         null
        ],
        [
         3490,
         "84 Daleville Avenue",
         "US",
         "Alabama",
         "Daleville",
         "84 Daleville Avenue, Daleville, Alabama, US",
         "84 N Daleville Ave, Daleville, AL 36322",
         31.30922189,
         -85.71277725,
         "36322",
         "Dale County",
         null
        ],
        [
         3491,
         "85 Woodview Road",
         "US",
         "Alabama",
         "Henagar",
         "85 Woodview Road, Henagar, Alabama, US",
         "85 Woodview Rd, Henagar, AL 35978",
         34.634228,
         -85.768504,
         "35978",
         "De Kalb County",
         null
        ],
        [
         3492,
         "87 State Highway 85",
         "US",
         "Alabama",
         "Laurel Hill",
         "87 State Highway 85, Laurel Hill, Alabama, US",
         "87 Highway 85 N, Laurel Hill, FL 32567",
         30.992968,
         -86.334262,
         "32567",
         "Okaloosa County",
         null
        ],
        [
         3493,
         "969 Southwest Broadway",
         "US",
         "Oregon",
         "Portland",
         "969 Southwest Broadway, Portland, Oregon, US",
         "969 Broadway, Portland, OR 97209",
         45.523054,
         -122.67752418,
         "97209",
         "Multnomah County",
         "West Portland Park"
        ]
       ],
       "datasetInfos": [],
       "dbfsResultPath": null,
       "isJsonSchema": true,
       "metadata": {},
       "overflow": false,
       "plotOptions": {
        "customPlotOptions": {},
        "displayType": "table",
        "pivotAggregation": null,
        "pivotColumns": null,
        "xColumns": null,
        "yColumns": null
       },
       "removedWidgets": [],
       "schema": [
        {
         "metadata": "{}",
         "name": "id",
         "type": "\"integer\""
        },
        {
         "metadata": "{}",
         "name": "addressline",
         "type": "\"string\""
        },
        {
         "metadata": "{}",
         "name": "country",
         "type": "\"string\""
        },
        {
         "metadata": "{}",
         "name": "state",
         "type": "\"string\""
        },
        {
         "metadata": "{}",
         "name": "city",
         "type": "\"string\""
        },
        {
         "metadata": "{}",
         "name": "full_address",
         "type": "\"string\""
        },
        {
         "metadata": "{}",
         "name": "completed_address",
         "type": "\"string\""
        },
        {
         "metadata": "{}",
         "name": "lat",
         "type": "\"double\""
        },
        {
         "metadata": "{}",
         "name": "lng",
         "type": "\"double\""
        },
        {
         "metadata": "{}",
         "name": "postal_code",
         "type": "\"string\""
        },
        {
         "metadata": "{}",
         "name": "county",
         "type": "\"string\""
        },
        {
         "metadata": "{}",
         "name": "neighborhood",
         "type": "\"string\""
        }
       ],
       "type": "table"
      }
     },
     "output_type": "display_data"
    }
   ],
   "source": [
    "try:\n",
    "    logger.info(\"Starting to process API entries.\")\n",
    "\n",
    "    if len(processed_list) > 0:\n",
    "        \n",
    "        processed_df = (\n",
    "            spark.createDataFrame(processed_list)\n",
    "            .withColumn(\"old_house_number\", F.split(F.col(\"full_address\"), \" \")[0])\n",
    "            .withColumn(\"new_house_number\", F.split(F.col(\"completed_address\"), \" \")[0])\n",
    "            .withColumn(\n",
    "                \"levenshtein_distance\",\n",
    "                F.levenshtein(\n",
    "                    expand_street_names_udf(F.split(F.col(\"full_address\"), \", \")[0]),\n",
    "                    expand_street_names_udf(F.split(F.col(\"completed_address\"), \", \")[0]),\n",
    "                ),\n",
    "            )\n",
    "            .filter(\n",
    "                F.col(\"completed_address\").isNotNull()\n",
    "                # & F.col(\"postal_code\").isNotNull()\n",
    "                & F.col(\"lat\").isNotNull()\n",
    "                & F.col(\"lng\").isNotNull()\n",
    "                # & (F.col('levenshtein_distance') <= 5)\n",
    "                # & (F.col('old_house_number') == F.col('new_house_number'))\n",
    "            )\n",
    "            .withColumn(\"id\", max_id + F.row_number().over(Window.orderBy(\"full_address\")))\n",
    "            .select(\n",
    "                \"id\",\n",
    "                \"addressline\",\n",
    "                \"country\",\n",
    "                \"state\",\n",
    "                \"city\",\n",
    "                \"full_address\",\n",
    "                \"completed_address\",\n",
    "                \"lat\",\n",
    "                \"lng\",\n",
    "                \"postal_code\",\n",
    "                \"county\",\n",
    "                \"neighborhood\",\n",
    "            )\n",
    "        )\n",
    "\n",
    "        processed_df.write.format(\"delta\").mode(\"append\").saveAsTable(\n",
    "            f\"{catalog_name}.{schema_silver_name}.addressline_enriched\"\n",
    "        )\n",
    "\n",
    "        # Log the outcome\n",
    "        logger.info(f\"Processed enriched AddressLines from Bing API.\")\n",
    "    else:\n",
    "        logger.info(f\"There is no new AddressLines.\")\n",
    "\n",
    "except Exception as e:\n",
    "    logger.error(\"An error occurred while processing enriched AddressLines entries.\", exc_info=True)\n",
    "    raise\n"
   ]
  },
  {
   "cell_type": "code",
   "execution_count": 0,
   "metadata": {
    "application/vnd.databricks.v1+cell": {
     "cellMetadata": {
      "byteLimit": 2048000,
      "implicitDf": true,
      "rowLimit": 10000
     },
     "inputWidgets": {},
     "nuid": "c5bc6193-edfe-4973-b007-ad205e5db681",
     "showTitle": false,
     "title": ""
    }
   },
   "outputs": [
    {
     "output_type": "stream",
     "name": "stdout",
     "output_type": "stream",
     "text": [
      "All data processed: True\n"
     ]
    }
   ],
   "source": [
    "addressline_enriched_count = spark.table(\"hive_metastore.zhastay_yeltay_02_silver.addressline_enriched\").count()\n",
    "addresses_count = spark.table(\"hive_metastore.zhastay_yeltay_02_silver.addresses\").select('addressline').distinct().count()\n",
    "\n",
    "logger.info(f'All data processed: {addressline_enriched_count == addresses_count}')"
   ]
  },
  {
   "cell_type": "code",
   "execution_count": 0,
   "metadata": {
    "application/vnd.databricks.v1+cell": {
     "cellMetadata": {},
     "inputWidgets": {},
     "nuid": "578d9b23-79f3-469c-be59-a9f0cd96d4ad",
     "showTitle": false,
     "title": ""
    }
   },
   "outputs": [],
   "source": []
  }
 ],
 "metadata": {
  "application/vnd.databricks.v1+notebook": {
   "dashboards": [],
   "environmentMetadata": null,
   "language": "python",
   "notebookMetadata": {
    "mostRecentlyExecutedCommandWithImplicitDF": {
     "commandId": 1838011006685256,
     "dataframes": [
      "_sqldf"
     ]
    },
    "pythonIndentUnit": 4
   },
   "notebookName": "silver_addresslines_enrich",
   "widgets": {
    "task": {
     "currentValue": "test_logger",
     "nuid": "124911d6-0455-4c40-bee9-b4dd30dbca37",
     "typedWidgetInfo": null,
     "widgetInfo": {
      "widgetType": "text",
      "defaultValue": "test_logger",
      "label": null,
      "name": "task",
      "options": {
       "widgetType": "text",
       "autoCreated": null,
       "validationRegex": null
      }
     }
    }
   }
  }
 },
 "nbformat": 4,
 "nbformat_minor": 0
}
