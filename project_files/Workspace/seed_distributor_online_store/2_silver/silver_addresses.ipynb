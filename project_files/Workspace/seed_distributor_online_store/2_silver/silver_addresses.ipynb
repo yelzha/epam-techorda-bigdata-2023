{
 "cells": [
  {
   "cell_type": "code",
   "execution_count": 0,
   "metadata": {
    "application/vnd.databricks.v1+cell": {
     "cellMetadata": {
      "byteLimit": 2048000,
      "rowLimit": 10000
     },
     "inputWidgets": {},
     "nuid": "8f9fff29-9c6e-499b-ba45-8d4be370e6e2",
     "showTitle": false,
     "title": ""
    }
   },
   "outputs": [],
   "source": [
    "import sys, os\n",
    "sys.path.append(os.path.abspath('/Workspace/Repos/zhastay_yeltay@epam.com/utils/'))\n",
    "\n",
    "from delta.tables import *\n",
    "from pyspark.sql import functions as F\n",
    "from pyspark.sql.types import StructType, StructField, StringType, TimestampType, IntegerType, DateType, LongType, BooleanType\n",
    "\n",
    "from init import *\n",
    "from udfs import * \n",
    "init_spark()\n",
    "\n",
    "from util_logger import init_logger\n",
    "dbutils.widgets.text('task', \"test_logger\")\n",
    "logger = init_logger(dbutils.widgets.get('task'))"
   ]
  },
  {
   "cell_type": "markdown",
   "metadata": {
    "application/vnd.databricks.v1+cell": {
     "cellMetadata": {},
     "inputWidgets": {},
     "nuid": "30226ee5-5aae-4eb9-8876-28aec3dba55c",
     "showTitle": false,
     "title": ""
    }
   },
   "source": [
    "## Checking validity"
   ]
  },
  {
   "cell_type": "code",
   "execution_count": 0,
   "metadata": {
    "application/vnd.databricks.v1+cell": {
     "cellMetadata": {
      "byteLimit": 2048000,
      "rowLimit": 10000
     },
     "inputWidgets": {},
     "nuid": "7abeb4cc-d4ad-4ea7-b138-2de9aeb0d3ca",
     "showTitle": false,
     "title": ""
    }
   },
   "outputs": [],
   "source": [
    "try:\n",
    "    # Log loading data from the bronze layer\n",
    "    logger.info(f\"Loading address data from the Delta table at {bronze}/addresses.\")\n",
    "    bronze_addresses_df = spark.read.format(\"delta\").load(f\"{bronze}/addresses\")\n",
    "\n",
    "    # Log start of transformation\n",
    "    logger.info(\"Starting transformation and validation of address data.\")\n",
    "\n",
    "    # Renaming column and adding validation columns\n",
    "    silver_addresses_df_upd = (\n",
    "        bronze_addresses_df\n",
    "        .withColumnRenamed(\"CreatedOn\", \"created_on\")\n",
    "        .withColumn(\n",
    "            'is_valid',\n",
    "            F.col('addressline').rlike(address_pattern)  # Valid pattern\n",
    "            & ~F.col('addressline').rlike(r'^\\s*\\d+(\\s+\\d+)*\\s*$')  # Checking if there are only numbers\n",
    "            & F.col('city').rlike(city_state_pattern)\n",
    "            & F.col('state').rlike(city_state_pattern)\n",
    "            & F.col('country').rlike(city_state_pattern)\n",
    "        )\n",
    "    )\n",
    "\n",
    "    # Filtering valid and invalid addresses\n",
    "    silver_addresses_valid = silver_addresses_df_upd.filter(F.col('is_valid'))\n",
    "    silver_addresses_invalid = silver_addresses_df_upd.exceptAll(silver_addresses_valid)\n",
    "\n",
    "    # Log completion of filtering\n",
    "    logger.info(\"Completed filtering of valid and invalid addresses.\")\n",
    "\n",
    "except Exception as e:\n",
    "    logger.error(\"An error occurred during the processing of addresses.\", exc_info=True)\n",
    "    raise"
   ]
  },
  {
   "cell_type": "markdown",
   "metadata": {
    "application/vnd.databricks.v1+cell": {
     "cellMetadata": {},
     "inputWidgets": {},
     "nuid": "73a0ac4f-b385-47c5-a48e-9eed7df1f87f",
     "showTitle": false,
     "title": ""
    }
   },
   "source": [
    "## Valid"
   ]
  },
  {
   "cell_type": "code",
   "execution_count": 0,
   "metadata": {
    "application/vnd.databricks.v1+cell": {
     "cellMetadata": {
      "byteLimit": 2048000,
      "rowLimit": 10000
     },
     "inputWidgets": {},
     "nuid": "21f8ab84-fe60-424d-bffa-2b393fe35a77",
     "showTitle": false,
     "title": ""
    }
   },
   "outputs": [],
   "source": [
    "try:\n",
    "    # Log loading and preparing for merge\n",
    "    logger.info(f\"Loading Silver layer Delta table for addresses from {silver}/addresses.\")\n",
    "    silver_addresses_df = DeltaTable.forPath(spark, f\"{silver}/addresses/\")\n",
    "\n",
    "    # Log the start of the merge operation\n",
    "    logger.info(\"Starting merge operation for validated addresses.\")\n",
    "    silver_addresses_df.alias(\"addresses\").merge(\n",
    "        silver_addresses_valid.alias(\"updates\"),\n",
    "        \"addresses.id = updates.id\"\n",
    "    ).whenMatchedUpdate(\n",
    "        condition=\"\"\"\n",
    "                addresses.created_on != updates.created_on\n",
    "                OR addresses.city != updates.city\n",
    "                OR addresses.state != updates.state\n",
    "                OR addresses.country != updates.country\n",
    "                OR addresses.addressline != updates.addressline\n",
    "            \"\"\",\n",
    "        set={\n",
    "            \"created_on\": \"updates.created_on\",\n",
    "            \"city\": \"updates.city\",\n",
    "            \"state\": \"updates.state\",\n",
    "            \"country\": \"updates.country\",\n",
    "            \"addressline\": \"updates.addressline\"\n",
    "        },\n",
    "    ).whenNotMatchedInsert(\n",
    "        values={\n",
    "            \"created_on\": \"updates.created_on\",\n",
    "            \"city\": \"updates.city\",\n",
    "            \"state\": \"updates.state\",\n",
    "            \"country\": \"updates.country\",\n",
    "            \"id\": \"updates.id\",\n",
    "            \"addressline\": \"updates.addressline\"\n",
    "        }\n",
    "    ).execute()\n",
    "    logger.info(\"Merge operation completed successfully.\")\n",
    "except Exception as e:\n",
    "    logger.error(\"An error occurred during the merge or maintenance operations.\", exc_info=True)\n",
    "    raise"
   ]
  },
  {
   "cell_type": "markdown",
   "metadata": {
    "application/vnd.databricks.v1+cell": {
     "cellMetadata": {},
     "inputWidgets": {},
     "nuid": "1eac2266-1cde-418c-ba19-ecbad09c8dd5",
     "showTitle": false,
     "title": ""
    }
   },
   "source": [
    "## DLQ"
   ]
  },
  {
   "cell_type": "code",
   "execution_count": 0,
   "metadata": {
    "application/vnd.databricks.v1+cell": {
     "cellMetadata": {
      "byteLimit": 2048000,
      "rowLimit": 10000
     },
     "inputWidgets": {},
     "nuid": "cdccab25-432c-42bf-b31b-d49c351c83a3",
     "showTitle": false,
     "title": ""
    }
   },
   "outputs": [],
   "source": [
    "try:\n",
    "    # Check if there are invalid addresses\n",
    "    logger.info(\"Checking for invalid addresses.\")\n",
    "    has_invalid = silver_addresses_invalid.limit(1).count() > 0\n",
    "\n",
    "    if has_invalid:\n",
    "        logger.info(\"Invalid addresses found, processing them into DLQ (Dead Letter Queue).\")\n",
    "\n",
    "        # Load the DLQ table\n",
    "        logger.info(f\"Loading DLQ Delta table for addresses from {silver}/addresses_dlq.\")\n",
    "        silver_addresses_dlq_df = DeltaTable.forPath(spark, f\"{silver}/addresses_dlq/\")\n",
    "\n",
    "        # Log the start of the merge operation into DLQ\n",
    "        logger.info(\"Starting merge operation for invalid addresses into DLQ.\")\n",
    "        silver_addresses_dlq_df.alias(\"addresses\").merge(\n",
    "            silver_addresses_invalid.alias(\"updates\"),\n",
    "            \"addresses.id = updates.id\",\n",
    "        ).whenMatchedUpdate(\n",
    "            condition=\"\"\"\n",
    "                    addresses.created_on != updates.created_on\n",
    "                    OR addresses.city != updates.city\n",
    "                    OR addresses.state != updates.state\n",
    "                    OR addresses.country != updates.country\n",
    "                    OR addresses.addressline != updates.addressline\n",
    "                \"\"\",\n",
    "            set={\n",
    "                \"created_on\": \"updates.created_on\",\n",
    "                \"city\": \"updates.city\",\n",
    "                \"state\": \"updates.state\",\n",
    "                \"country\": \"updates.country\",\n",
    "                \"addressline\": \"updates.addressline\",\n",
    "                \"is_processed\": \"False\",\n",
    "                \"dlq_timestamp\": F.current_timestamp()\n",
    "            },\n",
    "        ).whenNotMatchedInsert(\n",
    "            values={\n",
    "                \"created_on\": \"updates.created_on\",\n",
    "                \"city\": \"updates.city\",\n",
    "                \"state\": \"updates.state\",\n",
    "                \"country\": \"updates.country\",\n",
    "                \"id\": \"updates.id\",\n",
    "                \"addressline\": \"updates.addressline\",\n",
    "                \"is_processed\": \"False\",\n",
    "                \"dlq_timestamp\": F.current_timestamp()\n",
    "            }\n",
    "        ).execute()\n",
    "        logger.info(\"Merge operation for invalid addresses completed successfully.\")\n",
    "    else:\n",
    "        logger.info(\"No invalid addresses found. No DLQ processing required.\")\n",
    "\n",
    "except Exception as e:\n",
    "    logger.error(\"An error occurred while processing invalid addresses for DLQ.\", exc_info=True)\n",
    "    raise"
   ]
  },
  {
   "cell_type": "code",
   "execution_count": 0,
   "metadata": {
    "application/vnd.databricks.v1+cell": {
     "cellMetadata": {},
     "inputWidgets": {},
     "nuid": "7ffe9aea-3ae4-491c-bbf2-6bb90e58ce05",
     "showTitle": false,
     "title": ""
    }
   },
   "outputs": [],
   "source": []
  }
 ],
 "metadata": {
  "application/vnd.databricks.v1+notebook": {
   "dashboards": [],
   "environmentMetadata": null,
   "language": "python",
   "notebookMetadata": {
    "mostRecentlyExecutedCommandWithImplicitDF": {
     "commandId": -1,
     "dataframes": [
      "_sqldf"
     ]
    },
    "pythonIndentUnit": 4
   },
   "notebookName": "silver_addresses",
   "widgets": {
    "task": {
     "currentValue": "test_logger",
     "nuid": "de8ad042-3a03-4db1-86f9-faec3be249f9",
     "typedWidgetInfo": null,
     "widgetInfo": {
      "widgetType": "text",
      "defaultValue": "test_logger",
      "label": null,
      "name": "task",
      "options": {
       "widgetType": "text",
       "autoCreated": null,
       "validationRegex": null
      }
     }
    }
   }
  }
 },
 "nbformat": 4,
 "nbformat_minor": 0
}
