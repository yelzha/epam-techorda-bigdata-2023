{
 "cells": [
  {
   "cell_type": "code",
   "execution_count": 0,
   "metadata": {
    "application/vnd.databricks.v1+cell": {
     "cellMetadata": {
      "byteLimit": 2048000,
      "implicitDf": true,
      "rowLimit": 10000
     },
     "inputWidgets": {},
     "nuid": "17ebccea-c54a-4ec0-bdf2-17d35d2dc251",
     "showTitle": false,
     "title": ""
    }
   },
   "outputs": [
    {
     "output_type": "display_data",
     "data": {
      "text/html": [
       "<style scoped>\n",
       "  .table-result-container {\n",
       "    max-height: 300px;\n",
       "    overflow: auto;\n",
       "  }\n",
       "  table, th, td {\n",
       "    border: 1px solid black;\n",
       "    border-collapse: collapse;\n",
       "  }\n",
       "  th, td {\n",
       "    padding: 5px;\n",
       "  }\n",
       "  th {\n",
       "    text-align: left;\n",
       "  }\n",
       "</style><div class='table-result-container'><table class='table-result'><thead style='background-color: white'><tr><th>num_affected_rows</th><th>num_inserted_rows</th></tr></thead><tbody></tbody></table></div>"
      ]
     },
     "metadata": {
      "application/vnd.databricks.v1+output": {
       "addedWidgets": {},
       "aggData": [],
       "aggError": "",
       "aggOverflow": false,
       "aggSchema": [],
       "aggSeriesLimitReached": false,
       "aggType": "",
       "arguments": {},
       "columnCustomDisplayInfos": {},
       "data": [],
       "datasetInfos": [],
       "dbfsResultPath": null,
       "isJsonSchema": true,
       "metadata": {
        "dataframeName": "_sqldf",
        "executionCount": 60
       },
       "overflow": false,
       "plotOptions": {
        "customPlotOptions": {},
        "displayType": "table",
        "pivotAggregation": null,
        "pivotColumns": null,
        "xColumns": null,
        "yColumns": null
       },
       "removedWidgets": [],
       "schema": [
        {
         "metadata": "{}",
         "name": "num_affected_rows",
         "type": "\"long\""
        },
        {
         "metadata": "{}",
         "name": "num_inserted_rows",
         "type": "\"long\""
        }
       ],
       "type": "table"
      }
     },
     "output_type": "display_data"
    }
   ],
   "source": [
    "%sql\n",
    "CREATE OR REPLACE TABLE hive_metastore.zhastay_yeltay_03_gold.city_geodata\n",
    "USING DELTA\n",
    "AS \n",
    "SELECT\n",
    "  state,\n",
    "  city,\n",
    "  ROUND(AVG(lat), 10) AS lat,\n",
    "  ROUND(AVG(lng), 10) AS lng\n",
    "FROM zhastay_yeltay_02_silver.addressline_enriched\n",
    "WHERE \n",
    "  lat IS NOT NULL \n",
    "  AND lng IS NOT NULL\n",
    "GROUP BY\n",
    "  state,\n",
    "  city"
   ]
  },
  {
   "cell_type": "code",
   "execution_count": 0,
   "metadata": {
    "application/vnd.databricks.v1+cell": {
     "cellMetadata": {
      "byteLimit": 2048000,
      "implicitDf": true,
      "rowLimit": 10000
     },
     "inputWidgets": {},
     "nuid": "9793e4a6-b907-44d0-acb8-72adb13111d0",
     "showTitle": false,
     "title": ""
    }
   },
   "outputs": [
    {
     "output_type": "display_data",
     "data": {
      "text/html": [
       "<style scoped>\n",
       "  .table-result-container {\n",
       "    max-height: 300px;\n",
       "    overflow: auto;\n",
       "  }\n",
       "  table, th, td {\n",
       "    border: 1px solid black;\n",
       "    border-collapse: collapse;\n",
       "  }\n",
       "  th, td {\n",
       "    padding: 5px;\n",
       "  }\n",
       "  th {\n",
       "    text-align: left;\n",
       "  }\n",
       "</style><div class='table-result-container'><table class='table-result'><thead style='background-color: white'><tr><th>num_affected_rows</th><th>num_inserted_rows</th></tr></thead><tbody></tbody></table></div>"
      ]
     },
     "metadata": {
      "application/vnd.databricks.v1+output": {
       "addedWidgets": {},
       "aggData": [],
       "aggError": "",
       "aggOverflow": false,
       "aggSchema": [],
       "aggSeriesLimitReached": false,
       "aggType": "",
       "arguments": {},
       "columnCustomDisplayInfos": {},
       "data": [],
       "datasetInfos": [],
       "dbfsResultPath": null,
       "isJsonSchema": true,
       "metadata": {
        "dataframeName": "_sqldf",
        "executionCount": 73
       },
       "overflow": false,
       "plotOptions": {
        "customPlotOptions": {},
        "displayType": "table",
        "pivotAggregation": null,
        "pivotColumns": null,
        "xColumns": null,
        "yColumns": null
       },
       "removedWidgets": [],
       "schema": [
        {
         "metadata": "{}",
         "name": "num_affected_rows",
         "type": "\"long\""
        },
        {
         "metadata": "{}",
         "name": "num_inserted_rows",
         "type": "\"long\""
        }
       ],
       "type": "table"
      }
     },
     "output_type": "display_data"
    }
   ],
   "source": [
    "%sql\n",
    "\n",
    "\n",
    "CREATE OR REPLACE TABLE hive_metastore.zhastay_yeltay_03_gold.01v2_cities_by_vip_customer_count\n",
    "USING DELTA\n",
    "AS\n",
    "WITH cities_by_vip AS (\n",
    "  SELECT\n",
    "    a.city,\n",
    "    COUNT(DISTINCT c.id) AS total_vip_customers\n",
    "  FROM\n",
    "    hive_metastore.zhastay_yeltay_02_silver.addresses AS a\n",
    "    INNER JOIN hive_metastore.zhastay_yeltay_02_silver.orders AS o ON a.id = o.address_id\n",
    "    INNER JOIN hive_metastore.zhastay_yeltay_02_silver.customers AS c ON o.customer_id = c.id\n",
    "  WHERE\n",
    "    c.status = 'VIP'\n",
    "  GROUP BY\n",
    "    a.city\n",
    ")\n",
    "SELECT\n",
    "  cg.lat,\n",
    "  cg.lng,\n",
    "  q1.city,\n",
    "  q1.total_vip_customers\n",
    "FROM cities_by_vip AS q1\n",
    "INNER JOIN zhastay_yeltay_03_gold.city_geodata AS cg\n",
    "  ON cg.city = q1.city"
   ]
  },
  {
   "cell_type": "code",
   "execution_count": 0,
   "metadata": {
    "application/vnd.databricks.v1+cell": {
     "cellMetadata": {
      "byteLimit": 2048000,
      "implicitDf": true,
      "rowLimit": 10000
     },
     "inputWidgets": {},
     "nuid": "590f5454-f00f-41db-a902-bbeec8579266",
     "showTitle": false,
     "title": ""
    }
   },
   "outputs": [
    {
     "output_type": "display_data",
     "data": {
      "text/html": [
       "<style scoped>\n",
       "  .table-result-container {\n",
       "    max-height: 300px;\n",
       "    overflow: auto;\n",
       "  }\n",
       "  table, th, td {\n",
       "    border: 1px solid black;\n",
       "    border-collapse: collapse;\n",
       "  }\n",
       "  th, td {\n",
       "    padding: 5px;\n",
       "  }\n",
       "  th {\n",
       "    text-align: left;\n",
       "  }\n",
       "</style><div class='table-result-container'><table class='table-result'><thead style='background-color: white'><tr><th>num_affected_rows</th><th>num_inserted_rows</th></tr></thead><tbody></tbody></table></div>"
      ]
     },
     "metadata": {
      "application/vnd.databricks.v1+output": {
       "addedWidgets": {},
       "aggData": [],
       "aggError": "",
       "aggOverflow": false,
       "aggSchema": [],
       "aggSeriesLimitReached": false,
       "aggType": "",
       "arguments": {},
       "columnCustomDisplayInfos": {},
       "data": [],
       "datasetInfos": [],
       "dbfsResultPath": null,
       "isJsonSchema": true,
       "metadata": {
        "dataframeName": "_sqldf",
        "executionCount": 66
       },
       "overflow": false,
       "plotOptions": {
        "customPlotOptions": {},
        "displayType": "table",
        "pivotAggregation": null,
        "pivotColumns": null,
        "xColumns": null,
        "yColumns": null
       },
       "removedWidgets": [],
       "schema": [
        {
         "metadata": "{}",
         "name": "num_affected_rows",
         "type": "\"long\""
        },
        {
         "metadata": "{}",
         "name": "num_inserted_rows",
         "type": "\"long\""
        }
       ],
       "type": "table"
      }
     },
     "output_type": "display_data"
    }
   ],
   "source": [
    "%sql\n",
    "\n",
    "CREATE OR REPLACE TABLE hive_metastore.zhastay_yeltay_03_gold.total_revenue_by_all_categories\n",
    "USING DELTA\n",
    "AS\n",
    "WITH all_joined AS (\n",
    "  SELECT\n",
    "    o.id AS order_id,\n",
    "    o.created_on AS o_created_on,\n",
    "    o.delivered_on,\n",
    "    o.delivery_date,\n",
    "    od.quantity,\n",
    "    i.price,\n",
    "    c.id AS customer_id,\n",
    "    c.status,\n",
    "    c.type,\n",
    "    a.id AS address_id,\n",
    "    a.created_on AS a_created_on,\n",
    "    ae.id AS addressline_id,\n",
    "    a.addressline,\n",
    "    ae.completed_address,\n",
    "    ae.postal_code,\n",
    "    ae.neighborhood,\n",
    "    ae.county,\n",
    "    a.city,\n",
    "    a.state,\n",
    "    scc.abbreviation AS state_code,\n",
    "    a.country,\n",
    "    ae.lat,\n",
    "    ae.lng,\n",
    "    mc.metropolitan,\n",
    "    mc.metropolitan IS NOT NULL AS is_metropolitan,\n",
    "    scc.city = a.city AS is_state_capital_city\n",
    "  FROM zhastay_yeltay_02_silver.orders AS o\n",
    "  INNER JOIN zhastay_yeltay_02_silver.addresses AS a\n",
    "    ON o.address_id = a.id\n",
    "  INNER JOIN zhastay_yeltay_02_silver.customers AS c\n",
    "    ON o.customer_id = c.id\n",
    "  INNER JOIN zhastay_yeltay_02_silver.order_details AS od\n",
    "    ON o.id = od.order_id\n",
    "  INNER JOIN zhastay_yeltay_02_silver.items AS i\n",
    "    ON od.item_id = i.id\n",
    "  INNER JOIN zhastay_yeltay_02_silver.addressline_enriched AS ae\n",
    "    ON a.country = ae.country\n",
    "    AND a.state = ae.state\n",
    "    AND a.city = ae.city\n",
    "    AND a.addressline = ae.addressline\n",
    "  LEFT JOIN zhastay_yeltay_02_silver.metropolitan_cities AS mc\n",
    "    ON mc.state = a.state\n",
    "    AND mc.city = a.city\n",
    "  LEFT JOIN zhastay_yeltay_02_silver.state_capital_cities AS scc\n",
    "    ON scc.state = a.state\n",
    ")\n",
    "SELECT\n",
    "  state,\n",
    "  state_code,\n",
    "  status,\n",
    "  type,\n",
    "  is_metropolitan,\n",
    "  is_state_capital_city,\n",
    "  COUNT(DISTINCT order_id) AS cnt,\n",
    "  COUNT(quantity * price) AS total_revenue\n",
    "  -- COUNT(DISTINCT order_id) FILTER(WHERE status = 'VIP')::NUMERIC / COUNT(DISTINCT order_id) AS vip_orders_percentage,\n",
    "  -- COUNT(DISTINCT order_id) FILTER(WHERE status = 'Regular')::NUMERIC / COUNT(DISTINCT order_id) AS regular_orders_percentage,\n",
    "\n",
    "  -- COUNT(DISTINCT order_id) FILTER(WHERE type = 'Individual')::NUMERIC / COUNT(DISTINCT order_id) AS individual_percentage,\n",
    "  -- COUNT(DISTINCT order_id) FILTER(WHERE type = 'Affiliate')::NUMERIC / COUNT(DISTINCT order_id) AS affiliate_orders_percentage,\n",
    "\n",
    "  -- COUNT(DISTINCT order_id) FILTER(WHERE is_metropolitan)::NUMERIC / COUNT(DISTINCT order_id) AS metropolitan_percentage,\n",
    "  -- COUNT(DISTINCT order_id) FILTER(WHERE NOT is_metropolitan)::NUMERIC / COUNT(DISTINCT order_id) AS not_metropolitan_percentage,\n",
    "\n",
    "  -- COUNT(DISTINCT order_id) FILTER(WHERE is_state_capital_city)::NUMERIC / COUNT(DISTINCT order_id) AS state_capital_city_percentage,\n",
    "  -- COUNT(DISTINCT order_id) FILTER(WHERE NOT is_state_capital_city)::NUMERIC / COUNT(DISTINCT order_id) AS not_state_capital_city_percentage\n",
    "FROM all_joined\n",
    "GROUP BY\n",
    "  state,\n",
    "  state_code,\n",
    "  status,\n",
    "  type,\n",
    "  is_metropolitan,\n",
    "  is_state_capital_city"
   ]
  },
  {
   "cell_type": "code",
   "execution_count": 0,
   "metadata": {
    "application/vnd.databricks.v1+cell": {
     "cellMetadata": {
      "byteLimit": 2048000,
      "implicitDf": true,
      "rowLimit": 10000
     },
     "inputWidgets": {},
     "nuid": "58ef2a89-fe14-4f56-bd8f-07d93fac1d30",
     "showTitle": false,
     "title": ""
    }
   },
   "outputs": [
    {
     "output_type": "display_data",
     "data": {
      "text/html": [
       "<style scoped>\n",
       "  .table-result-container {\n",
       "    max-height: 300px;\n",
       "    overflow: auto;\n",
       "  }\n",
       "  table, th, td {\n",
       "    border: 1px solid black;\n",
       "    border-collapse: collapse;\n",
       "  }\n",
       "  th, td {\n",
       "    padding: 5px;\n",
       "  }\n",
       "  th {\n",
       "    text-align: left;\n",
       "  }\n",
       "</style><div class='table-result-container'><table class='table-result'><thead style='background-color: white'><tr><th>num_affected_rows</th><th>num_inserted_rows</th></tr></thead><tbody></tbody></table></div>"
      ]
     },
     "metadata": {
      "application/vnd.databricks.v1+output": {
       "addedWidgets": {},
       "aggData": [],
       "aggError": "",
       "aggOverflow": false,
       "aggSchema": [],
       "aggSeriesLimitReached": false,
       "aggType": "",
       "arguments": {},
       "columnCustomDisplayInfos": {},
       "data": [],
       "datasetInfos": [],
       "dbfsResultPath": null,
       "isJsonSchema": true,
       "metadata": {
        "dataframeName": "_sqldf",
        "executionCount": 68
       },
       "overflow": false,
       "plotOptions": {
        "customPlotOptions": {},
        "displayType": "table",
        "pivotAggregation": null,
        "pivotColumns": null,
        "xColumns": null,
        "yColumns": null
       },
       "removedWidgets": [],
       "schema": [
        {
         "metadata": "{}",
         "name": "num_affected_rows",
         "type": "\"long\""
        },
        {
         "metadata": "{}",
         "name": "num_inserted_rows",
         "type": "\"long\""
        }
       ],
       "type": "table"
      }
     },
     "output_type": "display_data"
    }
   ],
   "source": [
    "%sql\n",
    "\n",
    "CREATE OR REPLACE TABLE hive_metastore.zhastay_yeltay_03_gold.daily_total_revenue\n",
    "USING DELTA\n",
    "AS\n",
    "SELECT\n",
    "o.delivered_on,\n",
    "COUNT(*) AS total_orders,\n",
    "SUM(od.quantity * i.price) AS revenue\n",
    "FROM zhastay_yeltay_02_silver.orders AS o\n",
    "INNER JOIN zhastay_yeltay_02_silver.order_details AS od\n",
    "  ON o.id = od.order_id\n",
    "INNER JOIN zhastay_yeltay_02_silver.items AS i\n",
    "  ON od.item_id = i.id\n",
    "GROUP BY\n",
    "  o.delivered_on\n",
    "ORDER BY\n",
    "  o.delivered_on\n"
   ]
  },
  {
   "cell_type": "code",
   "execution_count": 0,
   "metadata": {
    "application/vnd.databricks.v1+cell": {
     "cellMetadata": {
      "byteLimit": 2048000,
      "implicitDf": true,
      "rowLimit": 10000
     },
     "inputWidgets": {},
     "nuid": "df21b2f1-8093-4f2e-8933-a32ae6639a3c",
     "showTitle": false,
     "title": ""
    }
   },
   "outputs": [
    {
     "output_type": "display_data",
     "data": {
      "text/html": [
       "<style scoped>\n",
       "  .table-result-container {\n",
       "    max-height: 300px;\n",
       "    overflow: auto;\n",
       "  }\n",
       "  table, th, td {\n",
       "    border: 1px solid black;\n",
       "    border-collapse: collapse;\n",
       "  }\n",
       "  th, td {\n",
       "    padding: 5px;\n",
       "  }\n",
       "  th {\n",
       "    text-align: left;\n",
       "  }\n",
       "</style><div class='table-result-container'><table class='table-result'><thead style='background-color: white'><tr><th>num_affected_rows</th><th>num_inserted_rows</th></tr></thead><tbody></tbody></table></div>"
      ]
     },
     "metadata": {
      "application/vnd.databricks.v1+output": {
       "addedWidgets": {},
       "aggData": [],
       "aggError": "",
       "aggOverflow": false,
       "aggSchema": [],
       "aggSeriesLimitReached": false,
       "aggType": "",
       "arguments": {},
       "columnCustomDisplayInfos": {},
       "data": [],
       "datasetInfos": [],
       "dbfsResultPath": null,
       "isJsonSchema": true,
       "metadata": {
        "dataframeName": "_sqldf",
        "executionCount": 71
       },
       "overflow": false,
       "plotOptions": {
        "customPlotOptions": {},
        "displayType": "table",
        "pivotAggregation": null,
        "pivotColumns": null,
        "xColumns": null,
        "yColumns": null
       },
       "removedWidgets": [],
       "schema": [
        {
         "metadata": "{}",
         "name": "num_affected_rows",
         "type": "\"long\""
        },
        {
         "metadata": "{}",
         "name": "num_inserted_rows",
         "type": "\"long\""
        }
       ],
       "type": "table"
      }
     },
     "output_type": "display_data"
    }
   ],
   "source": [
    "%sql\n",
    "CREATE OR REPLACE TABLE hive_metastore.zhastay_yeltay_03_gold.customers_havent_reached_at_least_5_orders_all_weeks\n",
    "USING DELTA\n",
    "AS \n",
    "WITH affiliate_by_weekly_orders AS (\n",
    "  SELECT\n",
    "    c.id AS customer_id,\n",
    "    c.status AS customer_status,\n",
    "    a.city,\n",
    "    a.state,\n",
    "    (CAST(o.created_on AS DATE) - (dayofweek(o.created_on) + 5) % 7) AS monday_of_week,\n",
    "    COUNT(*) AS weekly_total_orders\n",
    "  FROM hive_metastore.zhastay_yeltay_02_silver.addresses AS a\n",
    "  INNER JOIN hive_metastore.zhastay_yeltay_02_silver.orders AS o\n",
    "    ON a.id = o.address_id\n",
    "  INNER JOIN hive_metastore.zhastay_yeltay_02_silver.customers AS c\n",
    "    ON o.customer_id = c.id\n",
    "  GROUP BY\n",
    "    c.id,\n",
    "    c.status,\n",
    "    a.city,\n",
    "    a.state,\n",
    "    monday_of_week\n",
    ")\n",
    "SELECT\n",
    "  city,\n",
    "  state,\n",
    "  customer_id,\n",
    "  COUNT(*) FILTER(WHERE weekly_total_orders >= 5) = 0 AS reached_at_least_5_orders_all_weeks\n",
    "FROM affiliate_by_weekly_orders\n",
    "GROUP BY\n",
    "  city,\n",
    "  state,\n",
    "  customer_id"
   ]
  }
 ],
 "metadata": {
  "application/vnd.databricks.v1+notebook": {
   "dashboards": [
    {
     "elements": [],
     "globalVars": {},
     "guid": "",
     "layoutOption": {
      "grid": true,
      "stack": true
     },
     "nuid": "7a2661ea-0299-43fa-837a-bdd54a9f50f0",
     "origId": 1838011006685113,
     "title": "business_dashboard",
     "version": "DashboardViewV1",
     "width": 1920
    }
   ],
   "environmentMetadata": null,
   "language": "python",
   "notebookMetadata": {
    "mostRecentlyExecutedCommandWithImplicitDF": {
     "commandId": 1838011006685237,
     "dataframes": [
      "_sqldf"
     ]
    },
    "pythonIndentUnit": 4
   },
   "notebookName": "gold_business_queries",
   "widgets": {
    "task": {
     "currentValue": "test_logger",
     "nuid": "e507e93a-a019-4203-a763-5bacfb4f459d",
     "typedWidgetInfo": null,
     "widgetInfo": {
      "widgetType": "text",
      "defaultValue": "test_logger",
      "label": null,
      "name": "task",
      "options": {
       "widgetType": "text",
       "autoCreated": null,
       "validationRegex": null
      }
     }
    }
   }
  }
 },
 "nbformat": 4,
 "nbformat_minor": 0
}
