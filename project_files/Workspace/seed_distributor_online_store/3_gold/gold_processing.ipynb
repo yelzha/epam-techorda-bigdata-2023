{
 "cells": [
  {
   "cell_type": "code",
   "execution_count": 0,
   "metadata": {
    "application/vnd.databricks.v1+cell": {
     "cellMetadata": {
      "byteLimit": 2048000,
      "rowLimit": 10000
     },
     "inputWidgets": {},
     "nuid": "3e3f63b0-d1be-43e8-abd9-024c24f5829e",
     "showTitle": false,
     "title": ""
    }
   },
   "outputs": [],
   "source": [
    "import sys, os\n",
    "sys.path.append(os.path.abspath('/Workspace/Repos/zhastay_yeltay@epam.com/utils/'))\n",
    "\n",
    "from delta.tables import *\n",
    "from pyspark.sql import functions as F\n",
    "from pyspark.sql.types import StructType, StructField, StringType, TimestampType, IntegerType, DateType, LongType\n",
    "\n",
    "from init import source_path, working_path, bronze, silver, gold\n",
    "from init import init_spark\n",
    "from udfs import * \n",
    "init_spark()\n",
    "\n",
    "from util_logger import init_logger\n",
    "dbutils.widgets.text('task', \"test_logger\")\n",
    "logger = init_logger(dbutils.widgets.get('task'))"
   ]
  },
  {
   "cell_type": "markdown",
   "metadata": {
    "application/vnd.databricks.v1+cell": {
     "cellMetadata": {},
     "inputWidgets": {},
     "nuid": "678c3604-3909-4610-af6b-3235214a2c89",
     "showTitle": false,
     "title": ""
    }
   },
   "source": [
    "## 1. Define TOP-5 cities with the largest number of VIP customers and specify the number of such customers for each of the TOP-5 cities. "
   ]
  },
  {
   "cell_type": "code",
   "execution_count": 0,
   "metadata": {
    "application/vnd.databricks.v1+cell": {
     "cellMetadata": {},
     "inputWidgets": {},
     "nuid": "c77c032b-aa16-4e01-a67c-73123bc481da",
     "showTitle": false,
     "title": ""
    }
   },
   "outputs": [],
   "source": [
    "logger.info(\"SQL operation started to populate/update the table 01_cities_by_vip_customer_count.\")"
   ]
  },
  {
   "cell_type": "code",
   "execution_count": 0,
   "metadata": {
    "application/vnd.databricks.v1+cell": {
     "cellMetadata": {
      "byteLimit": 2048000,
      "implicitDf": true,
      "rowLimit": 10000
     },
     "inputWidgets": {},
     "nuid": "d35febb4-35da-4fdb-93f9-bd0fba95520c",
     "showTitle": false,
     "title": ""
    }
   },
   "outputs": [
    {
     "output_type": "display_data",
     "data": {
      "text/html": [
       "<style scoped>\n",
       "  .table-result-container {\n",
       "    max-height: 300px;\n",
       "    overflow: auto;\n",
       "  }\n",
       "  table, th, td {\n",
       "    border: 1px solid black;\n",
       "    border-collapse: collapse;\n",
       "  }\n",
       "  th, td {\n",
       "    padding: 5px;\n",
       "  }\n",
       "  th {\n",
       "    text-align: left;\n",
       "  }\n",
       "</style><div class='table-result-container'><table class='table-result'><thead style='background-color: white'><tr><th>num_affected_rows</th><th>num_inserted_rows</th></tr></thead><tbody></tbody></table></div>"
      ]
     },
     "metadata": {
      "application/vnd.databricks.v1+output": {
       "addedWidgets": {},
       "aggData": [],
       "aggError": "",
       "aggOverflow": false,
       "aggSchema": [],
       "aggSeriesLimitReached": false,
       "aggType": "",
       "arguments": {},
       "columnCustomDisplayInfos": {},
       "data": [],
       "datasetInfos": [],
       "dbfsResultPath": null,
       "isJsonSchema": true,
       "metadata": {
        "dataframeName": "_sqldf",
        "executionCount": 4
       },
       "overflow": false,
       "plotOptions": {
        "customPlotOptions": {},
        "displayType": "table",
        "pivotAggregation": null,
        "pivotColumns": null,
        "xColumns": null,
        "yColumns": null
       },
       "removedWidgets": [],
       "schema": [
        {
         "metadata": "{}",
         "name": "num_affected_rows",
         "type": "\"long\""
        },
        {
         "metadata": "{}",
         "name": "num_inserted_rows",
         "type": "\"long\""
        }
       ],
       "type": "table"
      }
     },
     "output_type": "display_data"
    }
   ],
   "source": [
    "%sql\n",
    "\n",
    "CREATE OR REPLACE TABLE hive_metastore.zhastay_yeltay_03_gold.01_cities_by_vip_customer_count\n",
    "USING DELTA\n",
    "AS \n",
    "WITH cities_by_vip AS (\n",
    "  SELECT\n",
    "    a.city,\n",
    "    COUNT(DISTINCT c.id) AS total_vip_customers\n",
    "  FROM\n",
    "    hive_metastore.zhastay_yeltay_02_silver.addresses AS a\n",
    "    INNER JOIN hive_metastore.zhastay_yeltay_02_silver.orders AS o ON a.id = o.address_id\n",
    "    INNER JOIN hive_metastore.zhastay_yeltay_02_silver.customers AS c ON o.customer_id = c.id\n",
    "  WHERE\n",
    "    c.status = 'VIP'\n",
    "  GROUP BY\n",
    "    a.city\n",
    ")\n",
    "SELECT\n",
    "  city,\n",
    "  total_vip_customers\n",
    "FROM\n",
    "  cities_by_vip\n",
    "ORDER BY\n",
    "  total_vip_customers DESC;"
   ]
  },
  {
   "cell_type": "code",
   "execution_count": 0,
   "metadata": {
    "application/vnd.databricks.v1+cell": {
     "cellMetadata": {},
     "inputWidgets": {},
     "nuid": "4d90ac2e-ff53-4400-b68d-7a4520400e51",
     "showTitle": false,
     "title": ""
    }
   },
   "outputs": [],
   "source": [
    "logger.info(f\"SQL operation completed successfully. Table 01_cities_by_vip_customer_count has been populated/updated and overwritten successfully.\")"
   ]
  },
  {
   "cell_type": "markdown",
   "metadata": {
    "application/vnd.databricks.v1+cell": {
     "cellMetadata": {},
     "inputWidgets": {},
     "nuid": "cfe41d63-c071-4a1b-88e6-678082c2fbf1",
     "showTitle": false,
     "title": ""
    }
   },
   "source": [
    "## 2. Determine whether there were orders and their total number at the address: any combination of street and house number. "
   ]
  },
  {
   "cell_type": "code",
   "execution_count": 0,
   "metadata": {
    "application/vnd.databricks.v1+cell": {
     "cellMetadata": {},
     "inputWidgets": {},
     "nuid": "72740d73-bcf7-4f38-8381-a66a70de29c7",
     "showTitle": false,
     "title": ""
    }
   },
   "outputs": [],
   "source": [
    "logger.info(\"SQL operation started to populate/update the table 02_total_orders_by_address.\")"
   ]
  },
  {
   "cell_type": "code",
   "execution_count": 0,
   "metadata": {
    "application/vnd.databricks.v1+cell": {
     "cellMetadata": {},
     "inputWidgets": {},
     "nuid": "3e38dff3-3e3b-4901-8e8d-6a71ce861b69",
     "showTitle": false,
     "title": ""
    }
   },
   "outputs": [],
   "source": [
    "%sql\n",
    "CREATE OR REPLACE TABLE hive_metastore.zhastay_yeltay_03_gold.02_total_orders_by_address\n",
    "USING DELTA\n",
    "AS \n",
    "WITH total_orders_by_address AS (\n",
    "  SELECT\n",
    "    a.addressline,\n",
    "    COUNT(DISTINCT o.id) AS total_orders\n",
    "  FROM hive_metastore.zhastay_yeltay_02_silver.addresses AS a\n",
    "  INNER JOIN hive_metastore.zhastay_yeltay_02_silver.orders AS o\n",
    "    ON a.id = o.address_id\n",
    "  GROUP BY\n",
    "    a.addressline\n",
    "  ORDER BY\n",
    "    total_orders DESC\n",
    ")\n",
    "SELECT\n",
    "  *\n",
    "FROM total_orders_by_address;"
   ]
  },
  {
   "cell_type": "code",
   "execution_count": 0,
   "metadata": {
    "application/vnd.databricks.v1+cell": {
     "cellMetadata": {},
     "inputWidgets": {},
     "nuid": "6bd22aff-b1ea-4420-bb47-0fdec53259c6",
     "showTitle": false,
     "title": ""
    }
   },
   "outputs": [],
   "source": [
    "logger.info(f\"SQL operation completed successfully. Table 02_total_orders_by_address has been populated/updated and overwritten successfully.\")"
   ]
  },
  {
   "cell_type": "markdown",
   "metadata": {
    "application/vnd.databricks.v1+cell": {
     "cellMetadata": {},
     "inputWidgets": {},
     "nuid": "de7ad802-9902-4aad-87e8-593bd9e126dd",
     "showTitle": false,
     "title": ""
    }
   },
   "source": [
    "## 3. Get the total number of customers in the system as well as their number breakdown by customers’ kinds and types."
   ]
  },
  {
   "cell_type": "code",
   "execution_count": 0,
   "metadata": {
    "application/vnd.databricks.v1+cell": {
     "cellMetadata": {},
     "inputWidgets": {},
     "nuid": "dda7cd81-2be3-488b-a797-7a50881bdef1",
     "showTitle": false,
     "title": ""
    }
   },
   "outputs": [],
   "source": [
    "logger.info(\"SQL operation started to populate/update the table 03_total_customers_by_type_status.\")"
   ]
  },
  {
   "cell_type": "code",
   "execution_count": 0,
   "metadata": {
    "application/vnd.databricks.v1+cell": {
     "cellMetadata": {},
     "inputWidgets": {},
     "nuid": "13d72d0e-0d25-4269-8afd-53646a7fac03",
     "showTitle": false,
     "title": ""
    }
   },
   "outputs": [],
   "source": [
    "%sql\n",
    "CREATE OR REPLACE TABLE hive_metastore.zhastay_yeltay_03_gold.03_total_customers_by_type_status\n",
    "USING DELTA\n",
    "AS \n",
    "WITH total_customer AS (\n",
    "  SELECT\n",
    "    COALESCE(c.type, 'Total') AS type,\n",
    "    COUNT(id) FILTER(WHERE c.status = 'Regular') AS Regulars,\n",
    "    COUNT(id) FILTER(WHERE c.status = 'VIP') AS Vips,\n",
    "    COUNT(id) AS Total\n",
    "  FROM hive_metastore.zhastay_yeltay_02_silver.customers AS c\n",
    "  GROUP BY\n",
    "    c.type\n",
    "  WITH ROLLUP\n",
    ")\n",
    "SELECT\n",
    "  *\n",
    "FROM total_customer\n",
    "ORDER BY type;"
   ]
  },
  {
   "cell_type": "code",
   "execution_count": 0,
   "metadata": {
    "application/vnd.databricks.v1+cell": {
     "cellMetadata": {},
     "inputWidgets": {},
     "nuid": "c2944239-8435-4d2f-b516-94a8a8a47fff",
     "showTitle": false,
     "title": ""
    }
   },
   "outputs": [],
   "source": [
    "logger.info(f\"SQL operation completed successfully. Table 03_total_customers_by_type_status has been populated/updated and overwritten successfully.\")"
   ]
  },
  {
   "cell_type": "markdown",
   "metadata": {
    "application/vnd.databricks.v1+cell": {
     "cellMetadata": {},
     "inputWidgets": {},
     "nuid": "fb6760b5-4366-4b4d-b43c-57d605a1dca3",
     "showTitle": false,
     "title": ""
    }
   },
   "source": [
    "## 4. Get a list of all customers in the system breakdown by their kinds and types."
   ]
  },
  {
   "cell_type": "code",
   "execution_count": 0,
   "metadata": {
    "application/vnd.databricks.v1+cell": {
     "cellMetadata": {},
     "inputWidgets": {},
     "nuid": "0bc0ce43-e251-4f00-b848-2080358f3487",
     "showTitle": false,
     "title": ""
    }
   },
   "outputs": [],
   "source": [
    "logger.info(\"SQL operation started to populate/update the table 04_customer_kinds_types_list.\")"
   ]
  },
  {
   "cell_type": "code",
   "execution_count": 0,
   "metadata": {
    "application/vnd.databricks.v1+cell": {
     "cellMetadata": {},
     "inputWidgets": {},
     "nuid": "19c210a4-5384-430d-b7a7-60b97d4454bd",
     "showTitle": false,
     "title": ""
    }
   },
   "outputs": [],
   "source": [
    "%sql\n",
    "\n",
    "CREATE OR REPLACE TABLE hive_metastore.zhastay_yeltay_03_gold.04_customer_kinds_types_list\n",
    "USING DELTA\n",
    "AS \n",
    "SELECT\n",
    "  type,\n",
    "  status,\n",
    "  array_agg(id) AS ids\n",
    "FROM hive_metastore.zhastay_yeltay_02_silver.customers\n",
    "GROUP BY\n",
    "  type,\n",
    "  status"
   ]
  },
  {
   "cell_type": "code",
   "execution_count": 0,
   "metadata": {
    "application/vnd.databricks.v1+cell": {
     "cellMetadata": {},
     "inputWidgets": {},
     "nuid": "f5f1a2a4-688a-4846-ac76-af606802323e",
     "showTitle": false,
     "title": ""
    }
   },
   "outputs": [],
   "source": [
    "logger.info(f\"SQL operation completed successfully. Table 04_customer_kinds_types_list has been populated/updated and overwritten successfully.\")"
   ]
  },
  {
   "cell_type": "markdown",
   "metadata": {
    "application/vnd.databricks.v1+cell": {
     "cellMetadata": {},
     "inputWidgets": {},
     "nuid": "e881fc66-fe8d-49dc-8e58-7582a1e35625",
     "showTitle": false,
     "title": ""
    }
   },
   "source": [
    "## 5. Get a list of affiliate customers who made less than 5 orders in a week. "
   ]
  },
  {
   "cell_type": "code",
   "execution_count": 0,
   "metadata": {
    "application/vnd.databricks.v1+cell": {
     "cellMetadata": {},
     "inputWidgets": {},
     "nuid": "5339e2ed-95bb-4b39-a68a-b1cae293444f",
     "showTitle": false,
     "title": ""
    }
   },
   "outputs": [],
   "source": [
    "logger.info(\"SQL operation started to populate/update the table 05_affiliate_by_weekly_orders.\")"
   ]
  },
  {
   "cell_type": "code",
   "execution_count": 0,
   "metadata": {
    "application/vnd.databricks.v1+cell": {
     "cellMetadata": {},
     "inputWidgets": {},
     "nuid": "f3f6ec0f-a799-4f42-bcce-35d3af2c036f",
     "showTitle": false,
     "title": ""
    }
   },
   "outputs": [],
   "source": [
    "%sql\n",
    "CREATE OR REPLACE TABLE hive_metastore.zhastay_yeltay_03_gold.05_affiliate_by_weekly_orders\n",
    "USING DELTA\n",
    "AS \n",
    "WITH affiliate_by_weekly_orders AS (\n",
    "  SELECT\n",
    "    c.id AS customer_id,\n",
    "    c.status AS customer_status,\n",
    "    (CAST(o.created_on AS DATE) - (dayofweek(o.created_on) + 5) % 7) AS monday_of_week,\n",
    "    COUNT(*) AS weekly_total_orders\n",
    "  FROM hive_metastore.zhastay_yeltay_02_silver.addresses AS a\n",
    "  INNER JOIN hive_metastore.zhastay_yeltay_02_silver.orders AS o\n",
    "    ON a.id = o.address_id\n",
    "  INNER JOIN hive_metastore.zhastay_yeltay_02_silver.customers AS c\n",
    "    ON o.customer_id = c.id\n",
    "  WHERE\n",
    "    c.type = 'Affiliate'\n",
    "  GROUP BY\n",
    "    c.id,\n",
    "    c.status,\n",
    "    monday_of_week\n",
    ")\n",
    "SELECT\n",
    "  customer_id,\n",
    "  customer_status\n",
    "FROM affiliate_by_weekly_orders\n",
    "GROUP BY\n",
    "  customer_id,\n",
    "  customer_status\n",
    "HAVING\n",
    "  COUNT(*) FILTER(WHERE weekly_total_orders >= 5) = 0"
   ]
  },
  {
   "cell_type": "code",
   "execution_count": 0,
   "metadata": {
    "application/vnd.databricks.v1+cell": {
     "cellMetadata": {},
     "inputWidgets": {},
     "nuid": "302d2663-0a72-47ad-9efd-ca78492bce04",
     "showTitle": false,
     "title": ""
    }
   },
   "outputs": [],
   "source": [
    "logger.info(f\"SQL operation completed successfully. Table 05_affiliate_by_weekly_orders has been populated/updated and overwritten successfully.\")"
   ]
  },
  {
   "cell_type": "markdown",
   "metadata": {
    "application/vnd.databricks.v1+cell": {
     "cellMetadata": {},
     "inputWidgets": {},
     "nuid": "e5fe9816-76e1-4cee-ad1b-f5cf4272a7a0",
     "showTitle": false,
     "title": ""
    }
   },
   "source": [
    "## 6. Get a list of VIP customers and the amount that was paid to each of them as a coupon discount. "
   ]
  },
  {
   "cell_type": "code",
   "execution_count": 0,
   "metadata": {
    "application/vnd.databricks.v1+cell": {
     "cellMetadata": {},
     "inputWidgets": {},
     "nuid": "ab8aa918-e121-4ac3-b90b-b8849d3e23a0",
     "showTitle": false,
     "title": ""
    }
   },
   "outputs": [],
   "source": [
    "logger.info(\"SQL operation started to populate/update the table 06_total_vip_customers_coupon.\")"
   ]
  },
  {
   "cell_type": "code",
   "execution_count": 0,
   "metadata": {
    "application/vnd.databricks.v1+cell": {
     "cellMetadata": {},
     "inputWidgets": {},
     "nuid": "21e7746b-ada1-498c-9fd5-5a0b745b58df",
     "showTitle": false,
     "title": ""
    }
   },
   "outputs": [],
   "source": [
    "%sql\n",
    "CREATE OR REPLACE TABLE hive_metastore.zhastay_yeltay_03_gold.06_total_vip_customers_coupon\n",
    "USING DELTA\n",
    "AS \n",
    "SELECT\n",
    "  c.id AS customer_id,\n",
    "  5 * COUNT(DISTINCT o.id) AS total_coupon_amount\n",
    "FROM hive_metastore.zhastay_yeltay_02_silver.addresses AS a\n",
    "INNER JOIN hive_metastore.zhastay_yeltay_02_silver.orders AS o\n",
    "  ON a.id = o.address_id\n",
    "INNER JOIN hive_metastore.zhastay_yeltay_02_silver.customers AS c\n",
    "  ON o.customer_id = c.id\n",
    "INNER JOIN hive_metastore.zhastay_yeltay_02_silver.metropolitan_cities AS mc\n",
    "  ON a.city = mc.city\n",
    "    AND a.state = mc.state\n",
    "WHERE\n",
    "  c.status = 'VIP'\n",
    "GROUP BY\n",
    "  c.id\n",
    "ORDER BY\n",
    "  total_coupon_amount DESC"
   ]
  },
  {
   "cell_type": "code",
   "execution_count": 0,
   "metadata": {
    "application/vnd.databricks.v1+cell": {
     "cellMetadata": {},
     "inputWidgets": {},
     "nuid": "1e3a9eb6-0e1c-4157-b9b2-92674168d1b7",
     "showTitle": false,
     "title": ""
    }
   },
   "outputs": [],
   "source": [
    "logger.info(f\"SQL operation completed successfully. Table 06_total_vip_customers_coupon has been populated/updated and overwritten successfully.\")"
   ]
  },
  {
   "cell_type": "markdown",
   "metadata": {
    "application/vnd.databricks.v1+cell": {
     "cellMetadata": {},
     "inputWidgets": {},
     "nuid": "2c469343-59b5-4797-99be-d59f35f11195",
     "showTitle": false,
     "title": ""
    }
   },
   "source": [
    "## 7. Find out the average delivery time to a specific city and the average number of orders to specified cities."
   ]
  },
  {
   "cell_type": "code",
   "execution_count": 0,
   "metadata": {
    "application/vnd.databricks.v1+cell": {
     "cellMetadata": {},
     "inputWidgets": {},
     "nuid": "55f7c537-234d-4bc2-9f3b-bf24bac42a54",
     "showTitle": false,
     "title": ""
    }
   },
   "outputs": [],
   "source": [
    "logger.info(\"SQL operation started to populate/update the table 07_average_time_and_order_count_by_city.\")"
   ]
  },
  {
   "cell_type": "code",
   "execution_count": 0,
   "metadata": {
    "application/vnd.databricks.v1+cell": {
     "cellMetadata": {},
     "inputWidgets": {},
     "nuid": "40d7747d-1e91-4fa4-ab0e-8a2632a3377e",
     "showTitle": false,
     "title": ""
    }
   },
   "outputs": [],
   "source": [
    "%sql\n",
    "CREATE OR REPLACE TABLE hive_metastore.zhastay_yeltay_03_gold.07_average_time_and_order_count_by_city\n",
    "USING DELTA\n",
    "AS\n",
    "WITH address_orders AS (\n",
    "    SELECT\n",
    "        a.state,\n",
    "        a.city,\n",
    "        DATE(o.created_on) AS created_date,\n",
    "        SUM(DATE_DIFF(o.delivered_on, o.created_on)) AS sum_date_diff,\n",
    "        COUNT(o.id) AS total_orders\n",
    "    FROM hive_metastore.zhastay_yeltay_02_silver.addresses AS a\n",
    "    INNER JOIN hive_metastore.zhastay_yeltay_02_silver.orders AS o\n",
    "        ON a.id = o.address_id\n",
    "    GROUP BY\n",
    "        a.state,\n",
    "        a.city,\n",
    "        created_date\n",
    ")\n",
    "SELECT\n",
    "  state,\n",
    "  city,\n",
    "  ROUND(SUM(sum_date_diff) / SUM(total_orders), 2) AS avg_delivery_day,\n",
    "  ROUND(AVG(total_orders), 2) AS avg_orders_per_day\n",
    "FROM address_orders\n",
    "GROUP BY\n",
    "  state,\n",
    "  city"
   ]
  },
  {
   "cell_type": "code",
   "execution_count": 0,
   "metadata": {
    "application/vnd.databricks.v1+cell": {
     "cellMetadata": {},
     "inputWidgets": {},
     "nuid": "74e524b9-21ab-4957-a2b7-f53986c110aa",
     "showTitle": false,
     "title": ""
    }
   },
   "outputs": [],
   "source": [
    "logger.info(f\"SQL operation completed successfully. Table 07_average_time_and_order_count_by_city has been populated/updated and overwritten successfully.\")"
   ]
  },
  {
   "cell_type": "markdown",
   "metadata": {
    "application/vnd.databricks.v1+cell": {
     "cellMetadata": {},
     "inputWidgets": {},
     "nuid": "6de832d6-7cd6-4e56-91d7-1094979c49be",
     "showTitle": false,
     "title": ""
    }
   },
   "source": [
    "## 8. Get the overall number and share of orders, delivery time of which exceeds 7 days as well as broken down by the order type. "
   ]
  },
  {
   "cell_type": "code",
   "execution_count": 0,
   "metadata": {
    "application/vnd.databricks.v1+cell": {
     "cellMetadata": {},
     "inputWidgets": {},
     "nuid": "a10e6033-d319-4305-8a9c-490539cc3d4f",
     "showTitle": false,
     "title": ""
    }
   },
   "outputs": [],
   "source": [
    "logger.info(\"SQL operation started to populate/update the table 08_order_delays_by_order_type.\")"
   ]
  },
  {
   "cell_type": "code",
   "execution_count": 0,
   "metadata": {
    "application/vnd.databricks.v1+cell": {
     "cellMetadata": {},
     "inputWidgets": {},
     "nuid": "3ed12639-9c13-49bb-a275-05b83ff14cc3",
     "showTitle": false,
     "title": ""
    }
   },
   "outputs": [],
   "source": [
    "%sql\n",
    "CREATE OR REPLACE TABLE hive_metastore.zhastay_yeltay_03_gold.08_order_delays_by_order_type\n",
    "USING DELTA\n",
    "AS\n",
    "SELECT\n",
    "  CASE WHEN mc.metropolitan IS NOT NULL THEN 'Metropolitan' ELSE 'Regional' END AS order_type,\n",
    "  COUNT(*) FILTER(WHERE DATE_DIFF(o.delivered_on, o.created_on) > 7) AS total_delayed_orders,\n",
    "  COUNT(*) AS total_orders,\n",
    "  ROUND(100 * (COUNT(*) FILTER(WHERE DATE_DIFF(o.delivered_on, o.created_on) > 7))::NUMERIC / COUNT(*), 2) AS delayed_percentage\n",
    "FROM hive_metastore.zhastay_yeltay_02_silver.orders AS o\n",
    "INNER JOIN hive_metastore.zhastay_yeltay_02_silver.addresses AS a\n",
    "    ON o.address_id = a.id\n",
    "LEFT JOIN hive_metastore.zhastay_yeltay_02_silver.metropolitan_cities as mc\n",
    "    ON mc.state = a.state\n",
    "    AND mc.city = a.city\n",
    "GROUP BY\n",
    "    order_type\n",
    "ORDER BY\n",
    "    delayed_percentage DESC"
   ]
  },
  {
   "cell_type": "code",
   "execution_count": 0,
   "metadata": {
    "application/vnd.databricks.v1+cell": {
     "cellMetadata": {},
     "inputWidgets": {},
     "nuid": "dfe60856-e2c4-4267-ac07-949c28818280",
     "showTitle": false,
     "title": ""
    }
   },
   "outputs": [],
   "source": [
    "logger.info(f\"SQL operation completed successfully. Table 08_order_delays_by_order_type has been populated/updated and overwritten successfully.\")"
   ]
  },
  {
   "cell_type": "markdown",
   "metadata": {
    "application/vnd.databricks.v1+cell": {
     "cellMetadata": {},
     "inputWidgets": {},
     "nuid": "fb0a72bf-edcc-4591-8114-3110e3ba1700",
     "showTitle": false,
     "title": ""
    }
   },
   "source": [
    "## 9. For each state-capital city pair get the total number of orders and the number of orders for the whole state."
   ]
  },
  {
   "cell_type": "code",
   "execution_count": 0,
   "metadata": {
    "application/vnd.databricks.v1+cell": {
     "cellMetadata": {},
     "inputWidgets": {},
     "nuid": "f828429b-0ee3-4272-811d-a1ade4482ca5",
     "showTitle": false,
     "title": ""
    }
   },
   "outputs": [],
   "source": [
    "logger.info(\"SQL operation started to populate/update the table 09_total_orders_by_state_capital.\")"
   ]
  },
  {
   "cell_type": "code",
   "execution_count": 0,
   "metadata": {
    "application/vnd.databricks.v1+cell": {
     "cellMetadata": {},
     "inputWidgets": {},
     "nuid": "103a1c91-6447-4de0-922f-ca518ef0986d",
     "showTitle": false,
     "title": ""
    }
   },
   "outputs": [],
   "source": [
    "%sql\n",
    "CREATE OR REPLACE TABLE hive_metastore.zhastay_yeltay_03_gold.09_total_orders_by_state_capital\n",
    "USING DELTA\n",
    "AS\n",
    "WITH city_total_orders AS (\n",
    "  SELECT\n",
    "    a.state,\n",
    "    a.city,\n",
    "    COUNT(o.id) AS total_orders,\n",
    "    SUM(COUNT(o.id)) OVER(PARTITION BY a.state) AS total_orders_by_state\n",
    "  FROM\n",
    "    hive_metastore.zhastay_yeltay_02_silver.addresses AS a\n",
    "    INNER JOIN hive_metastore.zhastay_yeltay_02_silver.orders AS o ON a.id = o.address_id\n",
    "  GROUP BY\n",
    "    a.state,\n",
    "    a.city\n",
    ")\n",
    "SELECT\n",
    "  state,\n",
    "  city,\n",
    "  total_orders,\n",
    "  total_orders_by_state\n",
    "FROM\n",
    "  city_total_orders\n",
    "WHERE\n",
    "  (state, city) IN (\n",
    "    SELECT\n",
    "      state,\n",
    "      city\n",
    "    FROM\n",
    "      hive_metastore.zhastay_yeltay_02_silver.state_capital_cities\n",
    "  )"
   ]
  },
  {
   "cell_type": "code",
   "execution_count": 0,
   "metadata": {
    "application/vnd.databricks.v1+cell": {
     "cellMetadata": {},
     "inputWidgets": {},
     "nuid": "f3d4cbd8-77f3-4ff5-a3c1-375ebc42df87",
     "showTitle": false,
     "title": ""
    }
   },
   "outputs": [],
   "source": [
    "logger.info(f\"SQL operation completed successfully. Table 09_total_orders_by_state_capital has been populated/updated and overwritten successfully.\")"
   ]
  },
  {
   "cell_type": "markdown",
   "metadata": {
    "application/vnd.databricks.v1+cell": {
     "cellMetadata": {},
     "inputWidgets": {},
     "nuid": "ea91be6b-e2ed-4149-b017-96cae5eed53d",
     "showTitle": false,
     "title": ""
    }
   },
   "source": [
    "## 10. Get complete information on the order and the customer by the given order number. "
   ]
  },
  {
   "cell_type": "code",
   "execution_count": 0,
   "metadata": {
    "application/vnd.databricks.v1+cell": {
     "cellMetadata": {},
     "inputWidgets": {},
     "nuid": "5541047e-e5b2-43d6-9408-77e8ed209d25",
     "showTitle": false,
     "title": ""
    }
   },
   "outputs": [],
   "source": [
    "logger.info(\"SQL operation started to populate/update the table 10_complete_order_customer_by_id.\")"
   ]
  },
  {
   "cell_type": "code",
   "execution_count": 0,
   "metadata": {
    "application/vnd.databricks.v1+cell": {
     "cellMetadata": {},
     "inputWidgets": {},
     "nuid": "7b2e2fb8-d9b3-4612-ad85-da81f035587e",
     "showTitle": false,
     "title": ""
    }
   },
   "outputs": [],
   "source": [
    "%sql\n",
    "CREATE OR REPLACE TABLE hive_metastore.zhastay_yeltay_03_gold.10_complete_order_customer_by_id\n",
    "USING DELTA\n",
    "AS\n",
    "SELECT\n",
    "  o.id AS order_id,\n",
    "  o.created_on AS order_created_on,\n",
    "  i.descriptions AS item_description,\n",
    "  i.price AS item_price,\n",
    "  od.quantity AS item_quantity,\n",
    "  i.price * od.quantity AS total_item_price,\n",
    "  SUM(i.price * od.quantity) OVER() AS total_order_price,\n",
    "  o.customer_id,\n",
    "  c.type AS customer_type,\n",
    "  c.status AS customer_status,\n",
    "  a.addressline AS delivery_addressline,\n",
    "  a.city AS delivery_city,\n",
    "  a.state AS delivery_state,\n",
    "  a.country AS delivery_country,\n",
    "  mc.metropolitan IS NOT NULL AS is_city_metropolitan,\n",
    "  scc.state IS NOT NULL AS is_city_state_capital\n",
    "FROM hive_metastore.zhastay_yeltay_02_silver.orders AS o\n",
    "INNER JOIN hive_metastore.zhastay_yeltay_02_silver.order_details AS od\n",
    "  ON od.order_id = o.id\n",
    "INNER JOIN hive_metastore.zhastay_yeltay_02_silver.items AS i\n",
    "  ON i.id = od.item_id\n",
    "\n",
    "INNER JOIN hive_metastore.zhastay_yeltay_02_silver.customers AS c\n",
    "  ON o.customer_id = c.id\n",
    "\n",
    "INNER JOIN hive_metastore.zhastay_yeltay_02_silver.addresses AS a\n",
    "  ON a.id = o.address_id\n",
    "LEFT JOIN hive_metastore.zhastay_yeltay_02_silver.metropolitan_cities AS mc\n",
    "  ON a.state = mc.state\n",
    "  AND a.city = mc.city\n",
    "LEFT JOIN hive_metastore.zhastay_yeltay_02_silver.state_capital_cities AS scc\n",
    "  ON a.state = scc.state\n",
    "  AND a.city = scc.city\n",
    "WHERE\n",
    "  o.id = '2987'"
   ]
  },
  {
   "cell_type": "code",
   "execution_count": 0,
   "metadata": {
    "application/vnd.databricks.v1+cell": {
     "cellMetadata": {},
     "inputWidgets": {},
     "nuid": "23523ebd-d496-44aa-a5ce-dc4bd87b0223",
     "showTitle": false,
     "title": ""
    }
   },
   "outputs": [],
   "source": [
    "logger.info(f\"SQL operation completed successfully. Table 10_complete_order_customer_by_id has been populated/updated and overwritten successfully.\")"
   ]
  },
  {
   "cell_type": "markdown",
   "metadata": {
    "application/vnd.databricks.v1+cell": {
     "cellMetadata": {},
     "inputWidgets": {},
     "nuid": "0f53d10a-e54f-4c49-b6c7-4e0430ff251d",
     "showTitle": false,
     "title": ""
    }
   },
   "source": [
    "## 11. Get a list of orders for each of the states for one month. "
   ]
  },
  {
   "cell_type": "code",
   "execution_count": 0,
   "metadata": {
    "application/vnd.databricks.v1+cell": {
     "cellMetadata": {},
     "inputWidgets": {},
     "nuid": "76070eb0-53c6-414a-83d3-4e62db48ccf0",
     "showTitle": false,
     "title": ""
    }
   },
   "outputs": [],
   "source": [
    "logger.info(\"SQL operation started to populate/update the table 11_monthly_orders_by_state.\")"
   ]
  },
  {
   "cell_type": "code",
   "execution_count": 0,
   "metadata": {
    "application/vnd.databricks.v1+cell": {
     "cellMetadata": {},
     "inputWidgets": {},
     "nuid": "83926d78-1026-4240-a687-8909587621cf",
     "showTitle": false,
     "title": ""
    }
   },
   "outputs": [],
   "source": [
    "%sql\n",
    "CREATE OR REPLACE TABLE hive_metastore.zhastay_yeltay_03_gold.11_monthly_orders_by_state\n",
    "USING DELTA\n",
    "AS\n",
    "SELECT\n",
    "    a.state,\n",
    "    EXTRACT(YEAR FROM o.created_on) AS order_year,\n",
    "    EXTRACT(MONTH FROM o.created_on) AS order_month,\n",
    "    -- COUNT(o.id) AS total_orders,\n",
    "    ARRAY_AGG(o.id) AS order_ids\n",
    "FROM hive_metastore.zhastay_yeltay_02_silver.addresses AS a\n",
    "INNER JOIN hive_metastore.zhastay_yeltay_02_silver.orders AS o\n",
    "    ON a.id = o.address_id\n",
    "GROUP BY\n",
    "    a.state,\n",
    "    order_year,\n",
    "    order_month\n",
    "ORDER BY\n",
    "    order_year,\n",
    "    order_month,\n",
    "    a.state"
   ]
  },
  {
   "cell_type": "code",
   "execution_count": 0,
   "metadata": {
    "application/vnd.databricks.v1+cell": {
     "cellMetadata": {},
     "inputWidgets": {},
     "nuid": "5c9bc842-5f72-475a-b81c-35af2493d944",
     "showTitle": false,
     "title": ""
    }
   },
   "outputs": [],
   "source": [
    "logger.info(f\"SQL operation completed successfully. Table 11_monthly_orders_by_state has been populated/updated and overwritten successfully.\")"
   ]
  },
  {
   "cell_type": "markdown",
   "metadata": {
    "application/vnd.databricks.v1+cell": {
     "cellMetadata": {},
     "inputWidgets": {},
     "nuid": "1e8d48f8-b001-4b9c-aec9-4f2eada70208",
     "showTitle": false,
     "title": ""
    }
   },
   "source": [
    "## 12. Get the number and list of orders made by each affiliate customer. "
   ]
  },
  {
   "cell_type": "code",
   "execution_count": 0,
   "metadata": {
    "application/vnd.databricks.v1+cell": {
     "cellMetadata": {},
     "inputWidgets": {},
     "nuid": "7bc05fd4-8091-42a9-bd55-2142d76c4717",
     "showTitle": false,
     "title": ""
    }
   },
   "outputs": [],
   "source": [
    "logger.info(\"SQL operation started to populate/update the table 12_affiliate_customer_orders.\")"
   ]
  },
  {
   "cell_type": "code",
   "execution_count": 0,
   "metadata": {
    "application/vnd.databricks.v1+cell": {
     "cellMetadata": {},
     "inputWidgets": {},
     "nuid": "19707784-207d-46c3-a10d-f9ff659e1b3a",
     "showTitle": false,
     "title": ""
    }
   },
   "outputs": [],
   "source": [
    "%sql\n",
    "CREATE OR REPLACE TABLE hive_metastore.zhastay_yeltay_03_gold.12_affiliate_customer_orders\n",
    "USING DELTA\n",
    "AS\n",
    "SELECT\n",
    "    c.id AS customer_id,\n",
    "    COUNT(o.id) AS total_order\n",
    "FROM hive_metastore.zhastay_yeltay_02_silver.customers AS c\n",
    "INNER JOIN hive_metastore.zhastay_yeltay_02_silver.orders AS o\n",
    "    ON o.customer_id = c.id\n",
    "WHERE\n",
    "    c.type = 'Affiliate'\n",
    "GROUP BY\n",
    "    c.id\n",
    "ORDER BY\n",
    "    c.id"
   ]
  },
  {
   "cell_type": "code",
   "execution_count": 0,
   "metadata": {
    "application/vnd.databricks.v1+cell": {
     "cellMetadata": {},
     "inputWidgets": {},
     "nuid": "d9f88377-3325-4ec0-8d69-d3eb3d672498",
     "showTitle": false,
     "title": ""
    }
   },
   "outputs": [],
   "source": [
    "logger.info(f\"SQL operation completed successfully. Table 12_affiliate_customer_orders has been populated/updated and overwritten successfully.\")"
   ]
  },
  {
   "cell_type": "markdown",
   "metadata": {
    "application/vnd.databricks.v1+cell": {
     "cellMetadata": {},
     "inputWidgets": {},
     "nuid": "09525738-24a1-4c4e-9cce-6eb646490825",
     "showTitle": false,
     "title": ""
    }
   },
   "source": [
    "## 13. Define the number of orders that were delivered to a specific customer for the entire time and for the certain period. "
   ]
  },
  {
   "cell_type": "code",
   "execution_count": 0,
   "metadata": {
    "application/vnd.databricks.v1+cell": {
     "cellMetadata": {},
     "inputWidgets": {},
     "nuid": "678ad6de-5e98-4cd9-8e22-3b3bd83a3b4e",
     "showTitle": false,
     "title": ""
    }
   },
   "outputs": [],
   "source": [
    "logger.info(\"SQL operation started to populate/update the table 13_customer_total_order_delivered.\")"
   ]
  },
  {
   "cell_type": "code",
   "execution_count": 0,
   "metadata": {
    "application/vnd.databricks.v1+cell": {
     "cellMetadata": {},
     "inputWidgets": {},
     "nuid": "0773dea6-00fe-4030-9f66-7d2da2c6073d",
     "showTitle": false,
     "title": ""
    }
   },
   "outputs": [],
   "source": [
    "%sql\n",
    "CREATE OR REPLACE TABLE hive_metastore.zhastay_yeltay_03_gold.13_customer_total_order_delivered\n",
    "USING DELTA\n",
    "AS\n",
    "SELECT\n",
    "    c.id,\n",
    "    o.delivered_on,\n",
    "    COUNT(*) AS daily_total_orders,\n",
    "    COUNT(*) OVER(PARTITION BY c.id) AS total_orders\n",
    "    -- COUNT(*) FILTER(WHERE o.delivered_on BETWEEN '2020-01-01' AND '2020-02-01') AS total_orders_by_certain_period\n",
    "FROM hive_metastore.zhastay_yeltay_02_silver.orders AS o\n",
    "INNER JOIN hive_metastore.zhastay_yeltay_02_silver.customers AS c\n",
    "    ON o.customer_id = c.id\n",
    "GROUP BY\n",
    "    c.id,\n",
    "    o.delivered_on\n",
    "ORDER BY\n",
    "    c.id,\n",
    "    o.delivered_on"
   ]
  },
  {
   "cell_type": "code",
   "execution_count": 0,
   "metadata": {
    "application/vnd.databricks.v1+cell": {
     "cellMetadata": {},
     "inputWidgets": {},
     "nuid": "8f55b258-185b-425a-bee4-e955753deea1",
     "showTitle": false,
     "title": ""
    }
   },
   "outputs": [],
   "source": [
    "logger.info(f\"SQL operation completed successfully. Table 13_customer_total_order_delivered has been populated/updated and overwritten successfully.\")"
   ]
  },
  {
   "cell_type": "markdown",
   "metadata": {
    "application/vnd.databricks.v1+cell": {
     "cellMetadata": {},
     "inputWidgets": {},
     "nuid": "8c40a441-5eac-4087-ba61-6e54932e99bf",
     "showTitle": false,
     "title": ""
    }
   },
   "source": [
    "## 14. Get a list and the total number of orders shipped on a specific day in a specific city."
   ]
  },
  {
   "cell_type": "code",
   "execution_count": 0,
   "metadata": {
    "application/vnd.databricks.v1+cell": {
     "cellMetadata": {},
     "inputWidgets": {},
     "nuid": "a9389634-a695-4fb8-b5b0-159f953b0b3e",
     "showTitle": false,
     "title": ""
    }
   },
   "outputs": [],
   "source": [
    "logger.info(\"SQL operation started to populate/update the table 14_daily_orders_by_city.\")"
   ]
  },
  {
   "cell_type": "code",
   "execution_count": 0,
   "metadata": {
    "application/vnd.databricks.v1+cell": {
     "cellMetadata": {},
     "inputWidgets": {},
     "nuid": "55a9e5a6-1c1e-4f5a-8376-bda8c978ac24",
     "showTitle": false,
     "title": ""
    }
   },
   "outputs": [],
   "source": [
    "%sql\n",
    "CREATE OR REPLACE TABLE hive_metastore.zhastay_yeltay_03_gold.14_daily_orders_by_city\n",
    "USING DELTA\n",
    "AS\n",
    "SELECT\n",
    "    a.city,\n",
    "    o.delivered_on,\n",
    "    COUNT(*) AS daily_total_orders\n",
    "FROM hive_metastore.zhastay_yeltay_02_silver.orders AS o\n",
    "INNER JOIN hive_metastore.zhastay_yeltay_02_silver.addresses AS a\n",
    "    ON o.address_id = a.id\n",
    "GROUP BY\n",
    "    a.city,\n",
    "    o.delivered_on\n",
    "ORDER BY\n",
    "    a.city,\n",
    "    o.delivered_on"
   ]
  },
  {
   "cell_type": "code",
   "execution_count": 0,
   "metadata": {
    "application/vnd.databricks.v1+cell": {
     "cellMetadata": {},
     "inputWidgets": {},
     "nuid": "11a80ee4-4a40-4799-a125-36d3d5bbf7e2",
     "showTitle": false,
     "title": ""
    }
   },
   "outputs": [],
   "source": [
    "logger.info(f\"SQL operation completed successfully. Table 14_daily_orders_by_city has been populated/updated and overwritten successfully.\")"
   ]
  }
 ],
 "metadata": {
  "application/vnd.databricks.v1+notebook": {
   "dashboards": [],
   "environmentMetadata": null,
   "language": "python",
   "notebookMetadata": {
    "mostRecentlyExecutedCommandWithImplicitDF": {
     "commandId": 1219948954307996,
     "dataframes": [
      "_sqldf"
     ]
    },
    "pythonIndentUnit": 4
   },
   "notebookName": "gold_processing",
   "widgets": {
    "test": {
     "currentValue": "False",
     "nuid": "f316c0c3-9d8e-4c3c-838e-a4e5dafbd8c6",
     "typedWidgetInfo": null,
     "widgetInfo": {
      "widgetType": "text",
      "defaultValue": "False",
      "label": null,
      "name": "test",
      "options": {
       "widgetType": "text",
       "autoCreated": null,
       "validationRegex": null
      }
     }
    }
   }
  }
 },
 "nbformat": 4,
 "nbformat_minor": 0
}
