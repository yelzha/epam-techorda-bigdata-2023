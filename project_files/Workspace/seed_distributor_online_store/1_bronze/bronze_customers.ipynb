{
 "cells": [
  {
   "cell_type": "code",
   "execution_count": 0,
   "metadata": {
    "application/vnd.databricks.v1+cell": {
     "cellMetadata": {
      "byteLimit": 2048000,
      "rowLimit": 10000
     },
     "inputWidgets": {},
     "nuid": "339d8db8-9582-441e-9777-39f86196c7db",
     "showTitle": false,
     "title": ""
    }
   },
   "outputs": [],
   "source": [
    "import sys, os\n",
    "sys.path.append(os.path.abspath('/Workspace/Repos/zhastay_yeltay@epam.com/utils/'))\n",
    "\n",
    "from delta.tables import *\n",
    "from pyspark.sql import functions as F\n",
    "\n",
    "from init import source_path, working_path, bronze, silver, gold\n",
    "from init import init_spark\n",
    "init_spark()\n",
    "\n",
    "from util_logger import init_logger\n",
    "dbutils.widgets.text('task', \"test_logger\")\n",
    "logger = init_logger(dbutils.widgets.get('task'))"
   ]
  },
  {
   "cell_type": "markdown",
   "metadata": {
    "application/vnd.databricks.v1+cell": {
     "cellMetadata": {},
     "inputWidgets": {},
     "nuid": "4b77e1b9-528c-417d-9d4c-3522204b7cef",
     "showTitle": false,
     "title": ""
    }
   },
   "source": [
    "## Customers"
   ]
  },
  {
   "cell_type": "code",
   "execution_count": 0,
   "metadata": {
    "application/vnd.databricks.v1+cell": {
     "cellMetadata": {
      "byteLimit": 2048000,
      "rowLimit": 10000
     },
     "inputWidgets": {},
     "nuid": "6523a9f3-a584-4d2d-8067-da5d6a25edd3",
     "showTitle": false,
     "title": ""
    }
   },
   "outputs": [
    {
     "output_type": "execute_result",
     "data": {
      "text/plain": [
       "DataFrame[]"
      ]
     },
     "execution_count": 4,
     "metadata": {},
     "output_type": "execute_result"
    }
   ],
   "source": [
    "try:\n",
    "    # Reading updated customers data\n",
    "    customers_df_upd = spark.read.parquet(f\"{source_path}/customers/\")\n",
    "    logger.info(\n",
    "        \"Updated customers data read successfully from %s.\", f\"{source_path}/customers/\"\n",
    "    )\n",
    "\n",
    "    # Accessing the raw Delta table\n",
    "    customers_df_raw = DeltaTable.forPath(spark, f\"{bronze}/customers/\")\n",
    "    logger.info(\n",
    "        \"Accessed DeltaTable for raw customers data at %s.\", f\"{bronze}/customers/\"\n",
    "    )\n",
    "\n",
    "    # Performing merge operation\n",
    "    customers_df_raw.alias(\"customers\").merge(\n",
    "        customers_df_upd.alias(\"updates\"), \"customers.id = updates.id\"\n",
    "    ).whenMatchedUpdate(\n",
    "        condition=\"\"\"\n",
    "                customers.type != updates.type\n",
    "                OR customers.status != updates.status\n",
    "                OR customers.CreatedOn != updates.CreatedOn\"\"\",\n",
    "        set={\n",
    "            \"type\": \"updates.type\",\n",
    "            \"status\": \"updates.status\",\n",
    "            \"CreatedOn\": \"updates.CreatedOn\",\n",
    "        },\n",
    "    ).whenNotMatchedInsert(\n",
    "        values={\n",
    "            \"id\": \"updates.id\",\n",
    "            \"type\": \"updates.type\",\n",
    "            \"status\": \"updates.status\",\n",
    "            \"CreatedOn\": \"updates.CreatedOn\",\n",
    "        }\n",
    "    ).execute()\n",
    "    logger.info(\"Merge operation executed successfully.\")\n",
    "\n",
    "except Exception as e:\n",
    "    logger.error(\"An error occurred: %s\", e)\n",
    "    raise"
   ]
  },
  {
   "cell_type": "code",
   "execution_count": 0,
   "metadata": {
    "application/vnd.databricks.v1+cell": {
     "cellMetadata": {},
     "inputWidgets": {},
     "nuid": "a46c822e-fc0f-4bef-b19c-0a446bf3dcb7",
     "showTitle": false,
     "title": ""
    }
   },
   "outputs": [],
   "source": []
  }
 ],
 "metadata": {
  "application/vnd.databricks.v1+notebook": {
   "dashboards": [
    {
     "elements": [],
     "globalVars": {},
     "guid": "",
     "layoutOption": {
      "grid": true,
      "stack": true
     },
     "nuid": "1945317b-526c-43e1-8c53-95c26b5344d6",
     "origId": 328367940062566,
     "title": "Untitled",
     "version": "DashboardViewV1",
     "width": 1024
    }
   ],
   "environmentMetadata": null,
   "language": "python",
   "notebookMetadata": {
    "mostRecentlyExecutedCommandWithImplicitDF": {
     "commandId": 3759760084217185,
     "dataframes": [
      "_sqldf"
     ]
    },
    "pythonIndentUnit": 4
   },
   "notebookName": "bronze_customers",
   "widgets": {
    "job": {
     "currentValue": "test_logger",
     "nuid": "d00b4bf6-9c09-4b4f-869d-ae7c6351975b",
     "typedWidgetInfo": null,
     "widgetInfo": {
      "widgetType": "text",
      "defaultValue": "test_logger",
      "label": null,
      "name": "job",
      "options": {
       "widgetType": "text",
       "autoCreated": null,
       "validationRegex": null
      }
     }
    }
   }
  }
 },
 "nbformat": 4,
 "nbformat_minor": 0
}
