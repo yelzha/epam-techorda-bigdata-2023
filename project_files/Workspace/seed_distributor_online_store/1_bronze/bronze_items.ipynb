{
 "cells": [
  {
   "cell_type": "code",
   "execution_count": 0,
   "metadata": {
    "application/vnd.databricks.v1+cell": {
     "cellMetadata": {
      "byteLimit": 2048000,
      "rowLimit": 10000
     },
     "inputWidgets": {},
     "nuid": "339d8db8-9582-441e-9777-39f86196c7db",
     "showTitle": false,
     "title": ""
    }
   },
   "outputs": [],
   "source": [
    "import sys, os\n",
    "sys.path.append(os.path.abspath('/Workspace/Repos/zhastay_yeltay@epam.com/utils/'))\n",
    "\n",
    "from delta.tables import *\n",
    "from pyspark.sql import functions as F\n",
    "\n",
    "from init import *\n",
    "init_spark()\n",
    "\n",
    "from util_logger import init_logger\n",
    "dbutils.widgets.text('task', \"test_logger\")\n",
    "logger = init_logger(dbutils.widgets.get('task'))"
   ]
  },
  {
   "cell_type": "markdown",
   "metadata": {
    "application/vnd.databricks.v1+cell": {
     "cellMetadata": {},
     "inputWidgets": {},
     "nuid": "53b76cf7-491c-4f7a-b408-1e0e5ceb8a12",
     "showTitle": false,
     "title": ""
    }
   },
   "source": [
    "## Items"
   ]
  },
  {
   "cell_type": "code",
   "execution_count": 0,
   "metadata": {
    "application/vnd.databricks.v1+cell": {
     "cellMetadata": {
      "byteLimit": 2048000,
      "rowLimit": 10000
     },
     "inputWidgets": {},
     "nuid": "dea948d3-6d25-4ec8-bb0f-729af78cd2b7",
     "showTitle": false,
     "title": ""
    }
   },
   "outputs": [],
   "source": [
    "try:\n",
    "    # Reading updated items data\n",
    "    items_df_upd = spark.read.parquet(f\"{source_path}/items/\")\n",
    "    logger.info(\"Updated items data read successfully from %s.\", f\"{source_path}/items/\")\n",
    "\n",
    "    # Accessing the raw Delta table\n",
    "    items_df_raw = DeltaTable.forPath(spark, f\"{bronze}/items/\")\n",
    "    logger.info(\"Accessed DeltaTable for raw items data at %s.\", f\"{bronze}/items/\")\n",
    "\n",
    "    # Performing merge operation\n",
    "    items_df_raw.alias(\"items\").merge(\n",
    "        items_df_upd.alias(\"updates\"), \"items.id = updates.id\"\n",
    "    ).whenMatchedUpdate(\n",
    "        condition=\"\"\"\n",
    "                items.Codes != updates.Codes\n",
    "                OR items.Descriptions != updates.Descriptions\n",
    "                OR items.price != updates.price\"\"\",\n",
    "        set={\n",
    "            \"Codes\": \"updates.Codes\",\n",
    "            \"Descriptions\": \"updates.Descriptions\",\n",
    "            \"price\": \"updates.price\",\n",
    "        }\n",
    "    ).whenNotMatchedInsert(\n",
    "        values={\n",
    "            \"Codes\": \"updates.Codes\",\n",
    "            \"Descriptions\": \"updates.Descriptions\",\n",
    "            \"id\": \"updates.id\",\n",
    "            \"price\": \"updates.price\",\n",
    "        }\n",
    "    ).execute()\n",
    "    logger.info(\"Merge operation executed successfully for items data.\")\n",
    "\n",
    "except Exception as e:\n",
    "    logger.error(\"An error occurred during the items data processing: %s\", e)\n",
    "    raise"
   ]
  },
  {
   "cell_type": "code",
   "execution_count": 0,
   "metadata": {
    "application/vnd.databricks.v1+cell": {
     "cellMetadata": {},
     "inputWidgets": {},
     "nuid": "d7be5c66-80c4-42d8-9456-31ff41987611",
     "showTitle": false,
     "title": ""
    }
   },
   "outputs": [],
   "source": []
  }
 ],
 "metadata": {
  "application/vnd.databricks.v1+notebook": {
   "dashboards": [
    {
     "elements": [],
     "globalVars": {},
     "guid": "",
     "layoutOption": {
      "grid": true,
      "stack": true
     },
     "nuid": "1945317b-526c-43e1-8c53-95c26b5344d6",
     "origId": 328367940062582,
     "title": "Untitled",
     "version": "DashboardViewV1",
     "width": 1024
    }
   ],
   "environmentMetadata": null,
   "language": "python",
   "notebookMetadata": {
    "mostRecentlyExecutedCommandWithImplicitDF": {
     "commandId": 3759760084217187,
     "dataframes": [
      "_sqldf"
     ]
    },
    "pythonIndentUnit": 4
   },
   "notebookName": "bronze_items",
   "widgets": {
    "job": {
     "currentValue": "test_logger",
     "nuid": "cdf32780-029e-4d52-a05c-d6c4053fee8c",
     "typedWidgetInfo": null,
     "widgetInfo": {
      "widgetType": "text",
      "defaultValue": "test_logger",
      "label": null,
      "name": "job",
      "options": {
       "widgetType": "text",
       "autoCreated": null,
       "validationRegex": null
      }
     }
    }
   }
  }
 },
 "nbformat": 4,
 "nbformat_minor": 0
}
